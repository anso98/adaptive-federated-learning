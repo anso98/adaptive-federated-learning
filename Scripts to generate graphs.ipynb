{
 "cells": [
  {
   "cell_type": "code",
   "execution_count": 1,
   "metadata": {
    "ExecuteTime": {
     "end_time": "2022-08-22T18:01:47.506497Z",
     "start_time": "2022-08-22T18:01:46.739325Z"
    }
   },
   "outputs": [],
   "source": [
    "import numpy as np\n",
    "from matplotlib import pyplot as plt"
   ]
  },
  {
   "cell_type": "code",
   "execution_count": 29,
   "metadata": {
    "ExecuteTime": {
     "end_time": "2022-08-22T18:17:10.035987Z",
     "start_time": "2022-08-22T18:17:10.028010Z"
    }
   },
   "outputs": [],
   "source": [
    "# LOSS \n",
    "\n",
    "loss_1_node_mal_detec_syst_15_trehs = np.array([0.220357114, 0.220728705, 0.220697813, 0.22078399, 0.22082029])\n",
    "\n",
    "loss_2_node_mal_detec_syst_15_trehs = np.array([0.22095781, 0.221178479, 0.220681788, 0.220723296, 0.22086337])\n",
    "\n",
    "loss_1_node_mal_NO_detec_syst = np.array([0.224696387, 0.232961192, 0.245353813, 0.258573583, 0.274663621])\n",
    "\n",
    "loss_2_node_mal_NO_detec_syst = np.array([0.233155361, 0.25663987, 0.290907233, 0.340227736, 0.398903931])\n",
    "\n",
    "this_list_percentages_data_cases = np.array([0.2, 0.4, 0.6, 0.8, 1])"
   ]
  },
  {
   "cell_type": "code",
   "execution_count": 30,
   "metadata": {
    "ExecuteTime": {
     "end_time": "2022-08-22T18:17:10.260798Z",
     "start_time": "2022-08-22T18:17:10.250470Z"
    }
   },
   "outputs": [
    {
     "name": "stdout",
     "output_type": "stream",
     "text": [
      "[0.22035711 0.2207287  0.22069781 0.22078399 0.22082029]\n",
      "(5,)\n"
     ]
    }
   ],
   "source": [
    "print(loss_1_node_mal_detec_syst_15_trehs)\n",
    "print(this_list_percentages_data_cases.shape)"
   ]
  },
  {
   "cell_type": "code",
   "execution_count": 68,
   "metadata": {
    "ExecuteTime": {
     "end_time": "2022-08-22T23:31:59.265558Z",
     "start_time": "2022-08-22T23:31:58.820995Z"
    },
    "scrolled": true
   },
   "outputs": [
    {
     "data": {
      "text/plain": [
       "<Figure size 432x288 with 0 Axes>"
      ]
     },
     "metadata": {},
     "output_type": "display_data"
    }
   ],
   "source": [
    "plt.plot(this_list_percentages_data_cases, loss_1_node_mal_NO_detec_syst, '-o', label = \"20% malicious nodes, \\n no detection sytem\")\n",
    "plt.plot(this_list_percentages_data_cases, loss_2_node_mal_NO_detec_syst, '-o', label = \"40% malicious nodes, \\n no detection sytem\")    \n",
    "plt.plot(this_list_percentages_data_cases, loss_1_node_mal_detec_syst_15_trehs, '-o', label = \"20% malicious nodes, \\n detection system activated\")\n",
    "plt.plot(this_list_percentages_data_cases, loss_2_node_mal_detec_syst_15_trehs, '-o', label = \"40% malicious nodes, \\n detection system activated\")\n",
    "    #LABEL\n",
    "plt.xlabel(\"Share of Malicious Data (in %)\", fontsize = 14)\n",
    "plt.ylabel(\"Loss\", fontsize = 14)\n",
    "plt.xticks(fontsize=14)\n",
    "plt.yticks(fontsize=14)\n",
    "    #LEGEND\n",
    "plt.legend(title_fontsize=16,loc='center left', bbox_to_anchor=(1, 0.5), prop={\"size\":14}, frameon = False)\n",
    "    #GENERAL\n",
    "plt.subplots_adjust(top=0.85)\n",
    "plt.savefig('detectionSystemLoss', bbox_inches='tight',pad_inches=0.1)\n",
    "\n",
    "plt.clf() # flushes plt\n"
   ]
  },
  {
   "cell_type": "code",
   "execution_count": 52,
   "metadata": {
    "ExecuteTime": {
     "end_time": "2022-08-22T18:41:14.916709Z",
     "start_time": "2022-08-22T18:41:14.912317Z"
    }
   },
   "outputs": [],
   "source": [
    "#Accuracy"
   ]
  },
  {
   "cell_type": "code",
   "execution_count": 53,
   "metadata": {
    "ExecuteTime": {
     "end_time": "2022-08-22T18:44:14.862304Z",
     "start_time": "2022-08-22T18:44:14.853404Z"
    }
   },
   "outputs": [],
   "source": [
    "accuracy_1_node_mal_detec_syst_15_trehs = np.array([0.8704,0.8696,0.8692,0.8691,0.8683])\n",
    "\n",
    "accuracy_2_node_mal_detec_syst_15_trehs = np.array([0.8704,0.869,0.8706,0.8696,0.8687])\n",
    "\n",
    "accuracy_1_node_mal_NO_detec_syst = np.array([0.8714,0.871,0.8691,0.869,0.8699])\n",
    "\n",
    "accuracy_2_node_mal_NO_detec_syst = np.array([0.8696,0.8701,0.8721,0.8685,0.8665])\n",
    "\n",
    "accuracy_list_percentages_data_cases = np.array([0.2, 0.4, 0.6, 0.8, 1])"
   ]
  },
  {
   "cell_type": "code",
   "execution_count": 70,
   "metadata": {
    "ExecuteTime": {
     "end_time": "2022-08-22T23:32:13.915077Z",
     "start_time": "2022-08-22T23:32:13.499661Z"
    }
   },
   "outputs": [
    {
     "data": {
      "text/plain": [
       "<Figure size 432x288 with 0 Axes>"
      ]
     },
     "metadata": {},
     "output_type": "display_data"
    }
   ],
   "source": [
    "plt.plot(this_list_percentages_data_cases, accuracy_1_node_mal_detec_syst_15_trehs, '-o', label = \"20% malicious nodes, \\n no detection sytem\")\n",
    "plt.plot(this_list_percentages_data_cases, accuracy_2_node_mal_detec_syst_15_trehs, '-o', label = \"40% malicious nodes, \\n no detection sytem\")    \n",
    "plt.plot(this_list_percentages_data_cases, accuracy_1_node_mal_NO_detec_syst, '-o', label = \"20% malicious nodes, \\n detection system activated\")\n",
    "plt.plot(this_list_percentages_data_cases, accuracy_2_node_mal_NO_detec_syst, '-o', label = \"40% malicious nodes, \\n detection system activated\")\n",
    "    #LABEL\n",
    "plt.xlabel(\"Share of Malicious Data (in %)\", fontsize = 14)\n",
    "plt.ylabel(\"Accuracy\", fontsize = 14)\n",
    "plt.xticks(fontsize=14)\n",
    "plt.yticks(fontsize=14)\n",
    "plt.ylim([0.8, 0.9])\n",
    "    #LEGEND\n",
    "plt.legend(title_fontsize=16,loc='center left', bbox_to_anchor=(1, 0.5), prop={\"size\":14}, frameon = False)\n",
    "    #GENERAL\n",
    "plt.subplots_adjust(top=0.85)\n",
    "plt.savefig('detectionSystemAccuracy', bbox_inches='tight',pad_inches=0.1)\n",
    "\n",
    "plt.clf() # flushes plt"
   ]
  },
  {
   "cell_type": "code",
   "execution_count": 38,
   "metadata": {
    "ExecuteTime": {
     "end_time": "2022-08-22T18:23:54.538617Z",
     "start_time": "2022-08-22T18:23:54.531924Z"
    }
   },
   "outputs": [],
   "source": [
    "# Percentage of correctly identified malicious nodes"
   ]
  },
  {
   "cell_type": "code",
   "execution_count": 39,
   "metadata": {
    "ExecuteTime": {
     "end_time": "2022-08-22T18:26:39.400516Z",
     "start_time": "2022-08-22T18:26:39.395544Z"
    }
   },
   "outputs": [],
   "source": [
    "Percentage_of_correctly_identified_malicious_nodes_1_node = np.array([91.33,98.67,99.33,99.33,100])\n",
    "\n",
    "Percentage_of_correctly_identified_malicious_nodes_2_nodes = np.array([50.67,89.33,97.33,95.33,96])\n",
    "\n",
    "this_list_percentages_data_cases = np.array([0.2, 0.4, 0.6, 0.8, 1])"
   ]
  },
  {
   "cell_type": "code",
   "execution_count": 71,
   "metadata": {
    "ExecuteTime": {
     "end_time": "2022-08-22T23:33:12.799096Z",
     "start_time": "2022-08-22T23:33:12.397338Z"
    }
   },
   "outputs": [
    {
     "data": {
      "text/plain": [
       "<Figure size 432x288 with 0 Axes>"
      ]
     },
     "metadata": {},
     "output_type": "display_data"
    }
   ],
   "source": [
    "plt.plot(this_list_percentages_data_cases, Percentage_of_correctly_identified_malicious_nodes_1_node, '-o', label = \"40% malicious nodes\")    \n",
    "plt.plot(this_list_percentages_data_cases, Percentage_of_correctly_identified_malicious_nodes_2_nodes, '-o', label = \"20% malicious nodes\")\n",
    "    #LABEL\n",
    "plt.xlabel(\"Share of Malicious Data (in %)\", fontsize = 14)\n",
    "plt.ylabel(\"Perentage of correctly \\n identified malicious nodes (in %)\", fontsize = 14)\n",
    "plt.xticks(fontsize=14)\n",
    "plt.yticks(fontsize=14)\n",
    "    #LEGEND\n",
    "plt.legend(title='% of malicious nodes',title_fontsize=16,loc='center left', bbox_to_anchor=(1, 0.5), prop={\"size\":14}, frameon = False)\n",
    "    #GENERAL\n",
    "plt.subplots_adjust(top=0.85)\n",
    "plt.savefig('rightClassifiedMalicious', bbox_inches='tight',pad_inches=0.1)\n",
    "plt.clf() # flushes plt"
   ]
  },
  {
   "cell_type": "code",
   "execution_count": 46,
   "metadata": {
    "ExecuteTime": {
     "end_time": "2022-08-22T18:30:28.870100Z",
     "start_time": "2022-08-22T18:30:28.864779Z"
    }
   },
   "outputs": [],
   "source": [
    "# Percentage of correctly identified malicious nodes"
   ]
  },
  {
   "cell_type": "code",
   "execution_count": 50,
   "metadata": {
    "ExecuteTime": {
     "end_time": "2022-08-22T18:32:24.515775Z",
     "start_time": "2022-08-22T18:32:24.507005Z"
    }
   },
   "outputs": [],
   "source": [
    "Percentage_of_correctly_identified_healthy_nodes_1_node = np.array([93.45,92.68,93.49,93.96,94.13])\n",
    "\n",
    "Percentage_of_correctly_identified_healthy_nodes_2_nodes = np.array([95.50,92.68,93.50,92.68,91.59])\n",
    "\n",
    "this_list_percentages_data_cases = np.array([0.2, 0.4, 0.6, 0.8, 1])"
   ]
  },
  {
   "cell_type": "code",
   "execution_count": 72,
   "metadata": {
    "ExecuteTime": {
     "end_time": "2022-08-22T23:33:40.205830Z",
     "start_time": "2022-08-22T23:33:39.836749Z"
    }
   },
   "outputs": [
    {
     "data": {
      "text/plain": [
       "<Figure size 432x288 with 0 Axes>"
      ]
     },
     "metadata": {},
     "output_type": "display_data"
    }
   ],
   "source": [
    "plt.plot(this_list_percentages_data_cases, Percentage_of_correctly_identified_healthy_nodes_1_node, '-o', label = \"40% malicious nodes\")    \n",
    "plt.plot(this_list_percentages_data_cases, Percentage_of_correctly_identified_healthy_nodes_2_nodes, '-o', label = \"20% malicious nodes\")\n",
    "    #LABEL\n",
    "plt.xlabel(\"Share of Malicious Data (in %)\", fontsize = 14)\n",
    "plt.ylabel(\"Perentage of correctly \\n identified healthy nodes (in %)\", fontsize = 14)\n",
    "plt.xticks(fontsize=14)\n",
    "plt.yticks(fontsize=14)\n",
    "plt.ylim([50, 100])\n",
    "    #LEGEND\n",
    "plt.legend(title='% of malicious nodes',title_fontsize=16,loc='center left', bbox_to_anchor=(1, 0.5), prop={\"size\":14}, frameon = False)\n",
    "    #GENERAL\n",
    "plt.subplots_adjust(top=0.85)\n",
    "plt.savefig('rightClassifiedHealthy', bbox_inches='tight',pad_inches=0.1)\n",
    "plt.clf() # flushes plt"
   ]
  },
  {
   "cell_type": "code",
   "execution_count": null,
   "metadata": {},
   "outputs": [],
   "source": []
  }
 ],
 "metadata": {
  "kernelspec": {
   "display_name": "Python 3",
   "language": "python",
   "name": "python3"
  },
  "language_info": {
   "codemirror_mode": {
    "name": "ipython",
    "version": 3
   },
   "file_extension": ".py",
   "mimetype": "text/x-python",
   "name": "python",
   "nbconvert_exporter": "python",
   "pygments_lexer": "ipython3",
   "version": "3.8.6"
  },
  "toc": {
   "base_numbering": 1,
   "nav_menu": {},
   "number_sections": true,
   "sideBar": true,
   "skip_h1_title": false,
   "title_cell": "Table of Contents",
   "title_sidebar": "Contents",
   "toc_cell": false,
   "toc_position": {},
   "toc_section_display": true,
   "toc_window_display": false
  }
 },
 "nbformat": 4,
 "nbformat_minor": 4
}
