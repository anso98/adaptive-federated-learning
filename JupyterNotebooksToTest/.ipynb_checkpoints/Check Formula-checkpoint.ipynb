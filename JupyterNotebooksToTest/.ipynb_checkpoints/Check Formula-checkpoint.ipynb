{
 "cells": [
  {
   "cell_type": "code",
   "execution_count": 3,
   "metadata": {
    "ExecuteTime": {
     "end_time": "2022-07-28T10:27:08.965441Z",
     "start_time": "2022-07-28T10:27:08.959470Z"
    }
   },
   "outputs": [],
   "source": [
    "import numpy as np\n",
    "import time"
   ]
  },
  {
   "cell_type": "code",
   "execution_count": 4,
   "metadata": {
    "ExecuteTime": {
     "end_time": "2022-07-28T10:27:09.139789Z",
     "start_time": "2022-07-28T10:27:09.135329Z"
    }
   },
   "outputs": [],
   "source": [
    "\n",
    "# Choose weights! \n",
    "# Should I select the mean weights or the total biggest weights?\n",
    "# Probably the mean? \n",
    "\n",
    "time_less_weights =[]\n",
    "time_less_weights.append(time.time())\n",
    "\n"
   ]
  },
  {
   "cell_type": "code",
   "execution_count": 5,
   "metadata": {
    "ExecuteTime": {
     "end_time": "2022-07-28T10:28:19.583604Z",
     "start_time": "2022-07-28T10:28:19.578457Z"
    }
   },
   "outputs": [],
   "source": [
    "max_rounds = 5\n",
    "number_of_parameters = 10\n",
    "number_of_nodes = 3"
   ]
  },
  {
   "cell_type": "code",
   "execution_count": 12,
   "metadata": {
    "ExecuteTime": {
     "end_time": "2022-07-28T10:34:53.723632Z",
     "start_time": "2022-07-28T10:34:53.708667Z"
    }
   },
   "outputs": [
    {
     "name": "stdout",
     "output_type": "stream",
     "text": [
      "(3, 5, 10)\n"
     ]
    },
    {
     "data": {
      "text/plain": [
       "array([[[ 0.,  6.,  0.,  0.,  0.,  0.,  0.,  0.,  0., 16.],\n",
       "        [ 0.,  0.,  0.,  0.,  0.,  0.,  0.,  0.,  0.,  0.],\n",
       "        [ 0.,  0.,  0.,  0.,  2.,  0.,  0., 14.,  0.,  0.],\n",
       "        [ 0.,  0.,  0.,  0.,  0.,  0.,  0.,  0.,  0.,  0.],\n",
       "        [ 0.,  0.,  0.,  0.,  0.,  0.,  0.,  0.,  0.,  0.]],\n",
       "\n",
       "       [[ 0., 20.,  0.,  0.,  0.,  0.,  0.,  0.,  0.,  0.],\n",
       "        [ 0.,  0.,  0.,  0.,  0.,  0., 19.,  0.,  0.,  0.],\n",
       "        [18.,  0.,  0.,  0.,  0.,  0.,  0.,  0.,  0.,  0.],\n",
       "        [ 0.,  0.,  0.,  0.,  0.,  0.,  0.,  0.,  0.,  0.],\n",
       "        [ 0.,  0.,  0.,  0., 23.,  0.,  0.,  0.,  0.,  0.]],\n",
       "\n",
       "       [[ 0.,  0.,  0.,  0.,  0.,  0.,  0.,  0.,  0.,  0.],\n",
       "        [ 0.,  0.,  0.,  0.,  0.,  0.,  0.,  0.,  0.,  0.],\n",
       "        [ 0.,  0.,  0.,  0.,  4.,  0.,  0.,  0.,  1.,  0.],\n",
       "        [ 0., 12.,  0.,  0.,  0.,  0.,  0.,  0.,  0.,  0.],\n",
       "        [ 0.,  0.,  0.,  0.,  0.,  0.,  0.,  0.,  0., 11.]]])"
      ]
     },
     "execution_count": 12,
     "metadata": {},
     "output_type": "execute_result"
    }
   ],
   "source": [
    "weights = np.zeros((number_of_nodes, max_rounds, number_of_parameters))\n",
    "weights[0][0][1] = 6\n",
    "weights[0][2][4] = 2\n",
    "weights[1][4][4] = 23\n",
    "weights[2][2][4] = 4\n",
    "weights[2][2][8] = 1\n",
    "weights[0][2][7] = 14\n",
    "weights[0][0][9] = 16\n",
    "weights[1][2][0] = 18\n",
    "weights[1][1][6] = 19\n",
    "weights[1][0][1] = 20\n",
    "weights[2][4][9] = 11\n",
    "weights[2][3][1] = 12\n",
    "\n",
    "\n",
    "print(weights.shape)\n",
    "weights"
   ]
  },
  {
   "cell_type": "code",
   "execution_count": null,
   "metadata": {},
   "outputs": [],
   "source": [
    "´"
   ]
  },
  {
   "cell_type": "code",
   "execution_count": 14,
   "metadata": {
    "ExecuteTime": {
     "end_time": "2022-07-28T10:35:10.167609Z",
     "start_time": "2022-07-28T10:35:10.160749Z"
    }
   },
   "outputs": [],
   "source": [
    " # Get the mean\n",
    "save_all_means = np.zeros((max_rounds, number_of_parameters))\n",
    "for i in range (0, max_rounds):\n",
    "    means_per_round = np.zeros((number_of_parameters))\n",
    "    for j in range(0, number_of_parameters):\n",
    "        sum_of_parameter = 0\n",
    "        for k in range(0, number_of_nodes):\n",
    "            sum_of_parameter += weights[k][i][j]\n",
    "        sum_of_parameter /= number_of_nodes\n",
    "        means_per_round[j] = sum_of_parameter\n",
    "    save_all_means[i] = means_per_round"
   ]
  },
  {
   "cell_type": "code",
   "execution_count": 15,
   "metadata": {
    "ExecuteTime": {
     "end_time": "2022-07-28T10:35:14.517567Z",
     "start_time": "2022-07-28T10:35:14.509498Z"
    },
    "scrolled": true
   },
   "outputs": [
    {
     "data": {
      "text/plain": [
       "array([[0.        , 8.66666667, 0.        , 0.        , 0.        ,\n",
       "        0.        , 0.        , 0.        , 0.        , 5.33333333],\n",
       "       [0.        , 0.        , 0.        , 0.        , 0.        ,\n",
       "        0.        , 6.33333333, 0.        , 0.        , 0.        ],\n",
       "       [6.        , 0.        , 0.        , 0.        , 2.        ,\n",
       "        0.        , 0.        , 4.66666667, 0.33333333, 0.        ],\n",
       "       [0.        , 4.        , 0.        , 0.        , 0.        ,\n",
       "        0.        , 0.        , 0.        , 0.        , 0.        ],\n",
       "       [0.        , 0.        , 0.        , 0.        , 7.66666667,\n",
       "        0.        , 0.        , 0.        , 0.        , 3.66666667]])"
      ]
     },
     "execution_count": 15,
     "metadata": {},
     "output_type": "execute_result"
    }
   ],
   "source": [
    "save_all_means"
   ]
  },
  {
   "cell_type": "code",
   "execution_count": 17,
   "metadata": {
    "ExecuteTime": {
     "end_time": "2022-07-28T10:36:26.134563Z",
     "start_time": "2022-07-28T10:36:26.127770Z"
    }
   },
   "outputs": [
    {
     "name": "stdout",
     "output_type": "stream",
     "text": [
      "We just got the means 548.1385560035706\n"
     ]
    }
   ],
   "source": [
    "\n",
    "time_less_weights.append(time.time())\n",
    "print(\"We just got the means\",  time_less_weights[1]-time_less_weights[0])\n",
    "\n",
    "number_of_weights_concidered = 3\n",
    "indicies_larges_weights = np.zeros((max_rounds,number_of_weights_concidered))"
   ]
  },
  {
   "cell_type": "code",
   "execution_count": 18,
   "metadata": {
    "ExecuteTime": {
     "end_time": "2022-07-28T10:36:36.295440Z",
     "start_time": "2022-07-28T10:36:36.287713Z"
    },
    "scrolled": true
   },
   "outputs": [
    {
     "data": {
      "text/plain": [
       "array([[0., 0., 0.],\n",
       "       [0., 0., 0.],\n",
       "       [0., 0., 0.],\n",
       "       [0., 0., 0.],\n",
       "       [0., 0., 0.]])"
      ]
     },
     "execution_count": 18,
     "metadata": {},
     "output_type": "execute_result"
    }
   ],
   "source": [
    "indicies_larges_weights"
   ]
  },
  {
   "cell_type": "code",
   "execution_count": 20,
   "metadata": {
    "ExecuteTime": {
     "end_time": "2022-07-28T10:37:14.766980Z",
     "start_time": "2022-07-28T10:37:14.741570Z"
    }
   },
   "outputs": [
    {
     "name": "stdout",
     "output_type": "stream",
     "text": [
      "Len all means 5\n",
      "counter 1\n",
      "[1. 9. 8.]\n",
      "counter 2\n",
      "[6. 9. 8.]\n",
      "counter 3\n",
      "[0. 7. 4.]\n",
      "counter 4\n",
      "[1. 9. 8.]\n",
      "counter 5\n",
      "[4. 9. 8.]\n"
     ]
    }
   ],
   "source": [
    "print(\"Len all means\", len(save_all_means))\n",
    "counter = 0\n",
    "for row in range(len(save_all_means)):\n",
    "    indicies_larges_weights[row] = save_all_means[row].argsort()[-3:][::-1] #second bracket turns out around\n",
    "    counter += 1\n",
    "    print(\"counter\", counter)\n",
    "    print(indicies_larges_weights[row])\n",
    "#indicies_larges_weights = np.argpartition(save_all_means, -10)[-10:]\n",
    "\n"
   ]
  },
  {
   "cell_type": "code",
   "execution_count": 22,
   "metadata": {
    "ExecuteTime": {
     "end_time": "2022-07-28T10:43:01.523842Z",
     "start_time": "2022-07-28T10:43:01.515418Z"
    },
    "scrolled": true
   },
   "outputs": [
    {
     "name": "stdout",
     "output_type": "stream",
     "text": [
      "Shape Indicies largest weights (5, 3)\n",
      "We just got the biggest indices 8.854238986968994\n"
     ]
    }
   ],
   "source": [
    "\n",
    "print(\"Shape Indicies largest weights\", indicies_larges_weights.shape)\n",
    "\n",
    "time_less_weights.append(time.time()) #2\n",
    "print(\"We just got the biggest indices\", time_less_weights[2]-time_less_weights[1])\n"
   ]
  },
  {
   "cell_type": "code",
   "execution_count": 27,
   "metadata": {
    "ExecuteTime": {
     "end_time": "2022-07-28T10:44:24.754021Z",
     "start_time": "2022-07-28T10:44:24.742689Z"
    },
    "scrolled": true
   },
   "outputs": [
    {
     "name": "stdout",
     "output_type": "stream",
     "text": [
      "6.0\n",
      "16.0\n",
      "0.0\n",
      "20.0\n",
      "0.0\n",
      "0.0\n",
      "0.0\n",
      "0.0\n",
      "0.0\n",
      "0.0\n",
      "0.0\n",
      "0.0\n",
      "19.0\n",
      "0.0\n",
      "0.0\n",
      "0.0\n",
      "0.0\n",
      "0.0\n",
      "0.0\n",
      "14.0\n",
      "2.0\n",
      "18.0\n",
      "0.0\n",
      "0.0\n",
      "0.0\n",
      "0.0\n",
      "4.0\n",
      "0.0\n",
      "0.0\n",
      "0.0\n",
      "0.0\n",
      "0.0\n",
      "0.0\n",
      "12.0\n",
      "0.0\n",
      "0.0\n",
      "0.0\n",
      "0.0\n",
      "0.0\n",
      "23.0\n",
      "0.0\n",
      "0.0\n",
      "0.0\n",
      "11.0\n",
      "0.0\n"
     ]
    }
   ],
   "source": [
    "# Maybe I can do this for one round and then keep it for the next 15 rounds or so?\n",
    "# maybe decide for global model which one to take?\n",
    "\n",
    "array_with_mse = np.zeros((number_of_nodes, max_rounds, number_of_weights_concidered))\n",
    "array_with_accum_mse = np.zeros((number_of_nodes, max_rounds))\n",
    "\n",
    "# Get the mse for each node for each round and parameter\n",
    "# sum all paramter mse per node together and give back one value\n",
    "for i in range(0, max_rounds):\n",
    "    for k in range(0, number_of_nodes):\n",
    "        intermediate_sum = 0\n",
    "        for j in range(0, len(indicies_larges_weights[0])):\n",
    "            print(weights[k][i][int(indicies_larges_weights[i][j])])\n",
    "            array_with_mse[k][i][j] = ((save_all_means[i][j] - weights[k][i][int(indicies_larges_weights[i][j])]) ** 2)\n",
    "            intermediate_sum +=  array_with_mse[k][i][j]\n",
    "        intermediate_sum /= number_of_weights_concidered\n",
    "        array_with_accum_mse[k][i] += intermediate_sum"
   ]
  },
  {
   "cell_type": "code",
   "execution_count": 28,
   "metadata": {
    "ExecuteTime": {
     "end_time": "2022-07-28T10:48:30.705181Z",
     "start_time": "2022-07-28T10:48:30.696411Z"
    }
   },
   "outputs": [
    {
     "data": {
      "text/plain": [
       "array([[[ 36.        ,  53.77777778,   0.        ],\n",
       "        [  0.        ,   0.        ,   0.        ],\n",
       "        [ 36.        , 196.        ,   4.        ],\n",
       "        [  0.        ,  16.        ,   0.        ],\n",
       "        [  0.        ,   0.        ,   0.        ]],\n",
       "\n",
       "       [[400.        ,  75.11111111,   0.        ],\n",
       "        [361.        ,   0.        ,   0.        ],\n",
       "        [144.        ,   0.        ,   0.        ],\n",
       "        [  0.        ,  16.        ,   0.        ],\n",
       "        [529.        ,   0.        ,   0.        ]],\n",
       "\n",
       "       [[  0.        ,  75.11111111,   0.        ],\n",
       "        [  0.        ,   0.        ,   0.        ],\n",
       "        [ 36.        ,   0.        ,  16.        ],\n",
       "        [144.        ,  16.        ,   0.        ],\n",
       "        [  0.        , 121.        ,   0.        ]]])"
      ]
     },
     "execution_count": 28,
     "metadata": {},
     "output_type": "execute_result"
    }
   ],
   "source": [
    "array_with_mse"
   ]
  },
  {
   "cell_type": "code",
   "execution_count": 25,
   "metadata": {
    "ExecuteTime": {
     "end_time": "2022-07-28T10:43:58.984806Z",
     "start_time": "2022-07-28T10:43:58.977221Z"
    }
   },
   "outputs": [
    {
     "data": {
      "text/plain": [
       "array([[ 29.92592593,   0.        ,  78.66666667,   5.33333333,\n",
       "          0.        ],\n",
       "       [158.37037037, 120.33333333,  48.        ,   5.33333333,\n",
       "        176.33333333],\n",
       "       [ 25.03703704,   0.        ,  17.33333333,  53.33333333,\n",
       "         40.33333333]])"
      ]
     },
     "execution_count": 25,
     "metadata": {},
     "output_type": "execute_result"
    }
   ],
   "source": [
    "array_with_accum_mse"
   ]
  },
  {
   "cell_type": "code",
   "execution_count": null,
   "metadata": {},
   "outputs": [],
   "source": [
    "# NEXT: check median \n",
    "# MAybe make graph already with array_with_accum_mse to check this!"
   ]
  },
  {
   "cell_type": "code",
   "execution_count": null,
   "metadata": {},
   "outputs": [],
   "source": [
    "\n",
    "        print(\"array_with_accum_mse\", array_with_accum_mse)\n",
    "        time_less_weights.append(time.time()) #3\n",
    "        print(\"We just got the mse for the biggest indices\", time_less_weights[3]-time_less_weights[2])\n",
    "\n",
    "        #median version!\n",
    "        array_median_error_all_nodes = np.zeros((self.max_rounds))\n",
    "        array_median_error_all_nodes = np.median(array_with_accum_mse, axis = 0)\n",
    "        print(\"Arrays with biggest weights:\")\n",
    "        print(array_median_error_all_nodes.shape)\n",
    "        print(array_median_error_all_nodes)\n",
    "\n",
    "        array_relative_idea_4 = np.zeros((self.number_of_nodes, self.max_rounds))\n",
    "\n",
    "        # divide error by all errors to make it relative\n",
    "        for i in range(0, self.max_rounds):\n",
    "            sum_accross_nodes = 0\n",
    "            for k in range(0, self.number_of_nodes):\n",
    "                #if( abs(save_all_means[i][j]) < 1e-25): # check here\n",
    "                    #array_relative_idea_3[k][i] = 0\n",
    "                #else:\n",
    "                array_relative_idea_4[k][i] = array_with_accum_mse[k][i] / array_median_error_all_nodes[i]\n",
    "\n",
    "        time_less_weights.append(time.time()) #4\n",
    "        print(\"We just got the relative idea 4\", time_less_weights[4]-time_less_weights[3])\n",
    "\n",
    "\n",
    "        #Create Folder Path for mse\n",
    "        lim_weights_second_relative_mse_graph = os.path.join(folder_path, 'lim_weights_second_relative_mse_model_param')\n",
    "\n",
    "        print(\"Result array\")\n",
    "        print(array_relative_idea_4.shape) #wie geht das?\n",
    "        print(array_relative_idea_4)\n",
    "\n",
    "        # Plot Array with Accum mse \n",
    "            #PLOTS\n",
    "        for i in range(0, self.number_of_nodes):\n",
    "            if(self.which_node_malicious_array[i] == True):\n",
    "                this_label = str(i+1) + \" (malicious)\" #start counting by 1\n",
    "            else:\n",
    "                this_label = str(i+1) + \" (healthy)\" #start counting by 1\n",
    "            fig1 = plt.plot(array_relative_idea_4[i], label = this_label)\n",
    "            #TITLE\n",
    "        plt.suptitle(\"Relative MSE of model parameters accross all nodes (Case \" + str(self.case) + \")\", fontsize = 18, fontweight = \"bold\")\n",
    "        plt.title(str(self.percentage_of_malicious_nodes) + \"% malicious nodes (\" + str(self.percentage_malicious_data*100) + \"% malicious data) - \" +str(self.number_of_nodes) + \" nodes\", fontsize = 16, pad = 20)\n",
    "            #LABLE\n",
    "        plt.xlabel(\"Update Round\", fontsize = 14)\n",
    "        plt.ylabel(\"Relative MSE of model parameters\", fontsize = 14)\n",
    "        plt.ylim([0,0.0003])\n",
    "        plt.xticks(fontsize=14)\n",
    "        plt.yticks(fontsize=14)\n",
    "        plt.autoscale() \n",
    "            #LEGEND\n",
    "        plt.legend(loc='center left', bbox_to_anchor=(1, 0.5), prop={\"size\":14}, frameon = False, title='Node', title_fontsize=16)\n",
    "            #GENERAL\n",
    "        plt.subplots_adjust(top=0.8)\n",
    "        plt.savefig(lim_weights_second_relative_mse_graph, bbox_inches='tight',pad_inches=0.1)\n",
    "        plt.clf() # flushes plt\n"
   ]
  }
 ],
 "metadata": {
  "kernelspec": {
   "display_name": "Python 3",
   "language": "python",
   "name": "python3"
  },
  "language_info": {
   "codemirror_mode": {
    "name": "ipython",
    "version": 3
   },
   "file_extension": ".py",
   "mimetype": "text/x-python",
   "name": "python",
   "nbconvert_exporter": "python",
   "pygments_lexer": "ipython3",
   "version": "3.8.6"
  },
  "toc": {
   "base_numbering": 1,
   "nav_menu": {},
   "number_sections": true,
   "sideBar": true,
   "skip_h1_title": false,
   "title_cell": "Table of Contents",
   "title_sidebar": "Contents",
   "toc_cell": false,
   "toc_position": {},
   "toc_section_display": true,
   "toc_window_display": false
  }
 },
 "nbformat": 4,
 "nbformat_minor": 4
}
