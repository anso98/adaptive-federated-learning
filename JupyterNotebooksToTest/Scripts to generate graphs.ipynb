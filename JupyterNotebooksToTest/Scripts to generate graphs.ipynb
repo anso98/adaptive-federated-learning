{
 "cells": [
  {
   "cell_type": "code",
   "execution_count": 12,
   "metadata": {
    "ExecuteTime": {
     "end_time": "2022-08-27T15:43:34.399874Z",
     "start_time": "2022-08-27T15:43:33.509762Z"
    }
   },
   "outputs": [],
   "source": [
    "import numpy as np\n",
    "from matplotlib import pyplot as plt"
   ]
  },
  {
   "cell_type": "code",
   "execution_count": 2,
   "metadata": {
    "ExecuteTime": {
     "end_time": "2022-08-25T16:23:44.599661Z",
     "start_time": "2022-08-25T16:23:44.589754Z"
    }
   },
   "outputs": [],
   "source": [
    "# LOSS \n",
    "\n",
    "loss_1_node_mal_detec_syst_15_trehs = np.array([0.220357114, 0.220728705, 0.220697813, 0.22078399, 0.22082029])\n",
    "\n",
    "loss_2_node_mal_detec_syst_15_trehs = np.array([0.22095781, 0.221178479, 0.220681788, 0.220723296, 0.22086337])\n",
    "\n",
    "loss_1_node_mal_NO_detec_syst = np.array([0.224696387, 0.232961192, 0.245353813, 0.258573583, 0.274663621])\n",
    "\n",
    "loss_2_node_mal_NO_detec_syst = np.array([0.233155361, 0.25663987, 0.290907233, 0.340227736, 0.398903931])\n",
    "\n",
    "this_list_percentages_data_cases = np.array([0.2, 0.4, 0.6, 0.8, 1])"
   ]
  },
  {
   "cell_type": "code",
   "execution_count": 3,
   "metadata": {
    "ExecuteTime": {
     "end_time": "2022-08-25T16:23:44.627364Z",
     "start_time": "2022-08-25T16:23:44.612675Z"
    }
   },
   "outputs": [
    {
     "name": "stdout",
     "output_type": "stream",
     "text": [
      "[0.22035711 0.2207287  0.22069781 0.22078399 0.22082029]\n",
      "(5,)\n"
     ]
    }
   ],
   "source": [
    "print(loss_1_node_mal_detec_syst_15_trehs)\n",
    "print(this_list_percentages_data_cases.shape)"
   ]
  },
  {
   "cell_type": "code",
   "execution_count": 10,
   "metadata": {
    "ExecuteTime": {
     "end_time": "2022-08-25T16:25:47.161828Z",
     "start_time": "2022-08-25T16:25:46.676361Z"
    },
    "scrolled": true
   },
   "outputs": [
    {
     "data": {
      "text/plain": [
       "<Figure size 432x288 with 0 Axes>"
      ]
     },
     "metadata": {},
     "output_type": "display_data"
    }
   ],
   "source": [
    "plt.plot(this_list_percentages_data_cases, loss_1_node_mal_NO_detec_syst, '-o', label = \"20% malicious nodes, \\n no detection sytem\")\n",
    "plt.plot(this_list_percentages_data_cases, loss_2_node_mal_NO_detec_syst, '-o', label = \"40% malicious nodes, \\n no detection sytem\")    \n",
    "plt.plot(this_list_percentages_data_cases, loss_1_node_mal_detec_syst_15_trehs, '-o', label = \"20% malicious nodes, \\n detection system activated\")\n",
    "plt.plot(this_list_percentages_data_cases, loss_2_node_mal_detec_syst_15_trehs, '-o', label = \"40% malicious nodes, \\n detection system activated\")\n",
    "    #LABEL\n",
    "plt.xlabel(\"Share of Malicious Data (in %)\", fontsize = 20)\n",
    "plt.ylabel(\"Loss\", fontsize = 20)\n",
    "plt.xticks(fontsize=20)\n",
    "plt.yticks(fontsize=20)\n",
    "    #LEGEND\n",
    "plt.legend(title_fontsize=20,loc='center left', bbox_to_anchor=(1, 0.5), prop={\"size\":18}, frameon = False)\n",
    "    #GENERAL\n",
    "plt.subplots_adjust(top=0.85)\n",
    "plt.savefig('detectionSystemLoss_big', bbox_inches='tight',pad_inches=0.1)\n",
    "\n",
    "plt.clf() # flushes plt\n"
   ]
  },
  {
   "cell_type": "code",
   "execution_count": 11,
   "metadata": {
    "ExecuteTime": {
     "end_time": "2022-08-25T16:25:47.669763Z",
     "start_time": "2022-08-25T16:25:47.663079Z"
    }
   },
   "outputs": [],
   "source": [
    "#Accuracy"
   ]
  },
  {
   "cell_type": "code",
   "execution_count": 12,
   "metadata": {
    "ExecuteTime": {
     "end_time": "2022-08-25T16:25:48.339933Z",
     "start_time": "2022-08-25T16:25:48.330942Z"
    }
   },
   "outputs": [],
   "source": [
    "accuracy_1_node_mal_detec_syst_15_trehs = np.array([0.8704,0.8696,0.8692,0.8691,0.8683])\n",
    "\n",
    "accuracy_2_node_mal_detec_syst_15_trehs = np.array([0.8704,0.869,0.8706,0.8696,0.8687])\n",
    "\n",
    "accuracy_1_node_mal_NO_detec_syst = np.array([0.8714,0.871,0.8691,0.869,0.8699])\n",
    "\n",
    "accuracy_2_node_mal_NO_detec_syst = np.array([0.8696,0.8701,0.8721,0.8685,0.8665])\n",
    "\n",
    "accuracy_list_percentages_data_cases = np.array([0.2, 0.4, 0.6, 0.8, 1])"
   ]
  },
  {
   "cell_type": "code",
   "execution_count": 13,
   "metadata": {
    "ExecuteTime": {
     "end_time": "2022-08-25T16:25:54.298430Z",
     "start_time": "2022-08-25T16:25:53.843933Z"
    }
   },
   "outputs": [
    {
     "data": {
      "text/plain": [
       "<Figure size 432x288 with 0 Axes>"
      ]
     },
     "metadata": {},
     "output_type": "display_data"
    }
   ],
   "source": [
    "plt.plot(this_list_percentages_data_cases, accuracy_1_node_mal_detec_syst_15_trehs, '-o', label = \"20% malicious nodes, \\n no detection sytem\")\n",
    "plt.plot(this_list_percentages_data_cases, accuracy_2_node_mal_detec_syst_15_trehs, '-o', label = \"40% malicious nodes, \\n no detection sytem\")    \n",
    "plt.plot(this_list_percentages_data_cases, accuracy_1_node_mal_NO_detec_syst, '-o', label = \"20% malicious nodes, \\n detection system activated\")\n",
    "plt.plot(this_list_percentages_data_cases, accuracy_2_node_mal_NO_detec_syst, '-o', label = \"40% malicious nodes, \\n detection system activated\")\n",
    "    #LABEL\n",
    "plt.xlabel(\"Share of Malicious Data (in %)\", fontsize = 20)\n",
    "plt.ylabel(\"Accuracy\", fontsize = 20)\n",
    "plt.xticks(fontsize=20)\n",
    "plt.yticks(fontsize=20)\n",
    "plt.ylim([0.8, 0.9])\n",
    "    #LEGEND\n",
    "plt.legend(title_fontsize=20,loc='center left', bbox_to_anchor=(1, 0.5), prop={\"size\":18}, frameon = False)\n",
    "    #GENERAL\n",
    "plt.subplots_adjust(top=0.85)\n",
    "plt.savefig('detectionSystemAccuracy_big', bbox_inches='tight',pad_inches=0.1)\n",
    "\n",
    "plt.clf() # flushes plt"
   ]
  },
  {
   "cell_type": "code",
   "execution_count": 14,
   "metadata": {
    "ExecuteTime": {
     "end_time": "2022-08-25T16:25:55.731528Z",
     "start_time": "2022-08-25T16:25:55.727413Z"
    }
   },
   "outputs": [],
   "source": [
    "# Percentage of correctly identified malicious nodes"
   ]
  },
  {
   "cell_type": "code",
   "execution_count": 15,
   "metadata": {
    "ExecuteTime": {
     "end_time": "2022-08-25T16:25:56.060119Z",
     "start_time": "2022-08-25T16:25:56.048614Z"
    }
   },
   "outputs": [],
   "source": [
    "Percentage_of_correctly_identified_malicious_nodes_1_node = np.array([91.33,98.67,99.33,99.33,100])\n",
    "\n",
    "Percentage_of_correctly_identified_malicious_nodes_2_nodes = np.array([50.67,89.33,97.33,95.33,96])\n",
    "\n",
    "this_list_percentages_data_cases = np.array([0.2, 0.4, 0.6, 0.8, 1])"
   ]
  },
  {
   "cell_type": "code",
   "execution_count": 16,
   "metadata": {
    "ExecuteTime": {
     "end_time": "2022-08-25T16:26:17.330038Z",
     "start_time": "2022-08-25T16:26:16.910158Z"
    }
   },
   "outputs": [
    {
     "data": {
      "text/plain": [
       "<Figure size 432x288 with 0 Axes>"
      ]
     },
     "metadata": {},
     "output_type": "display_data"
    }
   ],
   "source": [
    "plt.plot(this_list_percentages_data_cases, Percentage_of_correctly_identified_malicious_nodes_1_node, '-o', label = \"40% malicious nodes\")    \n",
    "plt.plot(this_list_percentages_data_cases, Percentage_of_correctly_identified_malicious_nodes_2_nodes, '-o', label = \"20% malicious nodes\")\n",
    "    #LABEL\n",
    "plt.xlabel(\"Share of Malicious Data (in %)\", fontsize = 20)\n",
    "plt.ylabel(\"Perentage of correctly \\n identified malicious nodes (in %)\", fontsize = 20)\n",
    "plt.xticks(fontsize=20)\n",
    "plt.yticks(fontsize=20)\n",
    "    #LEGEND\n",
    "plt.legend(title='% of malicious nodes',title_fontsize=20,loc='center left', bbox_to_anchor=(1, 0.5), prop={\"size\":18}, frameon = False)\n",
    "    #GENERAL\n",
    "plt.subplots_adjust(top=0.85)\n",
    "plt.savefig('rightClassifiedMalicious_big', bbox_inches='tight',pad_inches=0.1)\n",
    "plt.clf() # flushes plt"
   ]
  },
  {
   "cell_type": "code",
   "execution_count": 17,
   "metadata": {
    "ExecuteTime": {
     "end_time": "2022-08-25T16:26:18.839089Z",
     "start_time": "2022-08-25T16:26:18.834732Z"
    }
   },
   "outputs": [],
   "source": [
    "# Percentage of correctly identified malicious nodes"
   ]
  },
  {
   "cell_type": "code",
   "execution_count": 18,
   "metadata": {
    "ExecuteTime": {
     "end_time": "2022-08-25T16:26:19.347989Z",
     "start_time": "2022-08-25T16:26:19.341261Z"
    }
   },
   "outputs": [],
   "source": [
    "Percentage_of_correctly_identified_healthy_nodes_1_node = np.array([93.45,92.68,93.49,93.96,94.13])\n",
    "\n",
    "Percentage_of_correctly_identified_healthy_nodes_2_nodes = np.array([95.50,92.68,93.50,92.68,91.59])\n",
    "\n",
    "this_list_percentages_data_cases = np.array([0.2, 0.4, 0.6, 0.8, 1])"
   ]
  },
  {
   "cell_type": "code",
   "execution_count": 19,
   "metadata": {
    "ExecuteTime": {
     "end_time": "2022-08-25T16:26:36.607865Z",
     "start_time": "2022-08-25T16:26:36.089173Z"
    }
   },
   "outputs": [
    {
     "data": {
      "text/plain": [
       "<Figure size 432x288 with 0 Axes>"
      ]
     },
     "metadata": {},
     "output_type": "display_data"
    }
   ],
   "source": [
    "plt.plot(this_list_percentages_data_cases, Percentage_of_correctly_identified_healthy_nodes_1_node, '-o', label = \"40% malicious nodes\")    \n",
    "plt.plot(this_list_percentages_data_cases, Percentage_of_correctly_identified_healthy_nodes_2_nodes, '-o', label = \"20% malicious nodes\")\n",
    "    #LABEL\n",
    "plt.xlabel(\"Share of Malicious Data (in %)\", fontsize = 20)\n",
    "plt.ylabel(\"Perentage of correctly \\n identified healthy nodes (in %)\", fontsize = 20)\n",
    "plt.xticks(fontsize=20)\n",
    "plt.yticks(fontsize=20)\n",
    "plt.ylim([50, 100])\n",
    "    #LEGEND\n",
    "plt.legend(title='% of malicious nodes',title_fontsize=20,loc='center left', bbox_to_anchor=(1, 0.5), prop={\"size\":18}, frameon = False)\n",
    "    #GENERAL\n",
    "plt.subplots_adjust(top=0.85)\n",
    "plt.savefig('rightClassifiedHealthy_big', bbox_inches='tight',pad_inches=0.1)\n",
    "plt.clf() # flushes plt"
   ]
  },
  {
   "cell_type": "code",
   "execution_count": 1,
   "metadata": {
    "ExecuteTime": {
     "end_time": "2022-08-27T15:26:00.453913Z",
     "start_time": "2022-08-27T15:26:00.447860Z"
    }
   },
   "outputs": [],
   "source": [
    "# NUMBER TO COMPARE MALICIOUSNESSES"
   ]
  },
  {
   "cell_type": "code",
   "execution_count": 2,
   "metadata": {
    "ExecuteTime": {
     "end_time": "2022-08-27T15:33:33.889097Z",
     "start_time": "2022-08-27T15:33:33.860280Z"
    }
   },
   "outputs": [],
   "source": [
    "#relative average MSE of malicious node --> one line!\n",
    "# Baseline comparison of healthy nodes ---> one line!"
   ]
  },
  {
   "cell_type": "code",
   "execution_count": 14,
   "metadata": {
    "ExecuteTime": {
     "end_time": "2022-08-27T15:43:43.440685Z",
     "start_time": "2022-08-27T15:43:43.425903Z"
    }
   },
   "outputs": [],
   "source": [
    "this_list_percentages_data_cases = np.array([0.2, 0.4, 0.6, 0.8, 1])"
   ]
  },
  {
   "cell_type": "code",
   "execution_count": 3,
   "metadata": {
    "ExecuteTime": {
     "end_time": "2022-08-27T15:34:28.348290Z",
     "start_time": "2022-08-27T15:34:28.325663Z"
    }
   },
   "outputs": [],
   "source": [
    "malicious_node = [2.145788151572090018959215740324e+00, 3.606704546495057783772608672734e+00, 5.046559452907411369437795656268e+00, 6.296608283190442634236205776688e+00, 7.612049594676935093673364463029e+00]"
   ]
  },
  {
   "cell_type": "code",
   "execution_count": 4,
   "metadata": {
    "ExecuteTime": {
     "end_time": "2022-08-27T15:37:05.247848Z",
     "start_time": "2022-08-27T15:37:05.222166Z"
    }
   },
   "outputs": [],
   "source": [
    "average1 = (1.053356097847789385468786349520e+00 + 1.080634285270109407051108973974e+00 + 1.057686611628085193714809975063e+00 + 1.028421499990727072670892994211e+00) / 4\n",
    "            "
   ]
  },
  {
   "cell_type": "code",
   "execution_count": 5,
   "metadata": {
    "ExecuteTime": {
     "end_time": "2022-08-27T15:37:47.844199Z",
     "start_time": "2022-08-27T15:37:47.826168Z"
    }
   },
   "outputs": [],
   "source": [
    "average2 = (9.864602620513233111054773871729e-01 + 1.004429470748028796478479307552e+00 + 1.053092723927288254515133303357e+00 + 1.030284673164571174197590153199e+00) /4"
   ]
  },
  {
   "cell_type": "code",
   "execution_count": 6,
   "metadata": {
    "ExecuteTime": {
     "end_time": "2022-08-27T15:38:25.458781Z",
     "start_time": "2022-08-27T15:38:25.444394Z"
    }
   },
   "outputs": [],
   "source": [
    "averag3 = (9.548767734239085314129624748603e-01 + 1.012524440315228257958324320498e+00 + 1.009560899476403594832163435058e+00 + 9.964574956661542692870625614887e-01)/4"
   ]
  },
  {
   "cell_type": "code",
   "execution_count": 7,
   "metadata": {
    "ExecuteTime": {
     "end_time": "2022-08-27T15:38:59.105639Z",
     "start_time": "2022-08-27T15:38:59.081560Z"
    }
   },
   "outputs": [],
   "source": [
    "average4 = (9.579259782313265247921663103625e-01 + 1.050874843989924478648845251882e+00 + 9.503027629542539767015796314809e-01 + 1.003869734034336103078999258287e+00)/4\n"
   ]
  },
  {
   "cell_type": "code",
   "execution_count": 8,
   "metadata": {
    "ExecuteTime": {
     "end_time": "2022-08-27T15:39:25.476986Z",
     "start_time": "2022-08-27T15:39:25.446335Z"
    }
   },
   "outputs": [],
   "source": [
    "average5 = (9.650240145620163634276877928642e-01 + 9.919181772154084253401151727303e-01 + 9.962497397029660417544505435217e-01 + 1.014807066855176742592448135838e+00)/4"
   ]
  },
  {
   "cell_type": "code",
   "execution_count": 9,
   "metadata": {
    "ExecuteTime": {
     "end_time": "2022-08-27T15:41:54.415969Z",
     "start_time": "2022-08-27T15:41:54.404458Z"
    }
   },
   "outputs": [],
   "source": [
    "healthy_nodes = [average1, average2, averag3, average4, average5]"
   ]
  },
  {
   "cell_type": "code",
   "execution_count": 27,
   "metadata": {
    "ExecuteTime": {
     "end_time": "2022-08-27T19:35:37.156884Z",
     "start_time": "2022-08-27T19:35:36.576041Z"
    }
   },
   "outputs": [
    {
     "data": {
      "text/plain": [
       "<function matplotlib.pyplot.show(close=None, block=None)>"
      ]
     },
     "execution_count": 27,
     "metadata": {},
     "output_type": "execute_result"
    },
    {
     "data": {
      "text/plain": [
       "<Figure size 576x432 with 0 Axes>"
      ]
     },
     "metadata": {},
     "output_type": "display_data"
    }
   ],
   "source": [
    "plt.figure(figsize=(8,6))\n",
    "plt.plot(this_list_percentages_data_cases, healthy_nodes, '-o', color = 'green', label = \"healthy nodes\")    \n",
    "plt.plot(this_list_percentages_data_cases, malicious_node, '-o', color = 'red', label = \"malicious node\")\n",
    "    #LABEL\n",
    "plt.xlabel(\"Share of Malicious Data (in %)\", fontsize = 30)\n",
    "plt.ylabel(\"Relative \\n average MSE\", fontsize = 30)\n",
    "plt.xticks(fontsize=25)\n",
    "plt.yticks(fontsize=25)\n",
    "    #LEGEND\n",
    "plt.legend(loc='center left', bbox_to_anchor=(1, 0.5), prop={\"size\":30}, frameon = False)\n",
    "    #GENERAL\n",
    "plt.subplots_adjust(top=0.85)\n",
    "plt.savefig('meanMSEComparision20malnode', bbox_inches='tight',pad_inches=0.1)\n",
    "plt.clf() # flushes plt\n",
    "plt.show"
   ]
  },
  {
   "cell_type": "code",
   "execution_count": null,
   "metadata": {},
   "outputs": [],
   "source": []
  }
 ],
 "metadata": {
  "kernelspec": {
   "display_name": "Python 3",
   "language": "python",
   "name": "python3"
  },
  "language_info": {
   "codemirror_mode": {
    "name": "ipython",
    "version": 3
   },
   "file_extension": ".py",
   "mimetype": "text/x-python",
   "name": "python",
   "nbconvert_exporter": "python",
   "pygments_lexer": "ipython3",
   "version": "3.8.6"
  },
  "toc": {
   "base_numbering": 1,
   "nav_menu": {},
   "number_sections": true,
   "sideBar": true,
   "skip_h1_title": false,
   "title_cell": "Table of Contents",
   "title_sidebar": "Contents",
   "toc_cell": false,
   "toc_position": {},
   "toc_section_display": true,
   "toc_window_display": false
  }
 },
 "nbformat": 4,
 "nbformat_minor": 4
}
