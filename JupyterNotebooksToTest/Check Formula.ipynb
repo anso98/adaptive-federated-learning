{
 "cells": [
  {
   "cell_type": "code",
   "execution_count": 3,
   "metadata": {
    "ExecuteTime": {
     "end_time": "2022-07-28T10:27:08.965441Z",
     "start_time": "2022-07-28T10:27:08.959470Z"
    }
   },
   "outputs": [],
   "source": [
    "import numpy as np\n",
    "import time"
   ]
  },
  {
   "cell_type": "code",
   "execution_count": 4,
   "metadata": {
    "ExecuteTime": {
     "end_time": "2022-07-28T10:27:09.139789Z",
     "start_time": "2022-07-28T10:27:09.135329Z"
    }
   },
   "outputs": [],
   "source": [
    "\n",
    "# Choose weights! \n",
    "# Should I select the mean weights or the total biggest weights?\n",
    "# Probably the mean? \n",
    "\n",
    "time_less_weights =[]\n",
    "time_less_weights.append(time.time())\n",
    "\n"
   ]
  },
  {
   "cell_type": "code",
   "execution_count": 5,
   "metadata": {
    "ExecuteTime": {
     "end_time": "2022-07-28T10:28:19.583604Z",
     "start_time": "2022-07-28T10:28:19.578457Z"
    }
   },
   "outputs": [],
   "source": [
    "max_rounds = 5\n",
    "number_of_parameters = 10\n",
    "number_of_nodes = 3"
   ]
  },
  {
   "cell_type": "code",
   "execution_count": 39,
   "metadata": {
    "ExecuteTime": {
     "end_time": "2022-07-28T13:46:00.369534Z",
     "start_time": "2022-07-28T13:46:00.354487Z"
    }
   },
   "outputs": [
    {
     "name": "stdout",
     "output_type": "stream",
     "text": [
      "(3, 5, 10)\n"
     ]
    },
    {
     "data": {
      "text/plain": [
       "array([[[ 0.,  6.,  0.,  0.,  0.,  0.,  0.,  0.,  0., 16.],\n",
       "        [ 0.,  0.,  8.,  0.,  0.,  0.,  0.,  0.,  0.,  0.],\n",
       "        [ 0.,  0.,  0.,  0.,  2.,  0.,  0., 14.,  0.,  0.],\n",
       "        [ 0.,  0.,  0.,  0.,  0.,  0.,  0.,  0.,  0.,  0.],\n",
       "        [ 0.,  0.,  0.,  0.,  0.,  0.,  0.,  0.,  0.,  0.]],\n",
       "\n",
       "       [[ 0., 20.,  0.,  0.,  0.,  0.,  0.,  0.,  0.,  0.],\n",
       "        [ 0.,  0.,  0.,  0., 27.,  0., 19.,  0.,  0.,  0.],\n",
       "        [18.,  0.,  0.,  0.,  0.,  0.,  0.,  0.,  0.,  0.],\n",
       "        [ 0.,  0.,  0.,  0.,  0.,  0.,  0.,  0.,  0.,  0.],\n",
       "        [ 0.,  0.,  0.,  0., 23.,  0.,  0.,  0.,  0.,  0.]],\n",
       "\n",
       "       [[ 0.,  0.,  0.,  0.,  0.,  0.,  0.,  0.,  0.,  0.],\n",
       "        [ 0.,  0.,  0.,  0.,  0.,  0.,  0.,  0.,  0.,  0.],\n",
       "        [ 0.,  0.,  0.,  0.,  4.,  0.,  0.,  0.,  1.,  0.],\n",
       "        [ 0., 12.,  0.,  0.,  0.,  0.,  0.,  0.,  0.,  0.],\n",
       "        [ 0.,  0.,  0.,  0.,  0.,  0.,  0.,  0.,  0., 11.]]])"
      ]
     },
     "execution_count": 39,
     "metadata": {},
     "output_type": "execute_result"
    }
   ],
   "source": [
    "weights = np.zeros((number_of_nodes, max_rounds, number_of_parameters))\n",
    "weights[0][0][1] = 6\n",
    "weights[0][2][4] = 2\n",
    "weights[1][4][4] = 23\n",
    "weights[2][2][4] = 4\n",
    "weights[2][2][8] = 1\n",
    "weights[0][2][7] = 14\n",
    "weights[0][0][9] = 16\n",
    "weights[1][2][0] = 18\n",
    "weights[1][1][6] = 19\n",
    "weights[1][0][1] = 20\n",
    "weights[2][4][9] = 11\n",
    "weights[2][3][1] = 12\n",
    "weights[0][1][2] = 8\n",
    "weights[1][1][4] = 27\n",
    "\n",
    "\n",
    "print(weights.shape)\n",
    "weights"
   ]
  },
  {
   "cell_type": "code",
   "execution_count": 40,
   "metadata": {
    "ExecuteTime": {
     "end_time": "2022-07-28T13:46:01.134468Z",
     "start_time": "2022-07-28T13:46:01.127637Z"
    }
   },
   "outputs": [
    {
     "ename": "SyntaxError",
     "evalue": "invalid character in identifier (<ipython-input-40-0fc415cc98d7>, line 1)",
     "output_type": "error",
     "traceback": [
      "\u001b[0;36m  File \u001b[0;32m\"<ipython-input-40-0fc415cc98d7>\"\u001b[0;36m, line \u001b[0;32m1\u001b[0m\n\u001b[0;31m    ´\u001b[0m\n\u001b[0m    ^\u001b[0m\n\u001b[0;31mSyntaxError\u001b[0m\u001b[0;31m:\u001b[0m invalid character in identifier\n"
     ]
    }
   ],
   "source": [
    "´"
   ]
  },
  {
   "cell_type": "code",
   "execution_count": 41,
   "metadata": {
    "ExecuteTime": {
     "end_time": "2022-07-28T13:46:01.682911Z",
     "start_time": "2022-07-28T13:46:01.676960Z"
    }
   },
   "outputs": [],
   "source": [
    " # Get the mean\n",
    "save_all_means = np.zeros((max_rounds, number_of_parameters))\n",
    "for i in range (0, max_rounds):\n",
    "    means_per_round = np.zeros((number_of_parameters))\n",
    "    for j in range(0, number_of_parameters):\n",
    "        sum_of_parameter = 0\n",
    "        for k in range(0, number_of_nodes):\n",
    "            sum_of_parameter += weights[k][i][j]\n",
    "        sum_of_parameter /= number_of_nodes\n",
    "        means_per_round[j] = sum_of_parameter\n",
    "    save_all_means[i] = means_per_round"
   ]
  },
  {
   "cell_type": "code",
   "execution_count": 42,
   "metadata": {
    "ExecuteTime": {
     "end_time": "2022-07-28T13:46:02.079425Z",
     "start_time": "2022-07-28T13:46:02.065230Z"
    },
    "scrolled": true
   },
   "outputs": [
    {
     "data": {
      "text/plain": [
       "array([[0.        , 8.66666667, 0.        , 0.        , 0.        ,\n",
       "        0.        , 0.        , 0.        , 0.        , 5.33333333],\n",
       "       [0.        , 0.        , 2.66666667, 0.        , 9.        ,\n",
       "        0.        , 6.33333333, 0.        , 0.        , 0.        ],\n",
       "       [6.        , 0.        , 0.        , 0.        , 2.        ,\n",
       "        0.        , 0.        , 4.66666667, 0.33333333, 0.        ],\n",
       "       [0.        , 4.        , 0.        , 0.        , 0.        ,\n",
       "        0.        , 0.        , 0.        , 0.        , 0.        ],\n",
       "       [0.        , 0.        , 0.        , 0.        , 7.66666667,\n",
       "        0.        , 0.        , 0.        , 0.        , 3.66666667]])"
      ]
     },
     "execution_count": 42,
     "metadata": {},
     "output_type": "execute_result"
    }
   ],
   "source": [
    "save_all_means"
   ]
  },
  {
   "cell_type": "code",
   "execution_count": 43,
   "metadata": {
    "ExecuteTime": {
     "end_time": "2022-07-28T13:46:02.655341Z",
     "start_time": "2022-07-28T13:46:02.646770Z"
    }
   },
   "outputs": [
    {
     "name": "stdout",
     "output_type": "stream",
     "text": [
      "We just got the means 548.1385560035706\n"
     ]
    }
   ],
   "source": [
    "\n",
    "time_less_weights.append(time.time())\n",
    "print(\"We just got the means\",  time_less_weights[1]-time_less_weights[0])\n",
    "\n",
    "number_of_weights_concidered = 3\n",
    "indicies_larges_weights = np.zeros((max_rounds,number_of_weights_concidered))"
   ]
  },
  {
   "cell_type": "code",
   "execution_count": 44,
   "metadata": {
    "ExecuteTime": {
     "end_time": "2022-07-28T13:46:03.068792Z",
     "start_time": "2022-07-28T13:46:03.058102Z"
    },
    "scrolled": true
   },
   "outputs": [
    {
     "data": {
      "text/plain": [
       "array([[0., 0., 0.],\n",
       "       [0., 0., 0.],\n",
       "       [0., 0., 0.],\n",
       "       [0., 0., 0.],\n",
       "       [0., 0., 0.]])"
      ]
     },
     "execution_count": 44,
     "metadata": {},
     "output_type": "execute_result"
    }
   ],
   "source": [
    "indicies_larges_weights"
   ]
  },
  {
   "cell_type": "code",
   "execution_count": 45,
   "metadata": {
    "ExecuteTime": {
     "end_time": "2022-07-28T13:46:03.470437Z",
     "start_time": "2022-07-28T13:46:03.460280Z"
    }
   },
   "outputs": [
    {
     "name": "stdout",
     "output_type": "stream",
     "text": [
      "Len all means 5\n",
      "counter 1\n",
      "[1. 9. 8.]\n",
      "counter 2\n",
      "[4. 6. 2.]\n",
      "counter 3\n",
      "[0. 7. 4.]\n",
      "counter 4\n",
      "[1. 9. 8.]\n",
      "counter 5\n",
      "[4. 9. 8.]\n"
     ]
    }
   ],
   "source": [
    "print(\"Len all means\", len(save_all_means))\n",
    "counter = 0\n",
    "for row in range(len(save_all_means)):\n",
    "    indicies_larges_weights[row] = save_all_means[row].argsort()[-3:][::-1] #second bracket turns out around\n",
    "    counter += 1\n",
    "    print(\"counter\", counter)\n",
    "    print(indicies_larges_weights[row])\n",
    "#indicies_larges_weights = np.argpartition(save_all_means, -10)[-10:]\n",
    "\n"
   ]
  },
  {
   "cell_type": "code",
   "execution_count": 46,
   "metadata": {
    "ExecuteTime": {
     "end_time": "2022-07-28T13:46:03.903009Z",
     "start_time": "2022-07-28T13:46:03.894476Z"
    },
    "scrolled": true
   },
   "outputs": [
    {
     "name": "stdout",
     "output_type": "stream",
     "text": [
      "Shape Indicies largest weights (5, 3)\n",
      "We just got the biggest indices 8.854238986968994\n"
     ]
    }
   ],
   "source": [
    "\n",
    "print(\"Shape Indicies largest weights\", indicies_larges_weights.shape)\n",
    "\n",
    "time_less_weights.append(time.time()) #2\n",
    "print(\"We just got the biggest indices\", time_less_weights[2]-time_less_weights[1])\n"
   ]
  },
  {
   "cell_type": "code",
   "execution_count": 47,
   "metadata": {
    "ExecuteTime": {
     "end_time": "2022-07-28T13:46:04.603085Z",
     "start_time": "2022-07-28T13:46:04.592328Z"
    },
    "scrolled": true
   },
   "outputs": [
    {
     "name": "stdout",
     "output_type": "stream",
     "text": [
      "6.0\n",
      "16.0\n",
      "0.0\n",
      "20.0\n",
      "0.0\n",
      "0.0\n",
      "0.0\n",
      "0.0\n",
      "0.0\n",
      "0.0\n",
      "0.0\n",
      "8.0\n",
      "27.0\n",
      "19.0\n",
      "0.0\n",
      "0.0\n",
      "0.0\n",
      "0.0\n",
      "0.0\n",
      "14.0\n",
      "2.0\n",
      "18.0\n",
      "0.0\n",
      "0.0\n",
      "0.0\n",
      "0.0\n",
      "4.0\n",
      "0.0\n",
      "0.0\n",
      "0.0\n",
      "0.0\n",
      "0.0\n",
      "0.0\n",
      "12.0\n",
      "0.0\n",
      "0.0\n",
      "0.0\n",
      "0.0\n",
      "0.0\n",
      "23.0\n",
      "0.0\n",
      "0.0\n",
      "0.0\n",
      "11.0\n",
      "0.0\n"
     ]
    }
   ],
   "source": [
    "# Maybe I can do this for one round and then keep it for the next 15 rounds or so?\n",
    "# maybe decide for global model which one to take?\n",
    "\n",
    "array_with_mse = np.zeros((number_of_nodes, max_rounds, number_of_weights_concidered))\n",
    "array_with_accum_mse = np.zeros((number_of_nodes, max_rounds))\n",
    "\n",
    "# Get the mse for each node for each round and parameter\n",
    "# sum all paramter mse per node together and give back one value\n",
    "for i in range(0, max_rounds):\n",
    "    for k in range(0, number_of_nodes):\n",
    "        intermediate_sum = 0\n",
    "        for j in range(0, len(indicies_larges_weights[0])):\n",
    "            print(weights[k][i][int(indicies_larges_weights[i][j])])\n",
    "            array_with_mse[k][i][j] = ((save_all_means[i][j] - weights[k][i][int(indicies_larges_weights[i][j])]) ** 2)\n",
    "            intermediate_sum +=  array_with_mse[k][i][j]\n",
    "        intermediate_sum /= number_of_weights_concidered\n",
    "        array_with_accum_mse[k][i] += intermediate_sum"
   ]
  },
  {
   "cell_type": "code",
   "execution_count": 48,
   "metadata": {
    "ExecuteTime": {
     "end_time": "2022-07-28T13:46:05.266333Z",
     "start_time": "2022-07-28T13:46:05.258081Z"
    }
   },
   "outputs": [
    {
     "data": {
      "text/plain": [
       "array([[[ 36.        ,  53.77777778,   0.        ],\n",
       "        [  0.        ,   0.        ,  28.44444444],\n",
       "        [ 36.        , 196.        ,   4.        ],\n",
       "        [  0.        ,  16.        ,   0.        ],\n",
       "        [  0.        ,   0.        ,   0.        ]],\n",
       "\n",
       "       [[400.        ,  75.11111111,   0.        ],\n",
       "        [729.        , 361.        ,   7.11111111],\n",
       "        [144.        ,   0.        ,   0.        ],\n",
       "        [  0.        ,  16.        ,   0.        ],\n",
       "        [529.        ,   0.        ,   0.        ]],\n",
       "\n",
       "       [[  0.        ,  75.11111111,   0.        ],\n",
       "        [  0.        ,   0.        ,   7.11111111],\n",
       "        [ 36.        ,   0.        ,  16.        ],\n",
       "        [144.        ,  16.        ,   0.        ],\n",
       "        [  0.        , 121.        ,   0.        ]]])"
      ]
     },
     "execution_count": 48,
     "metadata": {},
     "output_type": "execute_result"
    }
   ],
   "source": [
    "array_with_mse"
   ]
  },
  {
   "cell_type": "code",
   "execution_count": 49,
   "metadata": {
    "ExecuteTime": {
     "end_time": "2022-07-28T13:46:05.986283Z",
     "start_time": "2022-07-28T13:46:05.978930Z"
    }
   },
   "outputs": [
    {
     "data": {
      "text/plain": [
       "array([[ 29.92592593,   9.48148148,  78.66666667,   5.33333333,\n",
       "          0.        ],\n",
       "       [158.37037037, 365.7037037 ,  48.        ,   5.33333333,\n",
       "        176.33333333],\n",
       "       [ 25.03703704,   2.37037037,  17.33333333,  53.33333333,\n",
       "         40.33333333]])"
      ]
     },
     "execution_count": 49,
     "metadata": {},
     "output_type": "execute_result"
    }
   ],
   "source": [
    "array_with_accum_mse"
   ]
  },
  {
   "cell_type": "code",
   "execution_count": 50,
   "metadata": {
    "ExecuteTime": {
     "end_time": "2022-07-28T13:46:06.901990Z",
     "start_time": "2022-07-28T13:46:06.898670Z"
    }
   },
   "outputs": [],
   "source": [
    "# NEXT: check median \n",
    "# MAybe make graph already with array_with_accum_mse to check this!"
   ]
  },
  {
   "cell_type": "code",
   "execution_count": 51,
   "metadata": {
    "ExecuteTime": {
     "end_time": "2022-07-28T13:46:08.060896Z",
     "start_time": "2022-07-28T13:46:08.051223Z"
    },
    "scrolled": true
   },
   "outputs": [
    {
     "name": "stdout",
     "output_type": "stream",
     "text": [
      "We just got the mse for the biggest indices 392.6382200717926\n"
     ]
    },
    {
     "data": {
      "text/plain": [
       "array([29.92592593,  9.48148148, 48.        ,  5.33333333, 40.33333333])"
      ]
     },
     "execution_count": 51,
     "metadata": {},
     "output_type": "execute_result"
    }
   ],
   "source": [
    "time_less_weights.append(time.time()) #3\n",
    "print(\"We just got the mse for the biggest indices\", time_less_weights[3]-time_less_weights[2])\n",
    "\n",
    "#median version!\n",
    "array_median_error_all_nodes = np.zeros((max_rounds))\n",
    "array_median_error_all_nodes = np.median(array_with_accum_mse, axis = 0)\n",
    "\n",
    "array_median_error_all_nodes"
   ]
  },
  {
   "cell_type": "code",
   "execution_count": 52,
   "metadata": {
    "ExecuteTime": {
     "end_time": "2022-07-28T13:46:09.628020Z",
     "start_time": "2022-07-28T13:46:09.620639Z"
    }
   },
   "outputs": [
    {
     "name": "stdout",
     "output_type": "stream",
     "text": [
      "Arrays with biggest weights:\n",
      "(5,)\n",
      "[29.92592593  9.48148148 48.          5.33333333 40.33333333]\n"
     ]
    }
   ],
   "source": [
    "print(\"Arrays with biggest weights:\")\n",
    "print(array_median_error_all_nodes.shape)\n",
    "print(array_median_error_all_nodes)\n",
    "array_relative_idea_4 = np.zeros((number_of_nodes, max_rounds))"
   ]
  },
  {
   "cell_type": "code",
   "execution_count": 53,
   "metadata": {
    "ExecuteTime": {
     "end_time": "2022-07-28T13:46:15.239313Z",
     "start_time": "2022-07-28T13:46:15.228163Z"
    }
   },
   "outputs": [
    {
     "name": "stdout",
     "output_type": "stream",
     "text": [
      "We just got the relative idea 4 2.7498350143432617\n"
     ]
    },
    {
     "data": {
      "text/plain": [
       "array([[ 1.        ,  1.        ,  1.63888889,  1.        ,  0.        ],\n",
       "       [ 5.29207921, 38.5703125 ,  1.        ,  1.        ,  4.37190083],\n",
       "       [ 0.83663366,  0.25      ,  0.36111111, 10.        ,  1.        ]])"
      ]
     },
     "execution_count": 53,
     "metadata": {},
     "output_type": "execute_result"
    }
   ],
   "source": [
    "# divide error by all errors to make it relative\n",
    "for i in range(0, max_rounds):\n",
    "    sum_accross_nodes = 0\n",
    "    for k in range(0, number_of_nodes):\n",
    "        #if( abs(save_all_means[i][j]) < 1e-25): # check here\n",
    "            #array_relative_idea_3[k][i] = 0\n",
    "        #else:\n",
    "        array_relative_idea_4[k][i] = array_with_accum_mse[k][i] / array_median_error_all_nodes[i]\n",
    "\n",
    "time_less_weights.append(time.time()) #4\n",
    "print(\"We just got the relative idea 4\", time_less_weights[4]-time_less_weights[3])\n",
    "array_relative_idea_4"
   ]
  },
  {
   "cell_type": "code",
   "execution_count": 58,
   "metadata": {
    "ExecuteTime": {
     "end_time": "2022-07-28T13:47:56.934606Z",
     "start_time": "2022-07-28T13:47:56.207904Z"
    }
   },
   "outputs": [
    {
     "name": "stderr",
     "output_type": "stream",
     "text": [
      "No handles with labels found to put in legend.\n"
     ]
    },
    {
     "name": "stdout",
     "output_type": "stream",
     "text": [
      "Result array\n",
      "(3, 5)\n",
      "[[ 1.          1.          1.63888889  1.          0.        ]\n",
      " [ 5.29207921 38.5703125   1.          1.          4.37190083]\n",
      " [ 0.83663366  0.25        0.36111111 10.          1.        ]]\n"
     ]
    },
    {
     "data": {
      "image/png": "[encoded data removed]",
      "text/plain": [
       "<Figure size 432x288 with 1 Axes>"
      ]
     },
     "metadata": {
      "needs_background": "light"
     },
     "output_type": "display_data"
    },
    {
     "data": {
      "text/plain": [
       "<Figure size 432x288 with 0 Axes>"
      ]
     },
     "metadata": {},
     "output_type": "display_data"
    }
   ],
   "source": [
    "import matplotlib.pyplot as plt\n",
    "print(\"Result array\")\n",
    "print(array_relative_idea_4.shape) #wie geht das?\n",
    "print(array_relative_idea_4)\n",
    "\n",
    "# Plot Array with Accum mse \n",
    "    #PLOTS\n",
    "for i in range(0, number_of_nodes):\n",
    "    plt.plot(array_relative_idea_4[i])\n",
    "    #TITLE\n",
    "    #LABLE\n",
    "plt.xlabel(\"Update Round\", fontsize = 14)\n",
    "plt.ylabel(\"Relative MSE of model parameters\", fontsize = 14)\n",
    "plt.ylim([0,0.0003])\n",
    "plt.xticks(fontsize=14)\n",
    "plt.yticks(fontsize=14)\n",
    "plt.autoscale() \n",
    "    #LEGEND\n",
    "plt.legend(loc='center left', bbox_to_anchor=(1, 0.5), prop={\"size\":14}, frameon = False, title='Node', title_fontsize=16)\n",
    "    #GENERAL\n",
    "plt.subplots_adjust(top=0.8)\n",
    "#plt.savefig(lim_weights_second_relative_mse_graph, bbox_inches='tight',pad_inches=0.1)\n",
    "plt.show()\n",
    "plt.clf() # flushes plt\n"
   ]
  },
  {
   "cell_type": "code",
   "execution_count": 60,
   "metadata": {
    "ExecuteTime": {
     "end_time": "2022-07-28T14:48:56.706375Z",
     "start_time": "2022-07-28T14:48:56.690272Z"
    }
   },
   "outputs": [
    {
     "data": {
      "text/plain": [
       "0"
      ]
     },
     "execution_count": 60,
     "metadata": {},
     "output_type": "execute_result"
    }
   ],
   "source": [
    "percentage_of_weights_concidered = 0.1\n",
    "number_of_nodes = 3\n",
    "number_of_weights_concidered = int(number_of_nodes * percentage_of_weights_concidered)\n",
    "number_of_weights_concidered"
   ]
  },
  {
   "cell_type": "code",
   "execution_count": 150,
   "metadata": {
    "ExecuteTime": {
     "end_time": "2022-07-31T20:27:33.140214Z",
     "start_time": "2022-07-31T20:27:33.126226Z"
    }
   },
   "outputs": [
    {
     "name": "stdout",
     "output_type": "stream",
     "text": [
      "(5, 10)\n"
     ]
    },
    {
     "data": {
      "text/plain": [
       "array([[  0.,  20.,   0.,   0.,   0.,   0.,   0.,   0.,   0.,  16.],\n",
       "       [  0.,   0.,   8.,   0., -27.,   0.,  19.,   0.,   0.,   0.],\n",
       "       [ 18.,   0.,   0.,   0.,   4.,   0.,   0., -14.,   1.,   0.],\n",
       "       [  0., -12.,   0.,   0.,   0.,   0.,   0.,   0.,   0.,   0.],\n",
       "       [  0.,   0.,   0.,   0.,  23.,   0.,   0.,   0.,   0.,  11.]])"
      ]
     },
     "execution_count": 150,
     "metadata": {},
     "output_type": "execute_result"
    }
   ],
   "source": [
    "weights = np.zeros((max_rounds, number_of_parameters))\n",
    "weights[0][1] = 6\n",
    "weights[2][4] = -2\n",
    "weights[4][4] = 23\n",
    "weights[2][4] = 4\n",
    "weights[2][8] = 1\n",
    "weights[2][7] = -14\n",
    "weights[0][9] = 16\n",
    "weights[2][0] = 18\n",
    "weights[1][6] = 19\n",
    "weights[0][1] = 20\n",
    "weights[4][9] = 11\n",
    "weights[3][1] = -12\n",
    "weights[1][2] = 8\n",
    "weights[1][4] = -27\n",
    "\n",
    "\n",
    "print(weights.shape)\n",
    "weights"
   ]
  },
  {
   "cell_type": "code",
   "execution_count": 153,
   "metadata": {
    "ExecuteTime": {
     "end_time": "2022-07-31T20:27:41.048536Z",
     "start_time": "2022-07-31T20:27:41.039809Z"
    }
   },
   "outputs": [],
   "source": [
    "indicies_larges_weights = np.zeros((5,4))\n",
    "test1_indicies_larges_weights = np.zeros((5,4))\n",
    "\n",
    "number_of_weights_concidered = 4\n",
    "indicies_sorted = np.zeros((5,10))"
   ]
  },
  {
   "cell_type": "code",
   "execution_count": 154,
   "metadata": {
    "ExecuteTime": {
     "end_time": "2022-07-31T20:27:41.571842Z",
     "start_time": "2022-07-31T20:27:41.566061Z"
    }
   },
   "outputs": [],
   "source": [
    "# THINK ABOUT THIS MESS!!!! --> splitted for loop to make it easier\n",
    "\n",
    "for row in range(len(weights)):\n",
    "    #indicies_larges_weights[row] = save_all_means[row].argsort()[::-1][:number_of_weights_concidered] #note ::-1 means: starts from the end towards the first taking each element.\n",
    "    #Maybe instead:\n",
    "    indicies_sorted[row] = weights[row].argsort()[::-1]\n",
    "    "
   ]
  },
  {
   "cell_type": "code",
   "execution_count": 159,
   "metadata": {
    "ExecuteTime": {
     "end_time": "2022-07-31T20:28:21.896916Z",
     "start_time": "2022-07-31T20:28:21.881554Z"
    },
    "scrolled": true
   },
   "outputs": [
    {
     "name": "stdout",
     "output_type": "stream",
     "text": [
      "[1. 9. 8. 7. 6. 5. 4. 3. 2. 0.]\n",
      "1.0\n",
      "20.0\n",
      "[6. 2. 9. 8. 7. 5. 3. 1. 0. 4.]\n",
      "6.0\n",
      "19.0\n",
      "[0. 4. 8. 9. 6. 5. 3. 2. 1. 7.]\n",
      "0.0\n",
      "18.0\n",
      "[9. 8. 7. 6. 5. 4. 3. 2. 0. 1.]\n",
      "9.0\n",
      "0.0\n",
      "[4. 9. 8. 7. 6. 5. 3. 2. 1. 0.]\n",
      "4.0\n",
      "23.0\n"
     ]
    }
   ],
   "source": [
    "for row in range(len(weights)):\n",
    "    \n",
    "    indicies_sorted[row] = weights[row].argsort()[::-1]\n",
    "\n",
    "    beginning_counter = 0 \n",
    "    end_counter = 10-1 # maybe -1 not sure?\n",
    "    print(indicies_sorted[row])\n",
    "    print(indicies_sorted[row][beginning_counter])\n",
    "    print(weights[row][int(indicies_sorted[row][beginning_counter])])\n",
    "    for i in range(0, number_of_weights_concidered):\n",
    "        if(abs(weights[row][int(indicies_sorted[row][beginning_counter])]) > abs(weights[row][int(indicies_sorted[row][end_counter])])):\n",
    "            indicies_larges_weights[row][i] = indicies_sorted[row][beginning_counter]\n",
    "            beginning_counter += 1\n",
    "        else:\n",
    "            indicies_larges_weights[row][i] = indicies_sorted[row][end_counter]\n",
    "            end_counter -= 1\n"
   ]
  },
  {
   "cell_type": "code",
   "execution_count": 160,
   "metadata": {
    "ExecuteTime": {
     "end_time": "2022-07-31T20:28:22.215925Z",
     "start_time": "2022-07-31T20:28:22.203864Z"
    }
   },
   "outputs": [
    {
     "data": {
      "text/plain": [
       "array([[1., 9., 0., 2.],\n",
       "       [4., 6., 2., 0.],\n",
       "       [0., 7., 4., 8.],\n",
       "       [1., 0., 2., 3.],\n",
       "       [4., 9., 0., 1.]])"
      ]
     },
     "execution_count": 160,
     "metadata": {},
     "output_type": "execute_result"
    }
   ],
   "source": [
    "indicies_larges_weights"
   ]
  },
  {
   "cell_type": "code",
   "execution_count": 121,
   "metadata": {
    "ExecuteTime": {
     "end_time": "2022-07-31T20:09:08.585374Z",
     "start_time": "2022-07-31T20:09:08.577691Z"
    }
   },
   "outputs": [
    {
     "data": {
      "text/plain": [
       "array([[0., 2., 3., 4., 5., 6., 7., 8., 9., 1.],\n",
       "       [4., 0., 1., 3., 5., 7., 8., 9., 2., 6.],\n",
       "       [7., 1., 2., 3., 5., 6., 9., 8., 4., 0.],\n",
       "       [1., 0., 2., 3., 4., 5., 6., 7., 8., 9.],\n",
       "       [0., 1., 2., 3., 5., 6., 7., 8., 9., 4.]])"
      ]
     },
     "execution_count": 121,
     "metadata": {},
     "output_type": "execute_result"
    }
   ],
   "source": [
    "indicies_sorted"
   ]
  },
  {
   "cell_type": "code",
   "execution_count": 120,
   "metadata": {
    "ExecuteTime": {
     "end_time": "2022-07-31T20:09:00.518760Z",
     "start_time": "2022-07-31T20:09:00.510552Z"
    }
   },
   "outputs": [
    {
     "data": {
      "text/plain": [
       "array([[0., 0., 0., 0.],\n",
       "       [0., 0., 0., 0.],\n",
       "       [0., 0., 0., 0.],\n",
       "       [0., 0., 0., 0.],\n",
       "       [0., 0., 0., 0.]])"
      ]
     },
     "execution_count": 120,
     "metadata": {},
     "output_type": "execute_result"
    }
   ],
   "source": [
    "indicies_larges_weights"
   ]
  },
  {
   "cell_type": "code",
   "execution_count": 117,
   "metadata": {
    "ExecuteTime": {
     "end_time": "2022-07-31T20:08:20.993074Z",
     "start_time": "2022-07-31T20:08:20.986920Z"
    }
   },
   "outputs": [],
   "source": [
    "for row in range(len(weights)):\n",
    "    #indicies_larges_weights[row] = save_all_means[row].argsort()[::-1][:number_of_weights_concidered] #note ::-1 means: starts from the end towards the first taking each element.\n",
    "    #Maybe instead:\n",
    "    test1_indicies_larges_weights[row] = weights[row].argsort()[::-1][:4]"
   ]
  },
  {
   "cell_type": "code",
   "execution_count": 118,
   "metadata": {
    "ExecuteTime": {
     "end_time": "2022-07-31T20:08:21.486855Z",
     "start_time": "2022-07-31T20:08:21.478450Z"
    }
   },
   "outputs": [
    {
     "data": {
      "text/plain": [
       "array([[1., 9., 8., 7.],\n",
       "       [6., 2., 9., 8.],\n",
       "       [0., 4., 8., 9.],\n",
       "       [9., 8., 7., 6.],\n",
       "       [4., 9., 8., 7.]])"
      ]
     },
     "execution_count": 118,
     "metadata": {},
     "output_type": "execute_result"
    }
   ],
   "source": [
    "test1_indicies_larges_weights"
   ]
  },
  {
   "cell_type": "code",
   "execution_count": null,
   "metadata": {},
   "outputs": [],
   "source": []
  }
 ],
 "metadata": {
  "kernelspec": {
   "display_name": "Python 3",
   "language": "python",
   "name": "python3"
  },
  "language_info": {
   "codemirror_mode": {
    "name": "ipython",
    "version": 3
   },
   "file_extension": ".py",
   "mimetype": "text/x-python",
   "name": "python",
   "nbconvert_exporter": "python",
   "pygments_lexer": "ipython3",
   "version": "3.8.6"
  },
  "toc": {
   "base_numbering": 1,
   "nav_menu": {},
   "number_sections": true,
   "sideBar": true,
   "skip_h1_title": false,
   "title_cell": "Table of Contents",
   "title_sidebar": "Contents",
   "toc_cell": false,
   "toc_position": {},
   "toc_section_display": true,
   "toc_window_display": false
  }
 },
 "nbformat": 4,
 "nbformat_minor": 4
}
