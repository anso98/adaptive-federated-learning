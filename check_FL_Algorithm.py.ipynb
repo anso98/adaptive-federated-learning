{
 "cells": [
  {
   "cell_type": "code",
   "execution_count": 52,
   "metadata": {
    "ExecuteTime": {
     "end_time": "2022-07-06T13:54:50.766742Z",
     "start_time": "2022-07-06T13:54:50.756401Z"
    }
   },
   "outputs": [],
   "source": [
    "from models.get_model import get_model\n",
    "import os\n",
    "import sys\n",
    "import numpy as np"
   ]
  },
  {
   "cell_type": "code",
   "execution_count": 2,
   "metadata": {
    "ExecuteTime": {
     "end_time": "2022-07-06T13:27:28.436386Z",
     "start_time": "2022-07-06T13:27:28.416956Z"
    }
   },
   "outputs": [],
   "source": [
    "# sys.path.insert(0, os.path.abspath(os.path.join(os.path.dirname(__file__), '..')))\n",
    "# note: __file__ does not work in Jupyter Notebook!"
   ]
  },
  {
   "cell_type": "markdown",
   "metadata": {},
   "source": [
    "# Data"
   ]
  },
  {
   "cell_type": "code",
   "execution_count": 5,
   "metadata": {
    "ExecuteTime": {
     "end_time": "2022-07-06T13:27:31.644465Z",
     "start_time": "2022-07-06T13:27:31.629764Z"
    }
   },
   "outputs": [],
   "source": [
    "# from utils two functions to prepare the data!\n",
    "\n",
    "def get_index_from_one_hot_label(label):\n",
    "    for i in range(0, len(label)):\n",
    "        if label[i] == 1:\n",
    "            return [i]\n",
    "        \n",
    "def get_even_odd_from_one_hot_label(label):\n",
    "    for i in range(0, len(label)):\n",
    "        if label[i] == 1:\n",
    "            c = i % 2\n",
    "            if c == 0:\n",
    "                c = 1\n",
    "            elif c == 1:\n",
    "                c = -1\n",
    "            return c"
   ]
  },
  {
   "cell_type": "code",
   "execution_count": 6,
   "metadata": {
    "ExecuteTime": {
     "end_time": "2022-07-06T13:27:32.475317Z",
     "start_time": "2022-07-06T13:27:32.448816Z"
    }
   },
   "outputs": [],
   "source": [
    "def get_data(dataset, total_data, dataset_file_path=os.path.dirname(''), sim_round=None):\n",
    "\n",
    "    if dataset == 'MNIST_ORIG_EVEN_ODD' or dataset == 'MNIST_ORIG_ALL_LABELS':\n",
    "        #note: here we download mnist_extract --> see file!!\n",
    "        from data_reader.mnist_extractor import mnist_extract\n",
    "\n",
    "        if total_data > 60000:\n",
    "            total_data_train = 60000\n",
    "        else:\n",
    "            total_data_train = total_data\n",
    "\n",
    "        if total_data > 10000:\n",
    "            total_data_test = 10000\n",
    "        else:\n",
    "            total_data_test = total_data\n",
    "\n",
    "        if sim_round is None:\n",
    "            start_index_train = 0\n",
    "            start_index_test = 0\n",
    "        else:\n",
    "            start_index_train = (sim_round * total_data_train) % (max(1, 60000 - total_data_train + 1))\n",
    "            start_index_test = (sim_round * total_data_test) % (max(1, 10000 - total_data_test + 1))\n",
    "\n",
    "        train_image, train_label = mnist_extract(start_index_train, total_data_train, True, dataset_file_path)\n",
    "        test_image, test_label = mnist_extract(start_index_test, total_data_test, False, dataset_file_path)\n",
    "        \n",
    "        #AH: we get the original values for training here - why - not sure!\n",
    "        train_label_orig=[]\n",
    "        for i in range(0, len(train_label)):\n",
    "            label = get_index_from_one_hot_label(train_label[i])\n",
    "            train_label_orig.append(label[0])\n",
    "\n",
    "        if dataset == 'MNIST_ORIG_EVEN_ODD':\n",
    "            for i in range(0, len(train_label)):\n",
    "                train_label[i] = get_even_odd_from_one_hot_label(train_label[i])\n",
    "\n",
    "        if dataset == 'MNIST_ORIG_EVEN_ODD':\n",
    "            for i in range(0, len(test_label)):\n",
    "                test_label[i] = get_even_odd_from_one_hot_label(test_label[i])\n",
    "                \n",
    "    else:\n",
    "        raise Exception('Unknown dataset name.')\n",
    "\n",
    "    return train_image, train_label, test_image, test_label, train_label_orig"
   ]
  },
  {
   "cell_type": "code",
   "execution_count": 7,
   "metadata": {
    "ExecuteTime": {
     "end_time": "2022-07-06T13:27:36.875381Z",
     "start_time": "2022-07-06T13:27:33.301301Z"
    }
   },
   "outputs": [],
   "source": [
    "#from data_reader main - this is what we want to use \n",
    "#NOte: train_label_orig has the numbers, the other labels are now either odd or even!\n",
    "\n",
    "dataset = \"MNIST_ORIG_EVEN_ODD\"\n",
    "total_data = 30000\n",
    "dataset_file_path = \"/Users/Anso/Code/Imperial_College/IndividualProject/adaptive-federated-learning/datasets\"\n",
    "train_image, train_label, test_image, test_label, train_label_orig = get_data(dataset, total_data, dataset_file_path)"
   ]
  },
  {
   "cell_type": "code",
   "execution_count": null,
   "metadata": {},
   "outputs": [],
   "source": []
  },
  {
   "cell_type": "markdown",
   "metadata": {},
   "source": [
    "# Model "
   ]
  },
  {
   "cell_type": "code",
   "execution_count": 3,
   "metadata": {
    "ExecuteTime": {
     "end_time": "2022-07-06T13:27:29.802557Z",
     "start_time": "2022-07-06T13:27:29.789172Z"
    }
   },
   "outputs": [],
   "source": [
    "#from Config File\n",
    "\n",
    "model_name = 'ModelSVMSmooth'\n",
    "\n",
    "batch_size = 100  # 100  # Value for stochastic gradient descent\n",
    "total_data = 60000  # 60000  #Value for stochastic gradient descent"
   ]
  },
  {
   "cell_type": "code",
   "execution_count": 4,
   "metadata": {
    "ExecuteTime": {
     "end_time": "2022-07-06T13:27:30.666518Z",
     "start_time": "2022-07-06T13:27:30.518970Z"
    }
   },
   "outputs": [],
   "source": [
    "# from server.py get model and start it\n",
    "\n",
    "model = get_model(model_name)\n",
    "if hasattr(model, 'create_graph'):\n",
    "    model.create_graph(learning_rate=step_size)"
   ]
  },
  {
   "cell_type": "code",
   "execution_count": 57,
   "metadata": {
    "ExecuteTime": {
     "end_time": "2022-07-06T13:55:23.427269Z",
     "start_time": "2022-07-06T13:55:23.417332Z"
    }
   },
   "outputs": [
    {
     "name": "stdout",
     "output_type": "stream",
     "text": [
      "784\n"
     ]
    }
   ],
   "source": [
    "# happens all in server as set \n",
    "\n",
    "dim_w = model.get_weight_dimension(train_image, train_label)\n",
    "w_global_init = model.get_init_weight(dim_w)\n",
    "w_global = w_global_init\n",
    "print(len(w_global))"
   ]
  },
  {
   "cell_type": "code",
   "execution_count": 58,
   "metadata": {
    "ExecuteTime": {
     "end_time": "2022-07-06T13:55:23.828449Z",
     "start_time": "2022-07-06T13:55:23.816149Z"
    },
    "scrolled": true
   },
   "outputs": [],
   "source": [
    "# initalise variables as in server\n",
    "\n",
    "w_global_min_loss = None\n",
    "loss_min = np.inf\n",
    "prev_loss_is_min = False"
   ]
  },
  {
   "cell_type": "code",
   "execution_count": 59,
   "metadata": {
    "ExecuteTime": {
     "end_time": "2022-07-06T14:19:49.111431Z",
     "start_time": "2022-07-06T14:19:49.102115Z"
    }
   },
   "outputs": [],
   "source": [
    "# why is w_global divided by datalength? A Question for later"
   ]
  },
  {
   "cell_type": "markdown",
   "metadata": {},
   "source": [
    "# FL System later - to be used"
   ]
  },
  {
   "cell_type": "code",
   "execution_count": 130,
   "metadata": {
    "ExecuteTime": {
     "end_time": "2022-07-07T09:13:43.879554Z",
     "start_time": "2022-07-07T09:13:43.870121Z"
    }
   },
   "outputs": [],
   "source": [
    "#information from config for it:\n",
    "n_nodes = 5  # Specifies the total number of clients\n",
    "MAX_CASE = 4  # Specifies the maximum number of cases, this should be a constant equal to 4"
   ]
  },
  {
   "cell_type": "code",
   "execution_count": 131,
   "metadata": {
    "ExecuteTime": {
     "end_time": "2022-07-07T09:13:44.284500Z",
     "start_time": "2022-07-07T09:13:44.091222Z"
    }
   },
   "outputs": [],
   "source": [
    "from util.utils import get_indices_each_node_case\n",
    "indices_each_node_case = get_indices_each_node_case(n_nodes, MAX_CASE, train_label_orig)"
   ]
  },
  {
   "cell_type": "code",
   "execution_count": 43,
   "metadata": {
    "ExecuteTime": {
     "end_time": "2022-07-06T13:43:23.834685Z",
     "start_time": "2022-07-06T13:43:23.825824Z"
    }
   },
   "outputs": [
    {
     "name": "stdout",
     "output_type": "stream",
     "text": [
      "4\n"
     ]
    }
   ],
   "source": [
    "print(len(indices_each_node_case))\n",
    "# I think indices each node has 4 cases and depending on those the data is split!\n",
    "# why do I need the four cases??"
   ]
  },
  {
   "cell_type": "code",
   "execution_count": 36,
   "metadata": {
    "ExecuteTime": {
     "end_time": "2022-07-06T13:40:49.640946Z",
     "start_time": "2022-07-06T13:40:49.627238Z"
    }
   },
   "outputs": [
    {
     "name": "stdout",
     "output_type": "stream",
     "text": [
      "6000\n",
      "6000\n",
      "6000\n",
      "6000\n",
      "6000\n"
     ]
    }
   ],
   "source": [
    "print(len(indices_each_node_case[0][0]))\n",
    "print(len(indices_each_node_case[0][1]))\n",
    "print(len(indices_each_node_case[0][2]))\n",
    "print(len(indices_each_node_case[0][3]))\n",
    "print(len(indices_each_node_case[0][4]))\n"
   ]
  },
  {
   "cell_type": "code",
   "execution_count": 39,
   "metadata": {
    "ExecuteTime": {
     "end_time": "2022-07-06T13:41:28.720518Z",
     "start_time": "2022-07-06T13:41:28.706277Z"
    }
   },
   "outputs": [
    {
     "name": "stdout",
     "output_type": "stream",
     "text": [
      "5670\n",
      "6398\n",
      "6055\n",
      "5948\n",
      "5929\n"
     ]
    }
   ],
   "source": [
    "print(len(indices_each_node_case[1][0]))\n",
    "print(len(indices_each_node_case[1][1]))\n",
    "print(len(indices_each_node_case[1][2]))\n",
    "print(len(indices_each_node_case[1][3]))\n",
    "print(len(indices_each_node_case[1][4]))"
   ]
  },
  {
   "cell_type": "code",
   "execution_count": 41,
   "metadata": {
    "ExecuteTime": {
     "end_time": "2022-07-06T13:41:52.642463Z",
     "start_time": "2022-07-06T13:41:52.631063Z"
    }
   },
   "outputs": [
    {
     "name": "stdout",
     "output_type": "stream",
     "text": [
      "30000\n",
      "30000\n",
      "30000\n",
      "30000\n",
      "30000\n"
     ]
    }
   ],
   "source": [
    "print(len(indices_each_node_case[2][0]))\n",
    "print(len(indices_each_node_case[2][1]))\n",
    "print(len(indices_each_node_case[2][2]))\n",
    "print(len(indices_each_node_case[2][3]))\n",
    "print(len(indices_each_node_case[2][4]))"
   ]
  },
  {
   "cell_type": "code",
   "execution_count": 42,
   "metadata": {
    "ExecuteTime": {
     "end_time": "2022-07-06T13:42:03.766303Z",
     "start_time": "2022-07-06T13:42:03.752344Z"
    }
   },
   "outputs": [
    {
     "name": "stdout",
     "output_type": "stream",
     "text": [
      "5135\n",
      "5124\n",
      "5072\n",
      "5850\n",
      "8819\n"
     ]
    }
   ],
   "source": [
    "print(len(indices_each_node_case[3][0]))\n",
    "print(len(indices_each_node_case[3][1]))\n",
    "print(len(indices_each_node_case[3][2]))\n",
    "print(len(indices_each_node_case[3][3]))\n",
    "print(len(indices_each_node_case[3][4]))"
   ]
  },
  {
   "cell_type": "code",
   "execution_count": 44,
   "metadata": {
    "ExecuteTime": {
     "end_time": "2022-07-06T13:48:25.244574Z",
     "start_time": "2022-07-06T13:48:25.231491Z"
    }
   },
   "outputs": [],
   "source": [
    "# need to find out why 4 cases???"
   ]
  },
  {
   "cell_type": "markdown",
   "metadata": {},
   "source": [
    "# in Client code - running learning"
   ]
  },
  {
   "cell_type": "code",
   "execution_count": 74,
   "metadata": {
    "ExecuteTime": {
     "end_time": "2022-07-06T14:33:43.159049Z",
     "start_time": "2022-07-06T14:33:43.121508Z"
    }
   },
   "outputs": [],
   "source": [
    "# now in client code to let the model run\n",
    "from util.sampling import MinibatchSampling\n",
    "\n",
    "#taking one from the arrays above\n",
    "indices_this_node = indices_each_node_case[2][0]\n",
    "# set sim around artifically to 1 \n",
    "sim = 1\n",
    "# batch size is defined above = 100\n",
    "\n",
    "# use w_global as w here\n",
    "w = w_global\n",
    "\n",
    "\n",
    "sampler = MinibatchSampling(indices_this_node, batch_size, sim)\n",
    "data_size_local = len(indices_this_node)"
   ]
  },
  {
   "cell_type": "code",
   "execution_count": 66,
   "metadata": {
    "ExecuteTime": {
     "end_time": "2022-07-06T14:29:46.010387Z",
     "start_time": "2022-07-06T14:29:45.997822Z"
    }
   },
   "outputs": [
    {
     "data": {
      "text/plain": [
       "util.sampling.MinibatchSampling"
      ]
     },
     "execution_count": 66,
     "metadata": {},
     "output_type": "execute_result"
    }
   ],
   "source": [
    "type(sampler)"
   ]
  },
  {
   "cell_type": "code",
   "execution_count": 71,
   "metadata": {
    "ExecuteTime": {
     "end_time": "2022-07-06T14:33:06.666502Z",
     "start_time": "2022-07-06T14:33:06.640005Z"
    }
   },
   "outputs": [],
   "source": [
    "sample_indices = sampler.get_next_batch()\n",
    "train_indices = sample_indices"
   ]
  },
  {
   "cell_type": "code",
   "execution_count": 84,
   "metadata": {
    "ExecuteTime": {
     "end_time": "2022-07-06T14:43:06.674428Z",
     "start_time": "2022-07-06T14:43:06.662666Z"
    },
    "scrolled": true
   },
   "outputs": [
    {
     "name": "stdout",
     "output_type": "stream",
     "text": [
      "30000\n",
      "100\n"
     ]
    }
   ],
   "source": [
    "print(len(indices_this_node))\n",
    "print(len(sample_indices))\n",
    "# note 30000 indicies and each sample is 100 big! so I can do this 3000 times"
   ]
  },
  {
   "cell_type": "code",
   "execution_count": 75,
   "metadata": {
    "ExecuteTime": {
     "end_time": "2022-07-06T14:33:45.643699Z",
     "start_time": "2022-07-06T14:33:45.627299Z"
    },
    "scrolled": true
   },
   "outputs": [],
   "source": [
    "grad = model.gradient(train_image, train_label, w, train_indices)"
   ]
  },
  {
   "cell_type": "code",
   "execution_count": 85,
   "metadata": {
    "ExecuteTime": {
     "end_time": "2022-07-06T14:43:52.794861Z",
     "start_time": "2022-07-06T14:43:52.782267Z"
    }
   },
   "outputs": [
    {
     "data": {
      "text/plain": [
       "784"
      ]
     },
     "execution_count": 85,
     "metadata": {},
     "output_type": "execute_result"
    }
   ],
   "source": [
    "len(grad)\n",
    "# note grad is the same length as w, so are the new parameters!"
   ]
  },
  {
   "cell_type": "code",
   "execution_count": 86,
   "metadata": {
    "ExecuteTime": {
     "end_time": "2022-07-06T14:50:31.495432Z",
     "start_time": "2022-07-06T14:50:31.478449Z"
    }
   },
   "outputs": [
    {
     "data": {
      "text/plain": [
       "0.5"
      ]
     },
     "execution_count": 86,
     "metadata": {},
     "output_type": "execute_result"
    }
   ],
   "source": [
    "loss_last_global = model.loss(train_image, train_label, w, train_indices)\n",
    "loss_last_global"
   ]
  },
  {
   "cell_type": "code",
   "execution_count": 116,
   "metadata": {
    "ExecuteTime": {
     "end_time": "2022-07-06T15:16:36.647786Z",
     "start_time": "2022-07-06T15:16:36.636436Z"
    }
   },
   "outputs": [],
   "source": [
    "# Analyser code:\n",
    "number_of_rounds = 300;\n",
    "weights_tracker = np.empty([number_of_rounds, 1])\n",
    "\n",
    "def get_average_from_weight(w):\n",
    "    length_w = len(w)\n",
    "    i = 0\n",
    "    average = 0\n",
    "    while i < length_w:\n",
    "        average += w[i]\n",
    "        i += 1\n",
    "    average /= len(w)\n",
    "    return average"
   ]
  },
  {
   "cell_type": "code",
   "execution_count": 117,
   "metadata": {
    "ExecuteTime": {
     "end_time": "2022-07-06T15:16:37.353217Z",
     "start_time": "2022-07-06T15:16:37.328373Z"
    }
   },
   "outputs": [
    {
     "data": {
      "text/plain": [
       "-0.00024319964703760946"
      ]
     },
     "execution_count": 117,
     "metadata": {},
     "output_type": "execute_result"
    }
   ],
   "source": [
    "get_average_from_weight(w)"
   ]
  },
  {
   "cell_type": "code",
   "execution_count": 118,
   "metadata": {
    "ExecuteTime": {
     "end_time": "2022-07-06T15:18:11.907010Z",
     "start_time": "2022-07-06T15:18:10.682491Z"
    },
    "scrolled": true
   },
   "outputs": [
    {
     "name": "stdout",
     "output_type": "stream",
     "text": [
      "Loss: 0.2535923086300088\n",
      "Loss: 0.27379291908913894\n",
      "Loss: 0.2401680009453534\n",
      "Loss: 0.17898810720488842\n",
      "Loss: 0.25595156057025636\n",
      "Loss: 0.17729850249804635\n",
      "Loss: 0.17482214439071173\n",
      "Loss: 0.1753346042784475\n",
      "Loss: 0.21173008571280177\n",
      "Loss: 0.1749944057642918\n",
      "Loss: 0.2060712753727045\n",
      "Loss: 0.1693004003412218\n",
      "Loss: 0.22739894665101862\n",
      "Loss: 0.20292657839372452\n",
      "Loss: 0.2594989034040225\n",
      "Loss: 0.2252286889153805\n",
      "Loss: 0.2884136014209285\n",
      "Loss: 0.21322857617013669\n",
      "Loss: 0.2961922665212676\n",
      "Loss: 0.17892185545034966\n",
      "Loss: 0.257767217285018\n",
      "Loss: 0.28975445024452284\n",
      "Loss: 0.22313134083068742\n",
      "Loss: 0.21109452975010454\n",
      "Loss: 0.27632994693880986\n",
      "Loss: 0.23742507719699713\n",
      "Loss: 0.2259402228041696\n",
      "Loss: 0.1842443951010695\n",
      "Loss: 0.22369867742093458\n",
      "Loss: 0.23919719200168016\n",
      "Loss: 0.21534308888816117\n",
      "Loss: 0.22735773474780668\n",
      "Loss: 0.23677440549043519\n",
      "Loss: 0.3222950875413664\n",
      "Loss: 0.2575071416991299\n",
      "Loss: 0.22830162454314468\n",
      "Loss: 0.24467139710331023\n",
      "Loss: 0.21999212304064852\n",
      "Loss: 0.22876855561937529\n",
      "Loss: 0.23087317447721026\n",
      "Loss: 0.28074513608651924\n",
      "Loss: 0.1995737255025719\n",
      "Loss: 0.24699331233381122\n",
      "Loss: 0.2294700909404184\n",
      "Loss: 0.19338009672959858\n",
      "Loss: 0.24412238090786093\n",
      "Loss: 0.2093151643786385\n",
      "Loss: 0.24716637327279656\n",
      "Loss: 0.2484284735782367\n",
      "Loss: 0.21587928303982173\n",
      "Loss: 0.22020771813236467\n",
      "Loss: 0.24726962380159623\n",
      "Loss: 0.1569997604704103\n",
      "Loss: 0.2140546131988867\n",
      "Loss: 0.22666774134748485\n",
      "Loss: 0.22670102514487694\n",
      "Loss: 0.2477570800200785\n",
      "Loss: 0.24132599617670086\n",
      "Loss: 0.24294497581398639\n",
      "Loss: 0.21608297332029586\n",
      "Loss: 0.2191361948742629\n",
      "Loss: 0.20083972133410954\n",
      "Loss: 0.23744178271262603\n",
      "Loss: 0.28695906568126694\n",
      "Loss: 0.2611437518598651\n",
      "Loss: 0.2812578404118533\n",
      "Loss: 0.21158062977836975\n",
      "Loss: 0.16676513848116833\n",
      "Loss: 0.301132333475167\n",
      "Loss: 0.2366090833707518\n",
      "Loss: 0.2034508071687297\n",
      "Loss: 0.22347191225341353\n",
      "Loss: 0.19192244955858492\n",
      "Loss: 0.20089070242519638\n",
      "Loss: 0.2505793311481304\n",
      "Loss: 0.25629488352309043\n",
      "Loss: 0.17985102913632542\n",
      "Loss: 0.20352190214392427\n",
      "Loss: 0.2038359330706267\n",
      "Loss: 0.20263415329649434\n",
      "Loss: 0.17171600202651388\n",
      "Loss: 0.1575266745461797\n",
      "Loss: 0.23284072984909648\n",
      "Loss: 0.2169245184949656\n",
      "Loss: 0.25468925675697035\n",
      "Loss: 0.21583024454969174\n",
      "Loss: 0.2661978580923723\n",
      "Loss: 0.238682745563515\n",
      "Loss: 0.21106801320137528\n",
      "Loss: 0.26405708648582615\n",
      "Loss: 0.24116203650341544\n",
      "Loss: 0.20968651475589875\n",
      "Loss: 0.18531543893899582\n",
      "Loss: 0.21364518644014932\n",
      "Loss: 0.25422600808820534\n",
      "Loss: 0.2570466947536102\n",
      "Loss: 0.2579446563137616\n",
      "Loss: 0.21402997006235963\n",
      "Loss: 0.23310027969504984\n",
      "Loss: 0.1920501668030738\n",
      "Loss: 0.19716533891910243\n",
      "Loss: 0.24835193322702964\n",
      "Loss: 0.19664336734859017\n",
      "Loss: 0.23886031866100002\n",
      "Loss: 0.17467823882994235\n",
      "Loss: 0.25052130394986966\n",
      "Loss: 0.24000014769520725\n",
      "Loss: 0.23250154507493515\n",
      "Loss: 0.24341109745859452\n",
      "Loss: 0.20174495638548065\n",
      "Loss: 0.25480427708741005\n",
      "Loss: 0.20969347448979514\n",
      "Loss: 0.1896997676784703\n",
      "Loss: 0.24738349855841704\n",
      "Loss: 0.2264147030518639\n",
      "Loss: 0.2483003263464087\n",
      "Loss: 0.21536998171882007\n",
      "Loss: 0.20899799611003292\n",
      "Loss: 0.2524880126068412\n",
      "Loss: 0.17257209411289548\n",
      "Loss: 0.2043042786797481\n",
      "Loss: 0.26182403364573736\n",
      "Loss: 0.18665731617938386\n",
      "Loss: 0.22970214962835442\n",
      "Loss: 0.19898146730489386\n",
      "Loss: 0.2424796057409167\n",
      "Loss: 0.20460252367906379\n",
      "Loss: 0.20032536748606178\n",
      "Loss: 0.2921162360468142\n",
      "Loss: 0.1972860349522462\n",
      "Loss: 0.1954726358390817\n",
      "Loss: 0.21826336189499812\n",
      "Loss: 0.211106090618702\n",
      "Loss: 0.2532022079784846\n",
      "Loss: 0.17400246677718237\n",
      "Loss: 0.22866375766625963\n",
      "Loss: 0.18189583282136595\n",
      "Loss: 0.23209631856275068\n",
      "Loss: 0.2064016829768673\n",
      "Loss: 0.2850448041604391\n",
      "Loss: 0.20739328183957567\n",
      "Loss: 0.20729438949175152\n",
      "Loss: 0.20949373141758718\n",
      "Loss: 0.24421834994039018\n",
      "Loss: 0.19037681597789907\n",
      "Loss: 0.20475242443835287\n",
      "Loss: 0.26528188604438074\n",
      "Loss: 0.22635059783933387\n",
      "Loss: 0.20131647951520854\n",
      "Loss: 0.2316105064352019\n",
      "Loss: 0.2384875132821987\n",
      "Loss: 0.22368357405876865\n",
      "Loss: 0.26671933436909323\n",
      "Loss: 0.20553633896753615\n",
      "Loss: 0.20941071908782888\n",
      "Loss: 0.21036384223565865\n",
      "Loss: 0.2744819269853696\n",
      "Loss: 0.22082152850085054\n",
      "Loss: 0.25760142225631616\n",
      "Loss: 0.2557138693547228\n",
      "Loss: 0.2771155562930926\n",
      "Loss: 0.21571469766294116\n",
      "Loss: 0.2231827792695648\n",
      "Loss: 0.2705656485706344\n",
      "Loss: 0.261651027927998\n",
      "Loss: 0.27827935452794056\n",
      "Loss: 0.22723737186657564\n",
      "Loss: 0.1914835347247487\n",
      "Loss: 0.2219205568162106\n",
      "Loss: 0.26824214207986474\n",
      "Loss: 0.16931413428310052\n",
      "Loss: 0.200187103205846\n",
      "Loss: 0.2122762432780734\n",
      "Loss: 0.17374140146699943\n",
      "Loss: 0.19118757852712265\n",
      "Loss: 0.17177361918507073\n",
      "Loss: 0.2008351147244275\n",
      "Loss: 0.21596621241005873\n",
      "Loss: 0.18238526062685062\n",
      "Loss: 0.18063940305198764\n",
      "Loss: 0.19865093175262266\n",
      "Loss: 0.22344228385886092\n",
      "Loss: 0.20209468397000435\n",
      "Loss: 0.18444674231702263\n",
      "Loss: 0.23063835890858653\n",
      "Loss: 0.23596263758344382\n",
      "Loss: 0.252855173333823\n",
      "Loss: 0.21067564413031475\n",
      "Loss: 0.1991734052149859\n",
      "Loss: 0.1746401040659607\n",
      "Loss: 0.24778587954301168\n",
      "Loss: 0.22339606726897002\n",
      "Loss: 0.2324420247212881\n",
      "Loss: 0.153887065918066\n",
      "Loss: 0.2462893966854328\n",
      "Loss: 0.2452920094454689\n",
      "Loss: 0.1967698591026472\n",
      "Loss: 0.20641906333404264\n",
      "Loss: 0.2755229669637149\n",
      "Loss: 0.24353366358856687\n",
      "Loss: 0.20745433712329253\n",
      "Loss: 0.19613423458843585\n",
      "Loss: 0.21760373209659803\n",
      "Loss: 0.18008567447101925\n",
      "Loss: 0.2641803548909187\n",
      "Loss: 0.2613838332641052\n",
      "Loss: 0.20499815270477764\n",
      "Loss: 0.240635211237204\n",
      "Loss: 0.2547533793765947\n",
      "Loss: 0.20586307095410444\n",
      "Loss: 0.20560425047997338\n",
      "Loss: 0.27959009165789583\n",
      "Loss: 0.25355156546334784\n",
      "Loss: 0.24863466474078974\n",
      "Loss: 0.23310295774131928\n",
      "Loss: 0.19813442030469655\n",
      "Loss: 0.20026587952216104\n",
      "Loss: 0.2637710416288208\n",
      "Loss: 0.2067663894830588\n",
      "Loss: 0.24130681583282823\n",
      "Loss: 0.21328901539264372\n",
      "Loss: 0.23918036572516693\n",
      "Loss: 0.23621151025990403\n",
      "Loss: 0.26555283470025776\n",
      "Loss: 0.2729774936393365\n",
      "Loss: 0.2511213899234238\n",
      "Loss: 0.23165821329305508\n",
      "Loss: 0.19925182480404993\n",
      "Loss: 0.22410597907885363\n",
      "Loss: 0.26619493179317044\n",
      "Loss: 0.23487473603575104\n",
      "Loss: 0.19024695229444016\n",
      "Loss: 0.1826652587416054\n",
      "Loss: 0.2716957003517772\n",
      "Loss: 0.2095488428028694\n",
      "Loss: 0.22094782013205838\n",
      "Loss: 0.24493017147950047\n",
      "Loss: 0.19857740513747763\n",
      "Loss: 0.24112435291035073\n",
      "Loss: 0.22155951295839676\n",
      "Loss: 0.24548213443713338\n",
      "Loss: 0.28153915043812666\n",
      "Loss: 0.22816499953708896\n",
      "Loss: 0.14486584030607338\n",
      "Loss: 0.2162621046163031\n",
      "Loss: 0.2849733751695923\n",
      "Loss: 0.21743910777299183\n",
      "Loss: 0.2354927971611095\n",
      "Loss: 0.1960564538569851\n",
      "Loss: 0.29227986151777235\n",
      "Loss: 0.2376244898462802\n",
      "Loss: 0.2185197257322718\n",
      "Loss: 0.2306136062910717\n",
      "Loss: 0.21049613093099837\n",
      "Loss: 0.22446121734167207\n",
      "Loss: 0.1935841183497408\n",
      "Loss: 0.2054985005712989\n",
      "Loss: 0.2243531078335253\n",
      "Loss: 0.2647268239149995\n",
      "Loss: 0.2625413036961885\n",
      "Loss: 0.1572279303377088\n",
      "Loss: 0.18705083785578613\n",
      "Loss: 0.18944093910455423\n",
      "Loss: 0.20566230637911243\n",
      "Loss: 0.19038615554476798\n",
      "Loss: 0.23598370315916375\n",
      "Loss: 0.19708002059479868\n",
      "Loss: 0.24639520793593644\n",
      "Loss: 0.18474974507549458\n",
      "Loss: 0.23884329469945004\n",
      "Loss: 0.19674510957191949\n",
      "Loss: 0.24175827956599077\n",
      "Loss: 0.19208674282896432\n",
      "Loss: 0.16421731564109515\n",
      "Loss: 0.25929574911276726\n",
      "Loss: 0.21949629131446277\n",
      "Loss: 0.24815378566742644\n",
      "Loss: 0.2242452840589515\n",
      "Loss: 0.1884725778084904\n",
      "Loss: 0.22453880359741374\n",
      "Loss: 0.21576191479192677\n",
      "Loss: 0.1714906600044276\n",
      "Loss: 0.24368765682920407\n",
      "Loss: 0.20175448634662607\n",
      "Loss: 0.25868929543725244\n",
      "Loss: 0.18539668894640426\n",
      "Loss: 0.275732427359701\n",
      "Loss: 0.23523236635550832\n",
      "Loss: 0.22932182197112796\n",
      "Loss: 0.1919066610891815\n",
      "Loss: 0.17285324615112319\n",
      "Loss: 0.20782418487810903\n",
      "Loss: 0.1725183466021492\n",
      "Loss: 0.1923946073764946\n",
      "Loss: 0.2179058066932258\n",
      "Loss: 0.22917448770723775\n",
      "Loss: 0.23749412657667351\n",
      "Loss: 0.22503454941017972\n",
      "Loss: 0.27011445680976787\n",
      "Loss: 0.23380298757789353\n"
     ]
    }
   ],
   "source": [
    "# note: I checked by printing that the indicies thanks to the get_next_batch function are different every time\n",
    "# note: why this stepsize?\n",
    "# why do we do accuracy on test set and loss on train set? \n",
    "\n",
    "i = 0\n",
    "step_size = 0.01\n",
    "while i < number_of_rounds:\n",
    "    sample_indices = sampler.get_next_batch()\n",
    "    train_indices = sample_indices\n",
    "    grad = model.gradient(train_image, train_label, w, train_indices)\n",
    "    loss_last_global = model.loss(train_image, train_label, w, train_indices)\n",
    "    print('Loss:', loss_last_global)\n",
    "    \n",
    "    w = w - step_size * grad\n",
    "    #capture w as an average over all parameters:\n",
    "    average_w = get_average_from_weight(w)\n",
    "    #store this average_w in array for plotting \n",
    "    weights_tracker[i] = average_w\n",
    "    \n",
    "    i += 1"
   ]
  },
  {
   "cell_type": "code",
   "execution_count": 99,
   "metadata": {
    "ExecuteTime": {
     "end_time": "2022-07-06T14:58:47.098287Z",
     "start_time": "2022-07-06T14:58:47.089036Z"
    }
   },
   "outputs": [],
   "source": [
    "# important note for aggregation: w_global += w_local * data_size_local -> means that the aggregator\n",
    "# takes in the w depending on how big the local dataset was and weights them that way"
   ]
  },
  {
   "cell_type": "code",
   "execution_count": 119,
   "metadata": {
    "ExecuteTime": {
     "end_time": "2022-07-06T15:18:22.479921Z",
     "start_time": "2022-07-06T15:18:22.407092Z"
    }
   },
   "outputs": [
    {
     "name": "stdout",
     "output_type": "stream",
     "text": [
      "Accuracy 0.8743\n"
     ]
    }
   ],
   "source": [
    "prediction_accuracy = model.accuracy(test_image, test_label, w)\n",
    "print('Accuracy', prediction_accuracy)"
   ]
  },
  {
   "cell_type": "code",
   "execution_count": 107,
   "metadata": {
    "ExecuteTime": {
     "end_time": "2022-07-06T15:07:49.330355Z",
     "start_time": "2022-07-06T15:07:49.321075Z"
    }
   },
   "outputs": [],
   "source": [
    "# my questions in order to continue\n",
    "\n",
    "# Does the ML model run once or does the ML model run multiple times on each node before updating the global model\n",
    "# What are the 4 cases?\n",
    "# I think I will just replicate exactly what I did here now in the FL system - makes it easer\n",
    "# simple first\n",
    "# afterwards I can think about adapting again\n",
    "\n",
    "# what do I want to do next? Let this run in FL enviornment and take into account the different weights\n",
    "# and draw the weights in a plot!\n",
    "\n",
    "# question: do we just want to have one update round locally before sending it to the central server?\n",
    "# or do we want local learning and update rounds and then central learning?\n",
    "\n",
    "# to make it malicious I have to think about how I can change some of the data?\n",
    "\n",
    "# do I choose always min w, so if an update round does not improve accuracy I am going back to what was there before?\n",
    "# does it make sense to use use_min_loss = true -> always use the minimum loss weights from local parameters?\n",
    "\n",
    "#whats simround and how does it affect the data?\n",
    "\n",
    "# note: currently loss is calculated in the client and then the value transfered to server and used there.\n",
    "# Would maybe be better to calculate the loss with the new w directly in the server? Also with test data?\n",
    "\n",
    "# Question to Datasize local: I am using this to determin the weight of the node, but do I not always use 100\n",
    "# as a bacth size and therefore it's the same for any of the nodes and wouldn't matter?\n",
    "# Or do I iterae through all the data before sending anything?"
   ]
  },
  {
   "cell_type": "code",
   "execution_count": 137,
   "metadata": {
    "ExecuteTime": {
     "end_time": "2022-07-07T16:38:01.394135Z",
     "start_time": "2022-07-07T16:38:01.375599Z"
    }
   },
   "outputs": [],
   "source": [
    "#ToDo:\n",
    "# check how minibatchsampler works - if it just gets traind with 100 parameters\n",
    "# check how the model works? I guess model is pretrainer so nothing to do with me right?\n",
    "# include my analyser!\n",
    "# it always chooses the same data (each time I run it), in order to proof my case, I need to variate the dat\n",
    "# will be done in second step when I include malicious data!\n",
    "\n",
    "\n",
    "#ToDO analyse:\n",
    "# graphen glätten \n",
    "# iterate between loss calculation training and test data and see difference!!! discuss this!!!\n",
    "# check with someone my std calculation!\n",
    "\n",
    "ToDo Tomorrow:\n",
    "# do cases as for loop and loop through it with initalising server & clients!!!\n",
    "#-> then I can do the analysis in one go! (but also enable to disable!!)\n",
    "# make csv with accuracy and loss values for each of these cases and make a graph were you can read through thm\n",
    "# make csv with global weight for all of these cases for all rounds -> 21 lines see differences!\n",
    "# analyse malicious nodes some how - discuss later!\n",
    "# mark malicious node definitly!\n",
    "\n",
    "# make client malicious with for loops and a boolean!\n",
    "\n",
    "\n",
    "\n",
    "\n",
    "#Idee:\n",
    "# könnte man nicht einen threshold bestimmen, wo lernen nicht mehr so wichtig ist und dann die update round\n",
    "#frequency reduzieren?"
   ]
  },
  {
   "cell_type": "markdown",
   "metadata": {},
   "source": [
    "Question Tiffany:\n",
    "\n",
    "1. Why use training data to calculate loss? and not the test data?\n",
    "2. Why use always the same data for each round and not make it random (to have different results each round)\n",
    "3. "
   ]
  },
  {
   "cell_type": "markdown",
   "metadata": {},
   "source": [
    "Notes what to do tomorrow:\n",
    "\n",
    "1. Fix STD?\n",
    "2. Save Accuracy and Loss as well\n",
    "3. implement a malicious client (make variables as if statement -> malicious = true or not true!)\n",
    "4. in Config file determine how many malicious user and how much of the data should be malicious"
   ]
  },
  {
   "cell_type": "code",
   "execution_count": 136,
   "metadata": {
    "ExecuteTime": {
     "end_time": "2022-07-07T16:34:42.298106Z",
     "start_time": "2022-07-07T16:34:42.285010Z"
    }
   },
   "outputs": [
    {
     "data": {
      "text/plain": [
       "16"
      ]
     },
     "execution_count": 136,
     "metadata": {},
     "output_type": "execute_result"
    }
   ],
   "source": [
    "4 ** 2"
   ]
  },
  {
   "cell_type": "code",
   "execution_count": 123,
   "metadata": {
    "ExecuteTime": {
     "end_time": "2022-07-06T15:19:26.793921Z",
     "start_time": "2022-07-06T15:19:26.784739Z"
    }
   },
   "outputs": [],
   "source": [
    "from matplotlib import pyplot as plt\n",
    "\n",
    "def plot_weights(weights):\n",
    "    plt.plot(weights)\n",
    "    plt.title(\"Average weight per iteration\")\n",
    "    plt.xlabel(\"Update Round\")\n",
    "    plt.ylabel(\"Average Weight\")\n",
    "    plt.grid(axis=\"y\", linewidth=0.5)"
   ]
  },
  {
   "cell_type": "code",
   "execution_count": 125,
   "metadata": {
    "ExecuteTime": {
     "end_time": "2022-07-06T15:21:01.139948Z",
     "start_time": "2022-07-06T15:21:00.881129Z"
    },
    "scrolled": true
   },
   "outputs": [
    {
     "data": {
      "image/png": "[encoded data removed]",
      "text/plain": [
       "<Figure size 432x288 with 1 Axes>"
      ]
     },
     "metadata": {
      "needs_background": "light"
     },
     "output_type": "display_data"
    }
   ],
   "source": [
    "plot_weights(weights_tracker)"
   ]
  },
  {
   "cell_type": "code",
   "execution_count": null,
   "metadata": {},
   "outputs": [],
   "source": []
  },
  {
   "cell_type": "markdown",
   "metadata": {},
   "source": [
    "# Export Analysis "
   ]
  },
  {
   "cell_type": "code",
   "execution_count": 173,
   "metadata": {
    "ExecuteTime": {
     "end_time": "2022-07-08T13:06:58.751788Z",
     "start_time": "2022-07-08T13:06:58.742081Z"
    }
   },
   "outputs": [],
   "source": [
    "current_directory = os. getcwd() \n",
    "results_file_name = os.path.join(current_directory, 'analysis_results/results.csv')"
   ]
  },
  {
   "cell_type": "code",
   "execution_count": 174,
   "metadata": {
    "ExecuteTime": {
     "end_time": "2022-07-08T13:06:59.213571Z",
     "start_time": "2022-07-08T13:06:59.200593Z"
    },
    "scrolled": true
   },
   "outputs": [
    {
     "data": {
      "text/plain": [
       "'/Users/Anso/Code/Imperial_College/IndividualProject/adaptive-federated-learning/analysis_results/results.csv'"
      ]
     },
     "execution_count": 174,
     "metadata": {},
     "output_type": "execute_result"
    }
   ],
   "source": [
    "results_file_name"
   ]
  },
  {
   "cell_type": "code",
   "execution_count": 212,
   "metadata": {
    "ExecuteTime": {
     "end_time": "2022-07-08T13:58:46.678613Z",
     "start_time": "2022-07-08T13:58:46.669824Z"
    }
   },
   "outputs": [],
   "source": [
    "test = np.zeros((3, 5))\n",
    "test[0] = 1"
   ]
  },
  {
   "cell_type": "code",
   "execution_count": 213,
   "metadata": {
    "ExecuteTime": {
     "end_time": "2022-07-08T13:58:47.067539Z",
     "start_time": "2022-07-08T13:58:47.053268Z"
    },
    "scrolled": true
   },
   "outputs": [
    {
     "data": {
      "text/plain": [
       "array([[1., 1., 1., 1., 1.],\n",
       "       [0., 0., 0., 0., 0.],\n",
       "       [0., 0., 0., 0., 0.]])"
      ]
     },
     "execution_count": 213,
     "metadata": {},
     "output_type": "execute_result"
    }
   ],
   "source": [
    "test"
   ]
  },
  {
   "cell_type": "code",
   "execution_count": null,
   "metadata": {},
   "outputs": [],
   "source": [
    "# create a header file\n",
    "# what do I want to save: std + mean weights + accuracy + loss \n",
    "\n",
    "Ich muss meine Analyse strukturieren: \n",
    "    1. std von weights \n",
    "    2. Accuracy & Loss pro Runde\n",
    "    \n",
    "    \n",
    "Ich schau mir an was passiert, wenn keine node malicious ist vs:\n",
    "    0 node malicious (base case)\n",
    "    1 node malicious (25%, 50% 75% 100% der daten)\n",
    "    2 node malicious (25%, 50%, 75%, 100% der daten)\n",
    "    3 node malicious (25%, 50%, 75%, 100% der daten)\n",
    "    4 node malicious(25%, 50%, 75%, 100% der daten)\n",
    "    5 node malicious(25%, 50%, 75%, 100% der daten)\n",
    "\n",
    "    1 basecase and 20 other cases -> 21 cases!\n",
    "    \n",
    "Was möchte ich dann vergleichen: \n",
    "    std of weights (save graph to check, can I put this together with average weight?)\n",
    "    average weight (save graph to check, can I put this together with std?)\n",
    "    accuracy per round -> graphs! (save graph to check)\n",
    "    loss per round -> graphs! (save graph to check)\n",
    "\n",
    "Find out: how to save graphs?\n",
    "    \n",
    "    Was möchte ich speichern: \n",
    "        Weights of normal and malicious users, I need to think about how to save it so that it\n",
    "        is again accessable\n",
    "\n"
   ]
  },
  {
   "cell_type": "code",
   "execution_count": 217,
   "metadata": {
    "ExecuteTime": {
     "end_time": "2022-07-08T13:59:30.330859Z",
     "start_time": "2022-07-08T13:59:30.319645Z"
    }
   },
   "outputs": [],
   "source": [
    "with open(results_file_name, 'a') as csvfile:\n",
    "    csvfile.write('test,test1,\\n')\n",
    "    csvfile.write(str(test))\n",
    "    np.savetxt(csvfile, test, fmt='%.18e', delimiter=', ', encoding=None)\n",
    "    csvfile.close()"
   ]
  },
  {
   "cell_type": "code",
   "execution_count": 198,
   "metadata": {
    "ExecuteTime": {
     "end_time": "2022-07-08T13:29:04.366913Z",
     "start_time": "2022-07-08T13:29:04.357678Z"
    }
   },
   "outputs": [],
   "source": []
  },
  {
   "cell_type": "code",
   "execution_count": null,
   "metadata": {},
   "outputs": [],
   "source": [
    "#what do I want to save: \n",
    "# for each round save the weights from each node for each round\n",
    "# save in the header:accuracy and loss min and w global for it\n",
    "# create unique identifier for each round which I can use as a key "
   ]
  }
 ],
 "metadata": {
  "kernelspec": {
   "display_name": "Python 3",
   "language": "python",
   "name": "python3"
  },
  "language_info": {
   "codemirror_mode": {
    "name": "ipython",
    "version": 3
   },
   "file_extension": ".py",
   "mimetype": "text/x-python",
   "name": "python",
   "nbconvert_exporter": "python",
   "pygments_lexer": "ipython3",
   "version": "3.8.6"
  },
  "toc": {
   "base_numbering": 1,
   "nav_menu": {},
   "number_sections": true,
   "sideBar": true,
   "skip_h1_title": false,
   "title_cell": "Table of Contents",
   "title_sidebar": "Contents",
   "toc_cell": false,
   "toc_position": {},
   "toc_section_display": true,
   "toc_window_display": false
  }
 },
 "nbformat": 4,
 "nbformat_minor": 4
}
