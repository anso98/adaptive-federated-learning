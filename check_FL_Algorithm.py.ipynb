{
 "cells": [
  {
   "cell_type": "code",
   "execution_count": 52,
   "metadata": {
    "ExecuteTime": {
     "end_time": "2022-07-06T13:54:50.766742Z",
     "start_time": "2022-07-06T13:54:50.756401Z"
    }
   },
   "outputs": [],
   "source": [
    "from models.get_model import get_model\n",
    "import os\n",
    "import sys\n",
    "import numpy as np"
   ]
  },
  {
   "cell_type": "code",
   "execution_count": 2,
   "metadata": {
    "ExecuteTime": {
     "end_time": "2022-07-06T13:27:28.436386Z",
     "start_time": "2022-07-06T13:27:28.416956Z"
    }
   },
   "outputs": [],
   "source": [
    "# sys.path.insert(0, os.path.abspath(os.path.join(os.path.dirname(__file__), '..')))\n",
    "# note: __file__ does not work in Jupyter Notebook!"
   ]
  },
  {
   "cell_type": "markdown",
   "metadata": {},
   "source": [
    "# Data"
   ]
  },
  {
   "cell_type": "code",
   "execution_count": 5,
   "metadata": {
    "ExecuteTime": {
     "end_time": "2022-07-06T13:27:31.644465Z",
     "start_time": "2022-07-06T13:27:31.629764Z"
    }
   },
   "outputs": [],
   "source": [
    "# from utils two functions to prepare the data!\n",
    "\n",
    "def get_index_from_one_hot_label(label):\n",
    "    for i in range(0, len(label)):\n",
    "        if label[i] == 1:\n",
    "            return [i]\n",
    "        \n",
    "def get_even_odd_from_one_hot_label(label):\n",
    "    for i in range(0, len(label)):\n",
    "        if label[i] == 1:\n",
    "            c = i % 2\n",
    "            if c == 0:\n",
    "                c = 1\n",
    "            elif c == 1:\n",
    "                c = -1\n",
    "            return c"
   ]
  },
  {
   "cell_type": "code",
   "execution_count": 6,
   "metadata": {
    "ExecuteTime": {
     "end_time": "2022-07-06T13:27:32.475317Z",
     "start_time": "2022-07-06T13:27:32.448816Z"
    }
   },
   "outputs": [],
   "source": [
    "def get_data(dataset, total_data, dataset_file_path=os.path.dirname(''), sim_round=None):\n",
    "\n",
    "    if dataset == 'MNIST_ORIG_EVEN_ODD' or dataset == 'MNIST_ORIG_ALL_LABELS':\n",
    "        #note: here we download mnist_extract --> see file!!\n",
    "        from data_reader.mnist_extractor import mnist_extract\n",
    "\n",
    "        if total_data > 60000:\n",
    "            total_data_train = 60000\n",
    "        else:\n",
    "            total_data_train = total_data\n",
    "\n",
    "        if total_data > 10000:\n",
    "            total_data_test = 10000\n",
    "        else:\n",
    "            total_data_test = total_data\n",
    "\n",
    "        if sim_round is None:\n",
    "            start_index_train = 0\n",
    "            start_index_test = 0\n",
    "        else:\n",
    "            start_index_train = (sim_round * total_data_train) % (max(1, 60000 - total_data_train + 1))\n",
    "            start_index_test = (sim_round * total_data_test) % (max(1, 10000 - total_data_test + 1))\n",
    "\n",
    "        train_image, train_label = mnist_extract(start_index_train, total_data_train, True, dataset_file_path)\n",
    "        test_image, test_label = mnist_extract(start_index_test, total_data_test, False, dataset_file_path)\n",
    "        \n",
    "        #AH: we get the original values for training here - why - not sure!\n",
    "        train_label_orig=[]\n",
    "        for i in range(0, len(train_label)):\n",
    "            label = get_index_from_one_hot_label(train_label[i])\n",
    "            train_label_orig.append(label[0])\n",
    "\n",
    "        if dataset == 'MNIST_ORIG_EVEN_ODD':\n",
    "            for i in range(0, len(train_label)):\n",
    "                train_label[i] = get_even_odd_from_one_hot_label(train_label[i])\n",
    "\n",
    "        if dataset == 'MNIST_ORIG_EVEN_ODD':\n",
    "            for i in range(0, len(test_label)):\n",
    "                test_label[i] = get_even_odd_from_one_hot_label(test_label[i])\n",
    "                \n",
    "    else:\n",
    "        raise Exception('Unknown dataset name.')\n",
    "\n",
    "    return train_image, train_label, test_image, test_label, train_label_orig"
   ]
  },
  {
   "cell_type": "code",
   "execution_count": 7,
   "metadata": {
    "ExecuteTime": {
     "end_time": "2022-07-06T13:27:36.875381Z",
     "start_time": "2022-07-06T13:27:33.301301Z"
    }
   },
   "outputs": [],
   "source": [
    "#from data_reader main - this is what we want to use \n",
    "#NOte: train_label_orig has the numbers, the other labels are now either odd or even!\n",
    "\n",
    "dataset = \"MNIST_ORIG_EVEN_ODD\"\n",
    "total_data = 30000\n",
    "dataset_file_path = \"/Users/Anso/Code/Imperial_College/IndividualProject/adaptive-federated-learning/datasets\"\n",
    "train_image, train_label, test_image, test_label, train_label_orig = get_data(dataset, total_data, dataset_file_path)"
   ]
  },
  {
   "cell_type": "code",
   "execution_count": null,
   "metadata": {},
   "outputs": [],
   "source": []
  },
  {
   "cell_type": "markdown",
   "metadata": {},
   "source": [
    "# Model "
   ]
  },
  {
   "cell_type": "code",
   "execution_count": 3,
   "metadata": {
    "ExecuteTime": {
     "end_time": "2022-07-06T13:27:29.802557Z",
     "start_time": "2022-07-06T13:27:29.789172Z"
    }
   },
   "outputs": [],
   "source": [
    "#from Config File\n",
    "\n",
    "model_name = 'ModelSVMSmooth'\n",
    "\n",
    "batch_size = 100  # 100  # Value for stochastic gradient descent\n",
    "total_data = 60000  # 60000  #Value for stochastic gradient descent"
   ]
  },
  {
   "cell_type": "code",
   "execution_count": 4,
   "metadata": {
    "ExecuteTime": {
     "end_time": "2022-07-06T13:27:30.666518Z",
     "start_time": "2022-07-06T13:27:30.518970Z"
    }
   },
   "outputs": [],
   "source": [
    "# from server.py get model and start it\n",
    "\n",
    "model = get_model(model_name)\n",
    "if hasattr(model, 'create_graph'):\n",
    "    model.create_graph(learning_rate=step_size)"
   ]
  },
  {
   "cell_type": "code",
   "execution_count": 57,
   "metadata": {
    "ExecuteTime": {
     "end_time": "2022-07-06T13:55:23.427269Z",
     "start_time": "2022-07-06T13:55:23.417332Z"
    }
   },
   "outputs": [
    {
     "name": "stdout",
     "output_type": "stream",
     "text": [
      "784\n"
     ]
    }
   ],
   "source": [
    "# happens all in server as set \n",
    "\n",
    "dim_w = model.get_weight_dimension(train_image, train_label)\n",
    "w_global_init = model.get_init_weight(dim_w)\n",
    "w_global = w_global_init\n",
    "print(len(w_global))"
   ]
  },
  {
   "cell_type": "code",
   "execution_count": 58,
   "metadata": {
    "ExecuteTime": {
     "end_time": "2022-07-06T13:55:23.828449Z",
     "start_time": "2022-07-06T13:55:23.816149Z"
    },
    "scrolled": true
   },
   "outputs": [],
   "source": [
    "# initalise variables as in server\n",
    "\n",
    "w_global_min_loss = None\n",
    "loss_min = np.inf\n",
    "prev_loss_is_min = False"
   ]
  },
  {
   "cell_type": "code",
   "execution_count": 59,
   "metadata": {
    "ExecuteTime": {
     "end_time": "2022-07-06T14:19:49.111431Z",
     "start_time": "2022-07-06T14:19:49.102115Z"
    }
   },
   "outputs": [],
   "source": [
    "# why is w_global divided by datalength? A Question for later"
   ]
  },
  {
   "cell_type": "markdown",
   "metadata": {},
   "source": [
    "# FL System later - to be used"
   ]
  },
  {
   "cell_type": "code",
   "execution_count": 130,
   "metadata": {
    "ExecuteTime": {
     "end_time": "2022-07-07T09:13:43.879554Z",
     "start_time": "2022-07-07T09:13:43.870121Z"
    }
   },
   "outputs": [],
   "source": [
    "#information from config for it:\n",
    "n_nodes = 5  # Specifies the total number of clients\n",
    "MAX_CASE = 4  # Specifies the maximum number of cases, this should be a constant equal to 4"
   ]
  },
  {
   "cell_type": "code",
   "execution_count": 131,
   "metadata": {
    "ExecuteTime": {
     "end_time": "2022-07-07T09:13:44.284500Z",
     "start_time": "2022-07-07T09:13:44.091222Z"
    }
   },
   "outputs": [],
   "source": [
    "from util.utils import get_indices_each_node_case\n",
    "indices_each_node_case = get_indices_each_node_case(n_nodes, MAX_CASE, train_label_orig)"
   ]
  },
  {
   "cell_type": "code",
   "execution_count": 43,
   "metadata": {
    "ExecuteTime": {
     "end_time": "2022-07-06T13:43:23.834685Z",
     "start_time": "2022-07-06T13:43:23.825824Z"
    }
   },
   "outputs": [
    {
     "name": "stdout",
     "output_type": "stream",
     "text": [
      "4\n"
     ]
    }
   ],
   "source": [
    "print(len(indices_each_node_case))\n",
    "# I think indices each node has 4 cases and depending on those the data is split!\n",
    "# why do I need the four cases??"
   ]
  },
  {
   "cell_type": "code",
   "execution_count": 36,
   "metadata": {
    "ExecuteTime": {
     "end_time": "2022-07-06T13:40:49.640946Z",
     "start_time": "2022-07-06T13:40:49.627238Z"
    }
   },
   "outputs": [
    {
     "name": "stdout",
     "output_type": "stream",
     "text": [
      "6000\n",
      "6000\n",
      "6000\n",
      "6000\n",
      "6000\n"
     ]
    }
   ],
   "source": [
    "print(len(indices_each_node_case[0][0]))\n",
    "print(len(indices_each_node_case[0][1]))\n",
    "print(len(indices_each_node_case[0][2]))\n",
    "print(len(indices_each_node_case[0][3]))\n",
    "print(len(indices_each_node_case[0][4]))\n"
   ]
  },
  {
   "cell_type": "code",
   "execution_count": 39,
   "metadata": {
    "ExecuteTime": {
     "end_time": "2022-07-06T13:41:28.720518Z",
     "start_time": "2022-07-06T13:41:28.706277Z"
    }
   },
   "outputs": [
    {
     "name": "stdout",
     "output_type": "stream",
     "text": [
      "5670\n",
      "6398\n",
      "6055\n",
      "5948\n",
      "5929\n"
     ]
    }
   ],
   "source": [
    "print(len(indices_each_node_case[1][0]))\n",
    "print(len(indices_each_node_case[1][1]))\n",
    "print(len(indices_each_node_case[1][2]))\n",
    "print(len(indices_each_node_case[1][3]))\n",
    "print(len(indices_each_node_case[1][4]))"
   ]
  },
  {
   "cell_type": "code",
   "execution_count": 41,
   "metadata": {
    "ExecuteTime": {
     "end_time": "2022-07-06T13:41:52.642463Z",
     "start_time": "2022-07-06T13:41:52.631063Z"
    }
   },
   "outputs": [
    {
     "name": "stdout",
     "output_type": "stream",
     "text": [
      "30000\n",
      "30000\n",
      "30000\n",
      "30000\n",
      "30000\n"
     ]
    }
   ],
   "source": [
    "print(len(indices_each_node_case[2][0]))\n",
    "print(len(indices_each_node_case[2][1]))\n",
    "print(len(indices_each_node_case[2][2]))\n",
    "print(len(indices_each_node_case[2][3]))\n",
    "print(len(indices_each_node_case[2][4]))"
   ]
  },
  {
   "cell_type": "code",
   "execution_count": 42,
   "metadata": {
    "ExecuteTime": {
     "end_time": "2022-07-06T13:42:03.766303Z",
     "start_time": "2022-07-06T13:42:03.752344Z"
    }
   },
   "outputs": [
    {
     "name": "stdout",
     "output_type": "stream",
     "text": [
      "5135\n",
      "5124\n",
      "5072\n",
      "5850\n",
      "8819\n"
     ]
    }
   ],
   "source": [
    "print(len(indices_each_node_case[3][0]))\n",
    "print(len(indices_each_node_case[3][1]))\n",
    "print(len(indices_each_node_case[3][2]))\n",
    "print(len(indices_each_node_case[3][3]))\n",
    "print(len(indices_each_node_case[3][4]))"
   ]
  },
  {
   "cell_type": "code",
   "execution_count": 44,
   "metadata": {
    "ExecuteTime": {
     "end_time": "2022-07-06T13:48:25.244574Z",
     "start_time": "2022-07-06T13:48:25.231491Z"
    }
   },
   "outputs": [],
   "source": [
    "# need to find out why 4 cases???"
   ]
  },
  {
   "cell_type": "markdown",
   "metadata": {},
   "source": [
    "# in Client code - running learning"
   ]
  },
  {
   "cell_type": "code",
   "execution_count": 74,
   "metadata": {
    "ExecuteTime": {
     "end_time": "2022-07-06T14:33:43.159049Z",
     "start_time": "2022-07-06T14:33:43.121508Z"
    }
   },
   "outputs": [],
   "source": [
    "# now in client code to let the model run\n",
    "from util.sampling import MinibatchSampling\n",
    "\n",
    "#taking one from the arrays above\n",
    "indices_this_node = indices_each_node_case[2][0]\n",
    "# set sim around artifically to 1 \n",
    "sim = 1\n",
    "# batch size is defined above = 100\n",
    "\n",
    "# use w_global as w here\n",
    "w = w_global\n",
    "\n",
    "\n",
    "sampler = MinibatchSampling(indices_this_node, batch_size, sim)\n",
    "data_size_local = len(indices_this_node)"
   ]
  },
  {
   "cell_type": "code",
   "execution_count": 66,
   "metadata": {
    "ExecuteTime": {
     "end_time": "2022-07-06T14:29:46.010387Z",
     "start_time": "2022-07-06T14:29:45.997822Z"
    }
   },
   "outputs": [
    {
     "data": {
      "text/plain": [
       "util.sampling.MinibatchSampling"
      ]
     },
     "execution_count": 66,
     "metadata": {},
     "output_type": "execute_result"
    }
   ],
   "source": [
    "type(sampler)"
   ]
  },
  {
   "cell_type": "code",
   "execution_count": 71,
   "metadata": {
    "ExecuteTime": {
     "end_time": "2022-07-06T14:33:06.666502Z",
     "start_time": "2022-07-06T14:33:06.640005Z"
    }
   },
   "outputs": [],
   "source": [
    "sample_indices = sampler.get_next_batch()\n",
    "train_indices = sample_indices"
   ]
  },
  {
   "cell_type": "code",
   "execution_count": 84,
   "metadata": {
    "ExecuteTime": {
     "end_time": "2022-07-06T14:43:06.674428Z",
     "start_time": "2022-07-06T14:43:06.662666Z"
    },
    "scrolled": true
   },
   "outputs": [
    {
     "name": "stdout",
     "output_type": "stream",
     "text": [
      "30000\n",
      "100\n"
     ]
    }
   ],
   "source": [
    "print(len(indices_this_node))\n",
    "print(len(sample_indices))\n",
    "# note 30000 indicies and each sample is 100 big! so I can do this 3000 times"
   ]
  },
  {
   "cell_type": "code",
   "execution_count": 75,
   "metadata": {
    "ExecuteTime": {
     "end_time": "2022-07-06T14:33:45.643699Z",
     "start_time": "2022-07-06T14:33:45.627299Z"
    },
    "scrolled": true
   },
   "outputs": [],
   "source": [
    "grad = model.gradient(train_image, train_label, w, train_indices)"
   ]
  },
  {
   "cell_type": "code",
   "execution_count": 85,
   "metadata": {
    "ExecuteTime": {
     "end_time": "2022-07-06T14:43:52.794861Z",
     "start_time": "2022-07-06T14:43:52.782267Z"
    }
   },
   "outputs": [
    {
     "data": {
      "text/plain": [
       "784"
      ]
     },
     "execution_count": 85,
     "metadata": {},
     "output_type": "execute_result"
    }
   ],
   "source": [
    "len(grad)\n",
    "# note grad is the same length as w, so are the new parameters!"
   ]
  },
  {
   "cell_type": "code",
   "execution_count": 86,
   "metadata": {
    "ExecuteTime": {
     "end_time": "2022-07-06T14:50:31.495432Z",
     "start_time": "2022-07-06T14:50:31.478449Z"
    }
   },
   "outputs": [
    {
     "data": {
      "text/plain": [
       "0.5"
      ]
     },
     "execution_count": 86,
     "metadata": {},
     "output_type": "execute_result"
    }
   ],
   "source": [
    "loss_last_global = model.loss(train_image, train_label, w, train_indices)\n",
    "loss_last_global"
   ]
  },
  {
   "cell_type": "code",
   "execution_count": 116,
   "metadata": {
    "ExecuteTime": {
     "end_time": "2022-07-06T15:16:36.647786Z",
     "start_time": "2022-07-06T15:16:36.636436Z"
    }
   },
   "outputs": [],
   "source": [
    "# Analyser code:\n",
    "number_of_rounds = 300;\n",
    "weights_tracker = np.empty([number_of_rounds, 1])\n",
    "\n",
    "def get_average_from_weight(w):\n",
    "    length_w = len(w)\n",
    "    i = 0\n",
    "    average = 0\n",
    "    while i < length_w:\n",
    "        average += w[i]\n",
    "        i += 1\n",
    "    average /= len(w)\n",
    "    return average"
   ]
  },
  {
   "cell_type": "code",
   "execution_count": 117,
   "metadata": {
    "ExecuteTime": {
     "end_time": "2022-07-06T15:16:37.353217Z",
     "start_time": "2022-07-06T15:16:37.328373Z"
    }
   },
   "outputs": [
    {
     "data": {
      "text/plain": [
       "-0.00024319964703760946"
      ]
     },
     "execution_count": 117,
     "metadata": {},
     "output_type": "execute_result"
    }
   ],
   "source": [
    "get_average_from_weight(w)"
   ]
  },
  {
   "cell_type": "code",
   "execution_count": 118,
   "metadata": {
    "ExecuteTime": {
     "end_time": "2022-07-06T15:18:11.907010Z",
     "start_time": "2022-07-06T15:18:10.682491Z"
    },
    "scrolled": true
   },
   "outputs": [
    {
     "name": "stdout",
     "output_type": "stream",
     "text": [
      "Loss: 0.2535923086300088\n",
      "Loss: 0.27379291908913894\n",
      "Loss: 0.2401680009453534\n",
      "Loss: 0.17898810720488842\n",
      "Loss: 0.25595156057025636\n",
      "Loss: 0.17729850249804635\n",
      "Loss: 0.17482214439071173\n",
      "Loss: 0.1753346042784475\n",
      "Loss: 0.21173008571280177\n",
      "Loss: 0.1749944057642918\n",
      "Loss: 0.2060712753727045\n",
      "Loss: 0.1693004003412218\n",
      "Loss: 0.22739894665101862\n",
      "Loss: 0.20292657839372452\n",
      "Loss: 0.2594989034040225\n",
      "Loss: 0.2252286889153805\n",
      "Loss: 0.2884136014209285\n",
      "Loss: 0.21322857617013669\n",
      "Loss: 0.2961922665212676\n",
      "Loss: 0.17892185545034966\n",
      "Loss: 0.257767217285018\n",
      "Loss: 0.28975445024452284\n",
      "Loss: 0.22313134083068742\n",
      "Loss: 0.21109452975010454\n",
      "Loss: 0.27632994693880986\n",
      "Loss: 0.23742507719699713\n",
      "Loss: 0.2259402228041696\n",
      "Loss: 0.1842443951010695\n",
      "Loss: 0.22369867742093458\n",
      "Loss: 0.23919719200168016\n",
      "Loss: 0.21534308888816117\n",
      "Loss: 0.22735773474780668\n",
      "Loss: 0.23677440549043519\n",
      "Loss: 0.3222950875413664\n",
      "Loss: 0.2575071416991299\n",
      "Loss: 0.22830162454314468\n",
      "Loss: 0.24467139710331023\n",
      "Loss: 0.21999212304064852\n",
      "Loss: 0.22876855561937529\n",
      "Loss: 0.23087317447721026\n",
      "Loss: 0.28074513608651924\n",
      "Loss: 0.1995737255025719\n",
      "Loss: 0.24699331233381122\n",
      "Loss: 0.2294700909404184\n",
      "Loss: 0.19338009672959858\n",
      "Loss: 0.24412238090786093\n",
      "Loss: 0.2093151643786385\n",
      "Loss: 0.24716637327279656\n",
      "Loss: 0.2484284735782367\n",
      "Loss: 0.21587928303982173\n",
      "Loss: 0.22020771813236467\n",
      "Loss: 0.24726962380159623\n",
      "Loss: 0.1569997604704103\n",
      "Loss: 0.2140546131988867\n",
      "Loss: 0.22666774134748485\n",
      "Loss: 0.22670102514487694\n",
      "Loss: 0.2477570800200785\n",
      "Loss: 0.24132599617670086\n",
      "Loss: 0.24294497581398639\n",
      "Loss: 0.21608297332029586\n",
      "Loss: 0.2191361948742629\n",
      "Loss: 0.20083972133410954\n",
      "Loss: 0.23744178271262603\n",
      "Loss: 0.28695906568126694\n",
      "Loss: 0.2611437518598651\n",
      "Loss: 0.2812578404118533\n",
      "Loss: 0.21158062977836975\n",
      "Loss: 0.16676513848116833\n",
      "Loss: 0.301132333475167\n",
      "Loss: 0.2366090833707518\n",
      "Loss: 0.2034508071687297\n",
      "Loss: 0.22347191225341353\n",
      "Loss: 0.19192244955858492\n",
      "Loss: 0.20089070242519638\n",
      "Loss: 0.2505793311481304\n",
      "Loss: 0.25629488352309043\n",
      "Loss: 0.17985102913632542\n",
      "Loss: 0.20352190214392427\n",
      "Loss: 0.2038359330706267\n",
      "Loss: 0.20263415329649434\n",
      "Loss: 0.17171600202651388\n",
      "Loss: 0.1575266745461797\n",
      "Loss: 0.23284072984909648\n",
      "Loss: 0.2169245184949656\n",
      "Loss: 0.25468925675697035\n",
      "Loss: 0.21583024454969174\n",
      "Loss: 0.2661978580923723\n",
      "Loss: 0.238682745563515\n",
      "Loss: 0.21106801320137528\n",
      "Loss: 0.26405708648582615\n",
      "Loss: 0.24116203650341544\n",
      "Loss: 0.20968651475589875\n",
      "Loss: 0.18531543893899582\n",
      "Loss: 0.21364518644014932\n",
      "Loss: 0.25422600808820534\n",
      "Loss: 0.2570466947536102\n",
      "Loss: 0.2579446563137616\n",
      "Loss: 0.21402997006235963\n",
      "Loss: 0.23310027969504984\n",
      "Loss: 0.1920501668030738\n",
      "Loss: 0.19716533891910243\n",
      "Loss: 0.24835193322702964\n",
      "Loss: 0.19664336734859017\n",
      "Loss: 0.23886031866100002\n",
      "Loss: 0.17467823882994235\n",
      "Loss: 0.25052130394986966\n",
      "Loss: 0.24000014769520725\n",
      "Loss: 0.23250154507493515\n",
      "Loss: 0.24341109745859452\n",
      "Loss: 0.20174495638548065\n",
      "Loss: 0.25480427708741005\n",
      "Loss: 0.20969347448979514\n",
      "Loss: 0.1896997676784703\n",
      "Loss: 0.24738349855841704\n",
      "Loss: 0.2264147030518639\n",
      "Loss: 0.2483003263464087\n",
      "Loss: 0.21536998171882007\n",
      "Loss: 0.20899799611003292\n",
      "Loss: 0.2524880126068412\n",
      "Loss: 0.17257209411289548\n",
      "Loss: 0.2043042786797481\n",
      "Loss: 0.26182403364573736\n",
      "Loss: 0.18665731617938386\n",
      "Loss: 0.22970214962835442\n",
      "Loss: 0.19898146730489386\n",
      "Loss: 0.2424796057409167\n",
      "Loss: 0.20460252367906379\n",
      "Loss: 0.20032536748606178\n",
      "Loss: 0.2921162360468142\n",
      "Loss: 0.1972860349522462\n",
      "Loss: 0.1954726358390817\n",
      "Loss: 0.21826336189499812\n",
      "Loss: 0.211106090618702\n",
      "Loss: 0.2532022079784846\n",
      "Loss: 0.17400246677718237\n",
      "Loss: 0.22866375766625963\n",
      "Loss: 0.18189583282136595\n",
      "Loss: 0.23209631856275068\n",
      "Loss: 0.2064016829768673\n",
      "Loss: 0.2850448041604391\n",
      "Loss: 0.20739328183957567\n",
      "Loss: 0.20729438949175152\n",
      "Loss: 0.20949373141758718\n",
      "Loss: 0.24421834994039018\n",
      "Loss: 0.19037681597789907\n",
      "Loss: 0.20475242443835287\n",
      "Loss: 0.26528188604438074\n",
      "Loss: 0.22635059783933387\n",
      "Loss: 0.20131647951520854\n",
      "Loss: 0.2316105064352019\n",
      "Loss: 0.2384875132821987\n",
      "Loss: 0.22368357405876865\n",
      "Loss: 0.26671933436909323\n",
      "Loss: 0.20553633896753615\n",
      "Loss: 0.20941071908782888\n",
      "Loss: 0.21036384223565865\n",
      "Loss: 0.2744819269853696\n",
      "Loss: 0.22082152850085054\n",
      "Loss: 0.25760142225631616\n",
      "Loss: 0.2557138693547228\n",
      "Loss: 0.2771155562930926\n",
      "Loss: 0.21571469766294116\n",
      "Loss: 0.2231827792695648\n",
      "Loss: 0.2705656485706344\n",
      "Loss: 0.261651027927998\n",
      "Loss: 0.27827935452794056\n",
      "Loss: 0.22723737186657564\n",
      "Loss: 0.1914835347247487\n",
      "Loss: 0.2219205568162106\n",
      "Loss: 0.26824214207986474\n",
      "Loss: 0.16931413428310052\n",
      "Loss: 0.200187103205846\n",
      "Loss: 0.2122762432780734\n",
      "Loss: 0.17374140146699943\n",
      "Loss: 0.19118757852712265\n",
      "Loss: 0.17177361918507073\n",
      "Loss: 0.2008351147244275\n",
      "Loss: 0.21596621241005873\n",
      "Loss: 0.18238526062685062\n",
      "Loss: 0.18063940305198764\n",
      "Loss: 0.19865093175262266\n",
      "Loss: 0.22344228385886092\n",
      "Loss: 0.20209468397000435\n",
      "Loss: 0.18444674231702263\n",
      "Loss: 0.23063835890858653\n",
      "Loss: 0.23596263758344382\n",
      "Loss: 0.252855173333823\n",
      "Loss: 0.21067564413031475\n",
      "Loss: 0.1991734052149859\n",
      "Loss: 0.1746401040659607\n",
      "Loss: 0.24778587954301168\n",
      "Loss: 0.22339606726897002\n",
      "Loss: 0.2324420247212881\n",
      "Loss: 0.153887065918066\n",
      "Loss: 0.2462893966854328\n",
      "Loss: 0.2452920094454689\n",
      "Loss: 0.1967698591026472\n",
      "Loss: 0.20641906333404264\n",
      "Loss: 0.2755229669637149\n",
      "Loss: 0.24353366358856687\n",
      "Loss: 0.20745433712329253\n",
      "Loss: 0.19613423458843585\n",
      "Loss: 0.21760373209659803\n",
      "Loss: 0.18008567447101925\n",
      "Loss: 0.2641803548909187\n",
      "Loss: 0.2613838332641052\n",
      "Loss: 0.20499815270477764\n",
      "Loss: 0.240635211237204\n",
      "Loss: 0.2547533793765947\n",
      "Loss: 0.20586307095410444\n",
      "Loss: 0.20560425047997338\n",
      "Loss: 0.27959009165789583\n",
      "Loss: 0.25355156546334784\n",
      "Loss: 0.24863466474078974\n",
      "Loss: 0.23310295774131928\n",
      "Loss: 0.19813442030469655\n",
      "Loss: 0.20026587952216104\n",
      "Loss: 0.2637710416288208\n",
      "Loss: 0.2067663894830588\n",
      "Loss: 0.24130681583282823\n",
      "Loss: 0.21328901539264372\n",
      "Loss: 0.23918036572516693\n",
      "Loss: 0.23621151025990403\n",
      "Loss: 0.26555283470025776\n",
      "Loss: 0.2729774936393365\n",
      "Loss: 0.2511213899234238\n",
      "Loss: 0.23165821329305508\n",
      "Loss: 0.19925182480404993\n",
      "Loss: 0.22410597907885363\n",
      "Loss: 0.26619493179317044\n",
      "Loss: 0.23487473603575104\n",
      "Loss: 0.19024695229444016\n",
      "Loss: 0.1826652587416054\n",
      "Loss: 0.2716957003517772\n",
      "Loss: 0.2095488428028694\n",
      "Loss: 0.22094782013205838\n",
      "Loss: 0.24493017147950047\n",
      "Loss: 0.19857740513747763\n",
      "Loss: 0.24112435291035073\n",
      "Loss: 0.22155951295839676\n",
      "Loss: 0.24548213443713338\n",
      "Loss: 0.28153915043812666\n",
      "Loss: 0.22816499953708896\n",
      "Loss: 0.14486584030607338\n",
      "Loss: 0.2162621046163031\n",
      "Loss: 0.2849733751695923\n",
      "Loss: 0.21743910777299183\n",
      "Loss: 0.2354927971611095\n",
      "Loss: 0.1960564538569851\n",
      "Loss: 0.29227986151777235\n",
      "Loss: 0.2376244898462802\n",
      "Loss: 0.2185197257322718\n",
      "Loss: 0.2306136062910717\n",
      "Loss: 0.21049613093099837\n",
      "Loss: 0.22446121734167207\n",
      "Loss: 0.1935841183497408\n",
      "Loss: 0.2054985005712989\n",
      "Loss: 0.2243531078335253\n",
      "Loss: 0.2647268239149995\n",
      "Loss: 0.2625413036961885\n",
      "Loss: 0.1572279303377088\n",
      "Loss: 0.18705083785578613\n",
      "Loss: 0.18944093910455423\n",
      "Loss: 0.20566230637911243\n",
      "Loss: 0.19038615554476798\n",
      "Loss: 0.23598370315916375\n",
      "Loss: 0.19708002059479868\n",
      "Loss: 0.24639520793593644\n",
      "Loss: 0.18474974507549458\n",
      "Loss: 0.23884329469945004\n",
      "Loss: 0.19674510957191949\n",
      "Loss: 0.24175827956599077\n",
      "Loss: 0.19208674282896432\n",
      "Loss: 0.16421731564109515\n",
      "Loss: 0.25929574911276726\n",
      "Loss: 0.21949629131446277\n",
      "Loss: 0.24815378566742644\n",
      "Loss: 0.2242452840589515\n",
      "Loss: 0.1884725778084904\n",
      "Loss: 0.22453880359741374\n",
      "Loss: 0.21576191479192677\n",
      "Loss: 0.1714906600044276\n",
      "Loss: 0.24368765682920407\n",
      "Loss: 0.20175448634662607\n",
      "Loss: 0.25868929543725244\n",
      "Loss: 0.18539668894640426\n",
      "Loss: 0.275732427359701\n",
      "Loss: 0.23523236635550832\n",
      "Loss: 0.22932182197112796\n",
      "Loss: 0.1919066610891815\n",
      "Loss: 0.17285324615112319\n",
      "Loss: 0.20782418487810903\n",
      "Loss: 0.1725183466021492\n",
      "Loss: 0.1923946073764946\n",
      "Loss: 0.2179058066932258\n",
      "Loss: 0.22917448770723775\n",
      "Loss: 0.23749412657667351\n",
      "Loss: 0.22503454941017972\n",
      "Loss: 0.27011445680976787\n",
      "Loss: 0.23380298757789353\n"
     ]
    }
   ],
   "source": [
    "# note: I checked by printing that the indicies thanks to the get_next_batch function are different every time\n",
    "# note: why this stepsize?\n",
    "# why do we do accuracy on test set and loss on train set? \n",
    "\n",
    "i = 0\n",
    "step_size = 0.01\n",
    "while i < number_of_rounds:\n",
    "    sample_indices = sampler.get_next_batch()\n",
    "    train_indices = sample_indices\n",
    "    grad = model.gradient(train_image, train_label, w, train_indices)\n",
    "    loss_last_global = model.loss(train_image, train_label, w, train_indices)\n",
    "    print('Loss:', loss_last_global)\n",
    "    \n",
    "    w = w - step_size * grad\n",
    "    #capture w as an average over all parameters:\n",
    "    average_w = get_average_from_weight(w)\n",
    "    #store this average_w in array for plotting \n",
    "    weights_tracker[i] = average_w\n",
    "    \n",
    "    i += 1"
   ]
  },
  {
   "cell_type": "code",
   "execution_count": 99,
   "metadata": {
    "ExecuteTime": {
     "end_time": "2022-07-06T14:58:47.098287Z",
     "start_time": "2022-07-06T14:58:47.089036Z"
    }
   },
   "outputs": [],
   "source": [
    "# important note for aggregation: w_global += w_local * data_size_local -> means that the aggregator\n",
    "# takes in the w depending on how big the local dataset was and weights them that way"
   ]
  },
  {
   "cell_type": "code",
   "execution_count": 119,
   "metadata": {
    "ExecuteTime": {
     "end_time": "2022-07-06T15:18:22.479921Z",
     "start_time": "2022-07-06T15:18:22.407092Z"
    }
   },
   "outputs": [
    {
     "name": "stdout",
     "output_type": "stream",
     "text": [
      "Accuracy 0.8743\n"
     ]
    }
   ],
   "source": [
    "prediction_accuracy = model.accuracy(test_image, test_label, w)\n",
    "print('Accuracy', prediction_accuracy)"
   ]
  },
  {
   "cell_type": "code",
   "execution_count": 107,
   "metadata": {
    "ExecuteTime": {
     "end_time": "2022-07-06T15:07:49.330355Z",
     "start_time": "2022-07-06T15:07:49.321075Z"
    }
   },
   "outputs": [],
   "source": [
    "# my questions in order to continue\n",
    "\n",
    "# Does the ML model run once or does the ML model run multiple times on each node before updating the global model\n",
    "# What are the 4 cases?\n",
    "# I think I will just replicate exactly what I did here now in the FL system - makes it easer\n",
    "# simple first\n",
    "# afterwards I can think about adapting again\n",
    "\n",
    "# what do I want to do next? Let this run in FL enviornment and take into account the different weights\n",
    "# and draw the weights in a plot!\n",
    "\n",
    "# question: do we just want to have one update round locally before sending it to the central server?\n",
    "# or do we want local learning and update rounds and then central learning?\n",
    "\n",
    "# to make it malicious I have to think about how I can change some of the data?\n",
    "\n",
    "# do I choose always min w, so if an update round does not improve accuracy I am going back to what was there before?\n",
    "# does it make sense to use use_min_loss = true -> always use the minimum loss weights from local parameters?\n",
    "\n",
    "#whats simround and how does it affect the data?\n",
    "\n",
    "# note: currently loss is calculated in the client and then the value transfered to server and used there.\n",
    "# Would maybe be better to calculate the loss with the new w directly in the server? Also with test data?\n",
    "\n",
    "# Question to Datasize local: I am using this to determin the weight of the node, but do I not always use 100\n",
    "# as a bacth size and therefore it's the same for any of the nodes and wouldn't matter?\n",
    "# Or do I iterae through all the data before sending anything?"
   ]
  },
  {
   "cell_type": "code",
   "execution_count": 137,
   "metadata": {
    "ExecuteTime": {
     "end_time": "2022-07-07T16:38:01.394135Z",
     "start_time": "2022-07-07T16:38:01.375599Z"
    }
   },
   "outputs": [],
   "source": [
    "#ToDo:\n",
    "# check how minibatchsampler works - if it just gets traind with 100 parameters\n",
    "# check how the model works? I guess model is pretrainer so nothing to do with me right?\n",
    "# include my analyser!\n",
    "# it always chooses the same data (each time I run it), in order to proof my case, I need to variate the dat\n",
    "# will be done in second step when I include malicious data!\n",
    "\n",
    "\n",
    "#ToDO analyse:\n",
    "# graphen glätten \n",
    "# iterate between loss calculation training and test data and see difference!!! discuss this!!!\n",
    "# check with someone my std calculation!\n",
    "\n",
    "ToDo Tomorrow:\n",
    "# make csv with accuracy and loss values for each of these cases and make a graph were you can read through thm\n",
    "# make csv with global weight for all of these cases for all rounds -> 21 lines see differences!\n",
    "# analyse malicious nodes some how - discuss later!\n",
    "# mark malicious node definitly!\n",
    "\n",
    "# make client malicious with for loops and a boolean!\n",
    "\n",
    "\n",
    "\n",
    "#Idee:\n",
    "# könnte man nicht einen threshold bestimmen, wo lernen nicht mehr so wichtig ist und dann die update round\n",
    "#frequency reduzieren?\n",
    "\n",
    "Idee:\n",
    "#könnte ich nicht mit einem tester, der den loss berechnet, schauen ob die daten malicious sind oder nicht?\n",
    "# bzw ob ich sie inkludieren möchte oder nicht?"
   ]
  },
  {
   "cell_type": "code",
   "execution_count": null,
   "metadata": {},
   "outputs": [],
   "source": [
    "ToDO:\n",
    "# Include in Graph information about maliciousness and number of nodes malicious\n",
    "# Store graohs in folders\n",
    "# make sure that I don't overwrite the graphs - maybe do make a timestamp as well? \n",
    "# Save minimum accuray and \n",
    "# QUestion for Kin: should I look at minimum accuracy and loss or at loss / accuracy after x rounds?\n",
    "# mark if a node is malicious in graph!\n",
    "# make graph title to line\n",
    "\n",
    "# Make graphs with accuracy and loss of all cases in one graph to compare\n",
    "# compare somehow the nodes weight somehow!\n",
    "\n",
    "NEXT: \n",
    "    1. see how print hours in filename\n",
    "    2. make new graphs\n",
    "    3. test all this"
   ]
  },
  {
   "cell_type": "markdown",
   "metadata": {},
   "source": [
    "Question Tiffany:\n",
    "\n",
    "1. Why use training data to calculate loss? and not the test data?\n",
    "2. Why use always the same data for each round and not make it random (to have different results each round)\n",
    "3. "
   ]
  },
  {
   "cell_type": "markdown",
   "metadata": {},
   "source": [
    "Notes what to do tomorrow:\n",
    "\n",
    "1. Fix STD?\n",
    "2. Save Accuracy and Loss as well"
   ]
  },
  {
   "cell_type": "code",
   "execution_count": 136,
   "metadata": {
    "ExecuteTime": {
     "end_time": "2022-07-07T16:34:42.298106Z",
     "start_time": "2022-07-07T16:34:42.285010Z"
    }
   },
   "outputs": [
    {
     "data": {
      "text/plain": [
       "16"
      ]
     },
     "execution_count": 136,
     "metadata": {},
     "output_type": "execute_result"
    }
   ],
   "source": [
    "4 ** 2"
   ]
  },
  {
   "cell_type": "code",
   "execution_count": 123,
   "metadata": {
    "ExecuteTime": {
     "end_time": "2022-07-06T15:19:26.793921Z",
     "start_time": "2022-07-06T15:19:26.784739Z"
    }
   },
   "outputs": [],
   "source": [
    "from matplotlib import pyplot as plt\n",
    "\n",
    "def plot_weights(weights):\n",
    "    plt.plot(weights)\n",
    "    plt.title(\"Average weight per iteration\")\n",
    "    plt.xlabel(\"Update Round\")\n",
    "    plt.ylabel(\"Average Weight\")\n",
    "    plt.grid(axis=\"y\", linewidth=0.5)"
   ]
  },
  {
   "cell_type": "code",
   "execution_count": 125,
   "metadata": {
    "ExecuteTime": {
     "end_time": "2022-07-06T15:21:01.139948Z",
     "start_time": "2022-07-06T15:21:00.881129Z"
    },
    "scrolled": true
   },
   "outputs": [
    {
     "data": {
      "image/png": "[encoded data removed]",
      "text/plain": [
       "<Figure size 432x288 with 1 Axes>"
      ]
     },
     "metadata": {
      "needs_background": "light"
     },
     "output_type": "display_data"
    }
   ],
   "source": [
    "plot_weights(weights_tracker)"
   ]
  },
  {
   "cell_type": "code",
   "execution_count": null,
   "metadata": {},
   "outputs": [],
   "source": []
  },
  {
   "cell_type": "markdown",
   "metadata": {},
   "source": [
    "# Export Analysis "
   ]
  },
  {
   "cell_type": "code",
   "execution_count": 173,
   "metadata": {
    "ExecuteTime": {
     "end_time": "2022-07-08T13:06:58.751788Z",
     "start_time": "2022-07-08T13:06:58.742081Z"
    }
   },
   "outputs": [],
   "source": [
    "current_directory = os. getcwd() \n",
    "results_file_name = os.path.join(current_directory, 'analysis_results/results.csv')"
   ]
  },
  {
   "cell_type": "code",
   "execution_count": 174,
   "metadata": {
    "ExecuteTime": {
     "end_time": "2022-07-08T13:06:59.213571Z",
     "start_time": "2022-07-08T13:06:59.200593Z"
    },
    "scrolled": true
   },
   "outputs": [
    {
     "data": {
      "text/plain": [
       "'/Users/Anso/Code/Imperial_College/IndividualProject/adaptive-federated-learning/analysis_results/results.csv'"
      ]
     },
     "execution_count": 174,
     "metadata": {},
     "output_type": "execute_result"
    }
   ],
   "source": [
    "results_file_name"
   ]
  },
  {
   "cell_type": "code",
   "execution_count": 212,
   "metadata": {
    "ExecuteTime": {
     "end_time": "2022-07-08T13:58:46.678613Z",
     "start_time": "2022-07-08T13:58:46.669824Z"
    }
   },
   "outputs": [],
   "source": [
    "test = np.zeros((3, 5))\n",
    "test[0] = 1"
   ]
  },
  {
   "cell_type": "code",
   "execution_count": 213,
   "metadata": {
    "ExecuteTime": {
     "end_time": "2022-07-08T13:58:47.067539Z",
     "start_time": "2022-07-08T13:58:47.053268Z"
    },
    "scrolled": true
   },
   "outputs": [
    {
     "data": {
      "text/plain": [
       "array([[1., 1., 1., 1., 1.],\n",
       "       [0., 0., 0., 0., 0.],\n",
       "       [0., 0., 0., 0., 0.]])"
      ]
     },
     "execution_count": 213,
     "metadata": {},
     "output_type": "execute_result"
    }
   ],
   "source": [
    "test"
   ]
  },
  {
   "cell_type": "code",
   "execution_count": null,
   "metadata": {},
   "outputs": [],
   "source": [
    "# create a header file\n",
    "# what do I want to save: std + mean weights + accuracy + loss \n",
    "\n",
    "Ich muss meine Analyse strukturieren: \n",
    "    1. std von weights \n",
    "    2. Accuracy & Loss pro Runde\n",
    "    \n",
    "    \n",
    "Ich schau mir an was passiert, wenn keine node malicious ist vs:\n",
    "    0 node malicious (base case)\n",
    "    1 node malicious (25%, 50% 75% 100% der daten)\n",
    "    2 node malicious (25%, 50%, 75%, 100% der daten)\n",
    "    3 node malicious (25%, 50%, 75%, 100% der daten)\n",
    "    4 node malicious(25%, 50%, 75%, 100% der daten)\n",
    "    5 node malicious(25%, 50%, 75%, 100% der daten)\n",
    "\n",
    "    1 basecase and 20 other cases -> 21 cases!\n",
    "    \n",
    "Was möchte ich dann vergleichen: \n",
    "    std of weights (save graph to check, can I put this together with average weight?)\n",
    "    average weight (save graph to check, can I put this together with std?)\n",
    "    accuracy per round -> graphs! (save graph to check)\n",
    "    loss per round -> graphs! (save graph to check)\n",
    "\n",
    "Find out: how to save graphs?\n",
    "    \n",
    "    Was möchte ich speichern: \n",
    "        Weights of normal and malicious users, I need to think about how to save it so that it\n",
    "        is again accessable\n",
    "\n"
   ]
  },
  {
   "cell_type": "code",
   "execution_count": 264,
   "metadata": {
    "ExecuteTime": {
     "end_time": "2022-07-12T08:11:10.408995Z",
     "start_time": "2022-07-12T08:11:10.322356Z"
    }
   },
   "outputs": [],
   "source": [
    "with open(results_file_name, 'a') as csvfile:\n",
    "    csvfile.write('test,test1,\\n')\n",
    "    csvfile.write(str(test))\n",
    "    np.savetxt(csvfile, test, fmt='%.18e', delimiter=', ', encoding=None)\n",
    "    csvfile.close()"
   ]
  },
  {
   "cell_type": "code",
   "execution_count": 198,
   "metadata": {
    "ExecuteTime": {
     "end_time": "2022-07-08T13:29:04.366913Z",
     "start_time": "2022-07-08T13:29:04.357678Z"
    }
   },
   "outputs": [],
   "source": []
  },
  {
   "cell_type": "code",
   "execution_count": null,
   "metadata": {},
   "outputs": [],
   "source": [
    "#what do I want to save: \n",
    "# for each round save the weights from each node for each round\n",
    "# save in the header:accuracy and loss min and w global for it\n",
    "# create unique identifier for each round which I can use as a key "
   ]
  },
  {
   "cell_type": "code",
   "execution_count": 237,
   "metadata": {
    "ExecuteTime": {
     "end_time": "2022-07-10T18:24:46.126989Z",
     "start_time": "2022-07-10T18:24:46.099964Z"
    }
   },
   "outputs": [],
   "source": [
    " train_indices = [4, 6, 0]"
   ]
  },
  {
   "cell_type": "code",
   "execution_count": 238,
   "metadata": {
    "ExecuteTime": {
     "end_time": "2022-07-10T18:24:46.659945Z",
     "start_time": "2022-07-10T18:24:46.643868Z"
    }
   },
   "outputs": [],
   "source": [
    "train_label = [1, 1, 1, -1, -1, 1, -1]"
   ]
  },
  {
   "cell_type": "code",
   "execution_count": 240,
   "metadata": {
    "ExecuteTime": {
     "end_time": "2022-07-10T18:25:11.931187Z",
     "start_time": "2022-07-10T18:25:11.911038Z"
    }
   },
   "outputs": [
    {
     "ename": "TypeError",
     "evalue": "'int' object is not iterable",
     "output_type": "error",
     "traceback": [
      "\u001b[0;31m---------------------------------------------------------------------------\u001b[0m",
      "\u001b[0;31mTypeError\u001b[0m                                 Traceback (most recent call last)",
      "\u001b[0;32m<ipython-input-240-b77f37d1914a>\u001b[0m in \u001b[0;36m<module>\u001b[0;34m\u001b[0m\n\u001b[0;32m----> 1\u001b[0;31m \u001b[0;32mfor\u001b[0m \u001b[0melement\u001b[0m \u001b[0;32min\u001b[0m \u001b[0mtrain_indices\u001b[0m\u001b[0;34m[\u001b[0m\u001b[0;36m1\u001b[0m\u001b[0;34m]\u001b[0m\u001b[0;34m:\u001b[0m\u001b[0;34m\u001b[0m\u001b[0;34m\u001b[0m\u001b[0m\n\u001b[0m\u001b[1;32m      2\u001b[0m     \u001b[0mtrain_label\u001b[0m\u001b[0;34m[\u001b[0m\u001b[0melement\u001b[0m\u001b[0;34m]\u001b[0m \u001b[0;34m=\u001b[0m \u001b[0mtrain_label\u001b[0m\u001b[0;34m[\u001b[0m\u001b[0melement\u001b[0m\u001b[0;34m]\u001b[0m \u001b[0;34m*\u001b[0m \u001b[0;34m-\u001b[0m\u001b[0;36m1\u001b[0m\u001b[0;34m\u001b[0m\u001b[0;34m\u001b[0m\u001b[0m\n",
      "\u001b[0;31mTypeError\u001b[0m: 'int' object is not iterable"
     ]
    }
   ],
   "source": [
    "for element in train_indices[1]:\n",
    "    train_label[element] = train_label[element] * -1\n"
   ]
  },
  {
   "cell_type": "code",
   "execution_count": 241,
   "metadata": {
    "ExecuteTime": {
     "end_time": "2022-07-10T19:07:50.518920Z",
     "start_time": "2022-07-10T19:07:50.503906Z"
    }
   },
   "outputs": [
    {
     "name": "stdout",
     "output_type": "stream",
     "text": [
      "0\n",
      "1\n",
      "2\n",
      "3\n",
      "4\n"
     ]
    }
   ],
   "source": [
    "for i in range(0, 5):\n",
    "    print(i)"
   ]
  },
  {
   "cell_type": "code",
   "execution_count": null,
   "metadata": {},
   "outputs": [],
   "source": []
  },
  {
   "cell_type": "code",
   "execution_count": 242,
   "metadata": {
    "ExecuteTime": {
     "end_time": "2022-07-10T19:15:46.354881Z",
     "start_time": "2022-07-10T19:15:46.339786Z"
    }
   },
   "outputs": [
    {
     "data": {
      "text/plain": [
       "[1, 1, 1, -1, -1, 1, -1]"
      ]
     },
     "execution_count": 242,
     "metadata": {},
     "output_type": "execute_result"
    }
   ],
   "source": [
    "train_label"
   ]
  },
  {
   "cell_type": "code",
   "execution_count": 244,
   "metadata": {
    "ExecuteTime": {
     "end_time": "2022-07-10T19:15:55.567757Z",
     "start_time": "2022-07-10T19:15:55.554158Z"
    }
   },
   "outputs": [],
   "source": [
    "import random\n",
    "random.shuffle(train_label)"
   ]
  },
  {
   "cell_type": "code",
   "execution_count": 245,
   "metadata": {
    "ExecuteTime": {
     "end_time": "2022-07-10T19:15:58.042410Z",
     "start_time": "2022-07-10T19:15:58.029122Z"
    }
   },
   "outputs": [
    {
     "data": {
      "text/plain": [
       "[-1, 1, 1, -1, 1, 1, -1]"
      ]
     },
     "execution_count": 245,
     "metadata": {},
     "output_type": "execute_result"
    }
   ],
   "source": [
    "train_label"
   ]
  },
  {
   "cell_type": "code",
   "execution_count": 246,
   "metadata": {
    "ExecuteTime": {
     "end_time": "2022-07-10T19:23:01.083645Z",
     "start_time": "2022-07-10T19:23:01.068274Z"
    }
   },
   "outputs": [],
   "source": [
    "malicious_indicies = np.zeros(6)\n"
   ]
  },
  {
   "cell_type": "code",
   "execution_count": 247,
   "metadata": {
    "ExecuteTime": {
     "end_time": "2022-07-10T19:23:04.054708Z",
     "start_time": "2022-07-10T19:23:04.030081Z"
    }
   },
   "outputs": [
    {
     "data": {
      "text/plain": [
       "array([0., 0., 0., 0., 0., 0.])"
      ]
     },
     "execution_count": 247,
     "metadata": {},
     "output_type": "execute_result"
    }
   ],
   "source": [
    "malicious_indicies"
   ]
  },
  {
   "cell_type": "code",
   "execution_count": 248,
   "metadata": {
    "ExecuteTime": {
     "end_time": "2022-07-10T20:11:55.840714Z",
     "start_time": "2022-07-10T20:11:55.810687Z"
    }
   },
   "outputs": [
    {
     "name": "stdout",
     "output_type": "stream",
     "text": [
      "Hello\n"
     ]
    }
   ],
   "source": [
    "next = True\n",
    "while(next):\n",
    "    next = False\n",
    "    print(\"Hello\")"
   ]
  },
  {
   "cell_type": "code",
   "execution_count": 263,
   "metadata": {
    "ExecuteTime": {
     "end_time": "2022-07-11T10:24:10.819717Z",
     "start_time": "2022-07-11T10:24:10.801966Z"
    }
   },
   "outputs": [
    {
     "ename": "AttributeError",
     "evalue": "module 'matplotlib.pyplot' has no attribute 'graph'",
     "output_type": "error",
     "traceback": [
      "\u001b[0;31m---------------------------------------------------------------------------\u001b[0m",
      "\u001b[0;31mAttributeError\u001b[0m                            Traceback (most recent call last)",
      "\u001b[0;32m<ipython-input-263-06b76bfe991d>\u001b[0m in \u001b[0;36m<module>\u001b[0;34m\u001b[0m\n\u001b[0;32m----> 1\u001b[0;31m \u001b[0mfig1\u001b[0m \u001b[0;34m=\u001b[0m \u001b[0mplt\u001b[0m\u001b[0;34m.\u001b[0m\u001b[0mgraph\u001b[0m\u001b[0;34m(\u001b[0m\u001b[0;36m1\u001b[0m\u001b[0;34m)\u001b[0m\u001b[0;34m\u001b[0m\u001b[0;34m\u001b[0m\u001b[0m\n\u001b[0m",
      "\u001b[0;31mAttributeError\u001b[0m: module 'matplotlib.pyplot' has no attribute 'graph'"
     ]
    }
   ],
   "source": [
    "fig1 = plt.graph(1)"
   ]
  },
  {
   "cell_type": "code",
   "execution_count": 265,
   "metadata": {
    "ExecuteTime": {
     "end_time": "2022-07-12T08:56:48.983828Z",
     "start_time": "2022-07-12T08:56:48.930831Z"
    }
   },
   "outputs": [],
   "source": [
    "from datetime import datetime\n",
    "current_directory = os. getcwd() \n",
    "day_time = (datetime.today().strftime('%Y-%m-%d') + '/')\n",
    "folder_for_csv = os.path.join(current_directory, 'analysis_results/' + day_time)\n",
    "accuracy_csv = os.path.join(folder_for_csv, 'accuracy.csv')\n"
   ]
  },
  {
   "cell_type": "code",
   "execution_count": 266,
   "metadata": {
    "ExecuteTime": {
     "end_time": "2022-07-12T08:56:54.648533Z",
     "start_time": "2022-07-12T08:56:54.619781Z"
    }
   },
   "outputs": [
    {
     "data": {
      "text/plain": [
       "'/Users/Anso/Code/Imperial_College/IndividualProject/adaptive-federated-learning/analysis_results/2022-07-12/accuracy.csv'"
      ]
     },
     "execution_count": 266,
     "metadata": {},
     "output_type": "execute_result"
    }
   ],
   "source": [
    "accuracy_csv"
   ]
  },
  {
   "cell_type": "code",
   "execution_count": 270,
   "metadata": {
    "ExecuteTime": {
     "end_time": "2022-07-12T09:23:50.613336Z",
     "start_time": "2022-07-12T09:23:50.582610Z"
    }
   },
   "outputs": [],
   "source": [
    "from numpy import loadtxt\n",
    "\n",
    "with open(accuracy_csv, 'r') as csv:\n",
    "    data = loadtxt(csv ,delimiter = \",\")\n",
    "    csv.close()\n"
   ]
  },
  {
   "cell_type": "code",
   "execution_count": 271,
   "metadata": {
    "ExecuteTime": {
     "end_time": "2022-07-12T09:23:54.671098Z",
     "start_time": "2022-07-12T09:23:54.647228Z"
    }
   },
   "outputs": [
    {
     "data": {
      "text/plain": [
       "array([0.8461, 0.8435, 0.8371, 0.8261])"
      ]
     },
     "execution_count": 271,
     "metadata": {},
     "output_type": "execute_result"
    }
   ],
   "source": [
    "data"
   ]
  },
  {
   "cell_type": "code",
   "execution_count": 294,
   "metadata": {
    "ExecuteTime": {
     "end_time": "2022-07-12T14:03:43.633666Z",
     "start_time": "2022-07-12T14:03:43.617776Z"
    }
   },
   "outputs": [
    {
     "data": {
      "text/plain": [
       "array([0.8435, 0.8371])"
      ]
     },
     "execution_count": 294,
     "metadata": {},
     "output_type": "execute_result"
    }
   ],
   "source": [
    "accuracy_one_node = data[1:3]\n",
    "accuracy_one_node"
   ]
  },
  {
   "cell_type": "code",
   "execution_count": 274,
   "metadata": {
    "ExecuteTime": {
     "end_time": "2022-07-12T10:46:17.371655Z",
     "start_time": "2022-07-12T10:46:17.346248Z"
    }
   },
   "outputs": [],
   "source": [
    "weights_csv = os.path.join(folder_for_csv, 'weights.csv')"
   ]
  },
  {
   "cell_type": "code",
   "execution_count": 287,
   "metadata": {
    "ExecuteTime": {
     "end_time": "2022-07-12T13:57:20.398034Z",
     "start_time": "2022-07-12T13:57:20.341042Z"
    }
   },
   "outputs": [],
   "source": [
    "with open(weights_csv, 'r') as csv:\n",
    "    all_weights = loadtxt(csv ,delimiter = \",\")\n",
    "    csv.close()"
   ]
  },
  {
   "cell_type": "code",
   "execution_count": 288,
   "metadata": {
    "ExecuteTime": {
     "end_time": "2022-07-12T13:57:22.191718Z",
     "start_time": "2022-07-12T13:57:22.175842Z"
    }
   },
   "outputs": [
    {
     "data": {
      "text/plain": [
       "array([0.00020622, 0.00025666, 0.00032722, 0.00044477, 0.00040032,\n",
       "       0.00039708, 0.00043486, 0.00040743, 0.00053279, 0.00053675,\n",
       "       0.00065529, 0.00073046, 0.00068807, 0.00073974, 0.00075962,\n",
       "       0.00070613, 0.00058584, 0.00059918, 0.00067122, 0.00057242,\n",
       "       0.00055036, 0.0006469 , 0.00074351, 0.00073519, 0.00074644,\n",
       "       0.00087796, 0.0008209 , 0.00090356, 0.00091158, 0.00088866,\n",
       "       0.000813  , 0.00085086, 0.00082647, 0.00092197, 0.00098308,\n",
       "       0.00099026, 0.0009551 , 0.00081204, 0.00085802, 0.00080229,\n",
       "       0.00079627, 0.00085505, 0.00084071, 0.00077427, 0.00073462,\n",
       "       0.00078703, 0.00083566, 0.00086324, 0.00088224, 0.00092218,\n",
       "       0.00098162, 0.00099762, 0.00095576, 0.0009468 , 0.00095375,\n",
       "       0.00104395, 0.00095572, 0.00084384, 0.00088962, 0.00090032,\n",
       "       0.00100536, 0.00094528, 0.00092894, 0.00091611, 0.00094078,\n",
       "       0.00091822, 0.000966  , 0.0009258 , 0.00095264, 0.0010012 ,\n",
       "       0.00093824, 0.00102852, 0.00101738, 0.00100825, 0.00100671,\n",
       "       0.00097632, 0.00096466, 0.00096205, 0.00097931, 0.00099788,\n",
       "       0.00103433, 0.0009839 , 0.00099383, 0.00104245, 0.00102784,\n",
       "       0.0010778 , 0.00108075, 0.00105672, 0.00099965, 0.00094268,\n",
       "       0.00089322, 0.00093502, 0.00094193, 0.00096729, 0.00100406,\n",
       "       0.00095296, 0.00099058, 0.00102143, 0.00096203, 0.0009312 ])"
      ]
     },
     "execution_count": 288,
     "metadata": {},
     "output_type": "execute_result"
    }
   ],
   "source": [
    "all_weights[0]"
   ]
  },
  {
   "cell_type": "code",
   "execution_count": 291,
   "metadata": {
    "ExecuteTime": {
     "end_time": "2022-07-12T13:57:46.829694Z",
     "start_time": "2022-07-12T13:57:46.706135Z"
    }
   },
   "outputs": [
    {
     "name": "stdout",
     "output_type": "stream",
     "text": [
      "[0.00020622 0.00025666 0.00032722 0.00044477 0.00040032 0.00039708\n",
      " 0.00043486 0.00040743 0.00053279 0.00053675 0.00065529 0.00073046\n",
      " 0.00068807 0.00073974 0.00075962 0.00070613 0.00058584 0.00059918\n",
      " 0.00067122 0.00057242 0.00055036 0.0006469  0.00074351 0.00073519\n",
      " 0.00074644 0.00087796 0.0008209  0.00090356 0.00091158 0.00088866\n",
      " 0.000813   0.00085086 0.00082647 0.00092197 0.00098308 0.00099026\n",
      " 0.0009551  0.00081204 0.00085802 0.00080229 0.00079627 0.00085505\n",
      " 0.00084071 0.00077427 0.00073462 0.00078703 0.00083566 0.00086324\n",
      " 0.00088224 0.00092218 0.00098162 0.00099762 0.00095576 0.0009468\n",
      " 0.00095375 0.00104395 0.00095572 0.00084384 0.00088962 0.00090032\n",
      " 0.00100536 0.00094528 0.00092894 0.00091611 0.00094078 0.00091822\n",
      " 0.000966   0.0009258  0.00095264 0.0010012  0.00093824 0.00102852\n",
      " 0.00101738 0.00100825 0.00100671 0.00097632 0.00096466 0.00096205\n",
      " 0.00097931 0.00099788 0.00103433 0.0009839  0.00099383 0.00104245\n",
      " 0.00102784 0.0010778  0.00108075 0.00105672 0.00099965 0.00094268\n",
      " 0.00089322 0.00093502 0.00094193 0.00096729 0.00100406 0.00095296\n",
      " 0.00099058 0.00102143 0.00096203 0.0009312 ]\n",
      "HI\n",
      "[0.00019646 0.00027802 0.00032223 0.00044706 0.00037299 0.00037024\n",
      " 0.00039741 0.00036476 0.00053018 0.00055425 0.00063959 0.00068389\n",
      " 0.0006652  0.0007127  0.00071223 0.00066413 0.00054747 0.00057285\n",
      " 0.00062744 0.00055502 0.00050193 0.00061086 0.00068176 0.00065845\n",
      " 0.00072082 0.00087034 0.00079513 0.00088541 0.00088058 0.00083707\n",
      " 0.00079307 0.00082454 0.00084581 0.00094462 0.00098067 0.00099156\n",
      " 0.00095722 0.00077539 0.00079813 0.00072983 0.00073786 0.00082721\n",
      " 0.0008358  0.00071356 0.00065034 0.00066092 0.00072319 0.00080034\n",
      " 0.00084722 0.00089373 0.00096271 0.00092625 0.00088774 0.00089265\n",
      " 0.0008811  0.00096543 0.00090342 0.00073647 0.00077879 0.00080243\n",
      " 0.00090004 0.00084919 0.00081834 0.00081696 0.00085431 0.00080999\n",
      " 0.00086946 0.00083446 0.00084513 0.0009239  0.00083596 0.00098574\n",
      " 0.00095675 0.00091178 0.00089631 0.00087839 0.00084507 0.00087378\n",
      " 0.00090456 0.00089516 0.0009521  0.00088957 0.00087761 0.00093301\n",
      " 0.00088481 0.00092948 0.00091463 0.00090383 0.00088574 0.00079508\n",
      " 0.00077938 0.00079371 0.00083391 0.00085154 0.00088716 0.000868\n",
      " 0.00089386 0.00089332 0.00082907 0.0008227 ]\n",
      "HI\n",
      "[0.00016121 0.00025371 0.00028668 0.00042824 0.00038001 0.00037759\n",
      " 0.00041201 0.00039526 0.00053875 0.00053589 0.00064967 0.00068978\n",
      " 0.00063497 0.00071025 0.00065983 0.00057088 0.00049308 0.00051391\n",
      " 0.0005666  0.00049867 0.00051015 0.00062233 0.00065067 0.00058694\n",
      " 0.00060615 0.00074851 0.00072135 0.00079166 0.00078551 0.00079149\n",
      " 0.00072747 0.00073557 0.00075598 0.00085612 0.00084716 0.00080016\n",
      " 0.00078902 0.00060396 0.00070398 0.00061468 0.00063845 0.00070912\n",
      " 0.00071802 0.00069292 0.00062471 0.00064391 0.00069057 0.00070487\n",
      " 0.00074743 0.00074103 0.0008071  0.00078686 0.00073882 0.00075037\n",
      " 0.0007413  0.00083183 0.00075412 0.00061453 0.00070272 0.00072838\n",
      " 0.00084663 0.0007891  0.00074162 0.00074199 0.00078391 0.00070392\n",
      " 0.00074563 0.0007519  0.00075727 0.00080686 0.00071345 0.00079171\n",
      " 0.00076938 0.00084665 0.0007964  0.00077149 0.00080369 0.00080413\n",
      " 0.00079463 0.00076192 0.00078792 0.00071677 0.00076227 0.0007993\n",
      " 0.00079038 0.00084803 0.00082688 0.00080103 0.00078913 0.00075492\n",
      " 0.00072273 0.00074347 0.00076472 0.00072247 0.00075871 0.00067468\n",
      " 0.0007388  0.00080357 0.00076461 0.00071773]\n",
      "HI\n",
      "[0.00021725 0.00027248 0.00032266 0.00047008 0.00035721 0.0003359\n",
      " 0.00035338 0.00037526 0.00044339 0.000449   0.00057131 0.00062163\n",
      " 0.00060961 0.00069121 0.00062658 0.00053544 0.00051871 0.00050344\n",
      " 0.00058913 0.00050371 0.00048305 0.00060105 0.00066906 0.0005484\n",
      " 0.0005077  0.00066876 0.00060493 0.00071383 0.00070457 0.00069695\n",
      " 0.00064367 0.00069859 0.00070076 0.00077181 0.00078704 0.00073943\n",
      " 0.0007338  0.00066298 0.00071275 0.00063908 0.00063931 0.00071846\n",
      " 0.00069986 0.00059566 0.00059775 0.0006898  0.00067079 0.00067956\n",
      " 0.00069354 0.00072452 0.000768   0.00076026 0.00072197 0.00071182\n",
      " 0.0006638  0.00071227 0.00068475 0.00058235 0.00063254 0.00066641\n",
      " 0.0007639  0.00068222 0.0006817  0.00071718 0.00076347 0.00074449\n",
      " 0.00072133 0.00063425 0.00058763 0.00066324 0.00054555 0.00067053\n",
      " 0.00069816 0.00069798 0.00070609 0.0006865  0.00073755 0.00074739\n",
      " 0.00072979 0.00079437 0.00077394 0.00071462 0.00072861 0.00072058\n",
      " 0.00069887 0.00077263 0.00078765 0.00073755 0.00071284 0.00064874\n",
      " 0.00064474 0.00065857 0.00066448 0.00062064 0.0006987  0.00069135\n",
      " 0.00071757 0.00069921 0.0006705  0.00065682]\n",
      "HI\n",
      "[0.00020622 0.00025666 0.00032722 0.00044477 0.00040032 0.00039708\n",
      " 0.00043486 0.00040743 0.00053279 0.00053675 0.00065529 0.00073046\n",
      " 0.00068807 0.00073974 0.00075962 0.00070613 0.00058584 0.00059918\n",
      " 0.00067122 0.00057242 0.00055036 0.0006469  0.00074351 0.00073519\n",
      " 0.00074644 0.00087796 0.0008209  0.00090356 0.00091158 0.00088866\n",
      " 0.000813   0.00085086 0.00082647 0.00092197 0.00098308 0.00099026\n",
      " 0.0009551  0.00081204 0.00085802 0.00080229 0.00079627 0.00085505\n",
      " 0.00084071 0.00077427 0.00073462 0.00078703 0.00083566 0.00086324\n",
      " 0.00088224 0.00092218 0.00098162 0.00099762 0.00095576 0.0009468\n",
      " 0.00095375 0.00104395 0.00095572 0.00084384 0.00088962 0.00090032\n",
      " 0.00100536 0.00094528 0.00092894 0.00091611 0.00094078 0.00091822\n",
      " 0.000966   0.0009258  0.00095264 0.0010012  0.00093824 0.00102852\n",
      " 0.00101738 0.00100825 0.00100671 0.00097632 0.00096466 0.00096205\n",
      " 0.00097931 0.00099788 0.00103433 0.0009839  0.00099383 0.00104245\n",
      " 0.00102784 0.0010778  0.00108075 0.00105672 0.00099965 0.00094268\n",
      " 0.00089322 0.00093502 0.00094193 0.00096729 0.00100406 0.00095296\n",
      " 0.00099058 0.00102143 0.00096203 0.0009312 ]\n",
      "HI\n",
      "[0.0002195  0.00025222 0.00034222 0.0004539  0.00035745 0.00036396\n",
      " 0.00039141 0.00040892 0.00054148 0.00052573 0.00062516 0.00068662\n",
      " 0.00068971 0.00072563 0.00071572 0.00065259 0.00055    0.00060577\n",
      " 0.00066785 0.0005819  0.00056071 0.00066729 0.0007441  0.00068604\n",
      " 0.00067962 0.00079686 0.00074962 0.00082187 0.0007976  0.00078252\n",
      " 0.0007327  0.00082332 0.00080192 0.00090828 0.00094261 0.00092483\n",
      " 0.00087032 0.00069659 0.00075961 0.00074017 0.00074207 0.00084653\n",
      " 0.00081354 0.00075342 0.00070254 0.00074962 0.00076088 0.00074735\n",
      " 0.00076691 0.00082223 0.00087031 0.00083758 0.0008288  0.00085193\n",
      " 0.00085351 0.00094935 0.00090693 0.0007809  0.00078698 0.00080582\n",
      " 0.00091984 0.00088593 0.0008493  0.00085598 0.00085537 0.00083103\n",
      " 0.00088704 0.00082163 0.00083496 0.00089626 0.00079986 0.00087769\n",
      " 0.00086279 0.00086371 0.00087749 0.00086149 0.00085398 0.00090359\n",
      " 0.00089781 0.00087751 0.0009546  0.00088891 0.00092091 0.00093799\n",
      " 0.00089265 0.00096508 0.00098739 0.00094037 0.00093222 0.00085407\n",
      " 0.00081183 0.00080439 0.00081758 0.00084358 0.00084382 0.00083726\n",
      " 0.00086494 0.00087091 0.00084624 0.00080812]\n",
      "HI\n",
      "[0.00019558 0.00028475 0.0003423  0.00052083 0.00044858 0.00046001\n",
      " 0.0004577  0.00040853 0.00051266 0.00050101 0.00061571 0.0006771\n",
      " 0.00066823 0.00071318 0.00072659 0.00062595 0.00055293 0.00053767\n",
      " 0.00061116 0.00056054 0.00051782 0.00060193 0.00067478 0.00062482\n",
      " 0.00061339 0.00073125 0.0006849  0.00081596 0.00081182 0.00079048\n",
      " 0.00071819 0.0007264  0.00074569 0.00089256 0.00086068 0.0008361\n",
      " 0.00082265 0.00068456 0.00077335 0.00069275 0.00069592 0.00076393\n",
      " 0.00071144 0.00065369 0.00061789 0.00069632 0.00069127 0.00074445\n",
      " 0.00079233 0.00081911 0.00086111 0.00081201 0.00074604 0.00074044\n",
      " 0.00072929 0.00083083 0.00080491 0.00069186 0.00075306 0.00075251\n",
      " 0.00082564 0.00080427 0.00080413 0.00080736 0.00086336 0.00086369\n",
      " 0.00085499 0.00081414 0.00080309 0.00085101 0.00079984 0.0009119\n",
      " 0.00089495 0.0008726  0.00084413 0.00081642 0.00080394 0.0007768\n",
      " 0.00081471 0.00083387 0.00085541 0.00082825 0.00076084 0.00079527\n",
      " 0.00080436 0.00085765 0.00083344 0.00088262 0.00086699 0.00078662\n",
      " 0.00071331 0.00073868 0.00070779 0.00072617 0.00071434 0.00071164\n",
      " 0.00072019 0.00078034 0.00076699 0.00075101]\n",
      "HI\n",
      "[0.00017662 0.00019116 0.0002854  0.00042225 0.0003856  0.00041588\n",
      " 0.00044065 0.0004172  0.00049347 0.0005021  0.00058501 0.00061287\n",
      " 0.00065918 0.00070275 0.00063901 0.00058436 0.00048742 0.0005735\n",
      " 0.00068982 0.00054766 0.00054736 0.00068745 0.00066997 0.00058162\n",
      " 0.00057846 0.00069903 0.00064758 0.0007236  0.0006987  0.00074522\n",
      " 0.00076508 0.00075135 0.00071393 0.0008222  0.00081301 0.00079743\n",
      " 0.00080328 0.00067951 0.00077614 0.00069182 0.00065922 0.00076137\n",
      " 0.00076017 0.00066785 0.00054939 0.00058552 0.00066937 0.00070027\n",
      " 0.00069499 0.00074995 0.00073776 0.00072988 0.00068813 0.00076006\n",
      " 0.0006826  0.00073946 0.00069059 0.00050081 0.0005658  0.00055066\n",
      " 0.00068824 0.00064196 0.00065888 0.00069305 0.0006906  0.00064634\n",
      " 0.00069742 0.00067755 0.00067114 0.00071826 0.00065628 0.00072296\n",
      " 0.00070656 0.00067985 0.00068505 0.0007029  0.0007057  0.00073922\n",
      " 0.00074852 0.00075278 0.00073393 0.00062755 0.00065527 0.00066457\n",
      " 0.000668   0.00077564 0.00078881 0.00074432 0.00067307 0.00066883\n",
      " 0.00061219 0.00063557 0.00063719 0.00064145 0.00066878 0.00068452\n",
      " 0.00071034 0.00069541 0.00067724 0.00063077]\n",
      "HI\n",
      "[0.00017784 0.00023343 0.00025969 0.00041471 0.00034009 0.00033976\n",
      " 0.00034392 0.00038297 0.00051099 0.00048404 0.00060677 0.00064006\n",
      " 0.00067599 0.00068453 0.00061045 0.00053833 0.00051005 0.00050291\n",
      " 0.00060094 0.00048865 0.00046571 0.00058382 0.0005729  0.00049808\n",
      " 0.00050032 0.00062965 0.00061364 0.00067176 0.00064442 0.00063987\n",
      " 0.0006203  0.00064537 0.00069554 0.0007838  0.00075158 0.0006894\n",
      " 0.00068509 0.00062799 0.0006789  0.00057246 0.00059488 0.00067933\n",
      " 0.00068407 0.00062391 0.00053779 0.00057256 0.00058985 0.00058146\n",
      " 0.00062412 0.00063382 0.00067233 0.00065574 0.0006319  0.00067568\n",
      " 0.00058822 0.00064011 0.00058453 0.00046794 0.00051226 0.00053945\n",
      " 0.00065465 0.00062908 0.00063528 0.00068544 0.00073976 0.00064423\n",
      " 0.00061445 0.00059321 0.00053203 0.00063017 0.0005759  0.00068162\n",
      " 0.00056747 0.00060836 0.0006129  0.00063469 0.00064043 0.00068445\n",
      " 0.00067042 0.00061527 0.00062593 0.0005752  0.00061653 0.00061848\n",
      " 0.00060635 0.00067727 0.00065504 0.00065172 0.00066765 0.00056038\n",
      " 0.00055838 0.00052457 0.00050433 0.00054053 0.00058398 0.00059077\n",
      " 0.00059219 0.00057309 0.00052489 0.00051663]\n",
      "HI\n",
      "[0.00017943 0.00026096 0.0002966  0.00044878 0.00038388 0.00040866\n",
      " 0.00036044 0.00036734 0.00050543 0.0004918  0.00057991 0.00058908\n",
      " 0.00060614 0.00065583 0.00055565 0.0004993  0.00049903 0.00049312\n",
      " 0.00058806 0.0004953  0.00048789 0.00059675 0.00056684 0.00044226\n",
      " 0.00043406 0.00057898 0.00053764 0.00065433 0.00060765 0.00063446\n",
      " 0.00061043 0.00063338 0.00064291 0.00073062 0.00068499 0.00063291\n",
      " 0.00066385 0.00056209 0.00063865 0.00052157 0.00050715 0.00062765\n",
      " 0.00062644 0.00054617 0.00048383 0.00051999 0.00051858 0.00051333\n",
      " 0.00055847 0.00053839 0.00058639 0.00054746 0.00053151 0.00058306\n",
      " 0.00050412 0.0005463  0.00052455 0.00038457 0.0004057  0.0004889\n",
      " 0.00061649 0.00056772 0.00056907 0.00061522 0.00063834 0.00057835\n",
      " 0.00056798 0.00054306 0.00049148 0.00053244 0.00046704 0.0005849\n",
      " 0.00052453 0.00052252 0.00051015 0.00055295 0.00057839 0.00061582\n",
      " 0.00057655 0.00056292 0.00055072 0.00048353 0.00051551 0.00049646\n",
      " 0.00048673 0.00056688 0.00058377 0.00059146 0.00060618 0.00053078\n",
      " 0.0004992  0.00049811 0.00049912 0.00048842 0.00049789 0.00051118\n",
      " 0.0004916  0.00049705 0.00044105 0.00046838]\n",
      "HI\n",
      "[0.00022859 0.00027423 0.00035942 0.00043557 0.00039097 0.00041835\n",
      " 0.0003879  0.00031287 0.0004608  0.00048096 0.0006121  0.00070991\n",
      " 0.0006653  0.00070166 0.00078924 0.00071816 0.00064242 0.00057891\n",
      " 0.00067619 0.00059739 0.00052987 0.0006449  0.0007882  0.00070749\n",
      " 0.00074229 0.00086389 0.00082878 0.0009161  0.00087184 0.00086767\n",
      " 0.00083762 0.00086465 0.00087471 0.00095054 0.00100018 0.00105096\n",
      " 0.00095665 0.00085685 0.00090837 0.00089821 0.00078226 0.00085576\n",
      " 0.00080804 0.00077986 0.00074866 0.00081791 0.00087834 0.00092759\n",
      " 0.00094408 0.00096002 0.00102741 0.00095359 0.00098756 0.00092786\n",
      " 0.00090681 0.00100566 0.00093578 0.00084426 0.00089471 0.0008808\n",
      " 0.00093047 0.00088951 0.00092022 0.0009212  0.000901   0.00093424\n",
      " 0.00094649 0.00090555 0.0009586  0.0009506  0.00090872 0.00103763\n",
      " 0.00100257 0.00100467 0.00107417 0.00103969 0.00101587 0.00101903\n",
      " 0.00099891 0.00103424 0.00103451 0.0009053  0.00089809 0.00092938\n",
      " 0.00096781 0.00100172 0.00100622 0.0010003  0.00096311 0.0009353\n",
      " 0.00088757 0.00086174 0.00092151 0.00091025 0.00095057 0.00090143\n",
      " 0.00092048 0.00100427 0.00092515 0.0009845 ]\n",
      "HI\n",
      "[6.47151861e-05 1.50765625e-04 2.91840052e-04 4.38376993e-04\n",
      " 4.20497675e-04 4.37635889e-04 4.78061685e-04 4.62767201e-04\n",
      " 5.50947899e-04 5.11852749e-04 6.96994398e-04 7.23884945e-04\n",
      " 6.71901933e-04 7.03770584e-04 7.43635738e-04 6.86723166e-04\n",
      " 5.82706269e-04 5.66969116e-04 6.78188317e-04 7.27177581e-04\n",
      " 7.70546265e-04 8.32161074e-04 7.83515107e-04 8.00603470e-04\n",
      " 8.12895370e-04 8.76766791e-04 7.78111501e-04 9.85949840e-04\n",
      " 9.50404869e-04 9.47347409e-04 8.85527621e-04 9.85899701e-04\n",
      " 9.28196099e-04 1.00884547e-03 1.06015522e-03 9.63151626e-04\n",
      " 1.01813413e-03 9.09993882e-04 9.41736506e-04 8.97536085e-04\n",
      " 8.56791233e-04 9.24235617e-04 8.48175427e-04 8.32968883e-04\n",
      " 7.63850231e-04 8.11789297e-04 8.51343682e-04 8.75005726e-04\n",
      " 8.76356847e-04 9.62196753e-04 8.67713257e-04 9.70681210e-04\n",
      " 9.25160782e-04 9.59551445e-04 9.62288334e-04 1.06411898e-03\n",
      " 9.88842228e-04 8.04836517e-04 8.17242670e-04 8.69244348e-04\n",
      " 8.90562281e-04 8.96661313e-04 9.16328083e-04 9.14279120e-04\n",
      " 8.86416765e-04 9.10779234e-04 9.17868689e-04 9.29334762e-04\n",
      " 9.35963306e-04 1.01092505e-03 9.55062582e-04 1.04556754e-03\n",
      " 9.76459403e-04 1.03424587e-03 1.02285061e-03 1.05199359e-03\n",
      " 1.10084989e-03 1.04530064e-03 1.00950798e-03 1.02287608e-03\n",
      " 1.02127981e-03 9.45739720e-04 9.50423208e-04 9.79115075e-04\n",
      " 9.80597141e-04 9.94573163e-04 9.94481265e-04 1.03657752e-03\n",
      " 9.22824593e-04 8.37279616e-04 9.08911744e-04 9.40232942e-04\n",
      " 9.37915770e-04 1.01064138e-03 1.05290101e-03 9.74844976e-04\n",
      " 9.83770583e-04 9.55802418e-04 9.13545161e-04 8.97229502e-04]\n",
      "HI\n",
      "[0.00015522 0.00023327 0.00027679 0.00035597 0.00039646 0.0004388\n",
      " 0.00041647 0.00043699 0.00054557 0.00047211 0.00061843 0.00068599\n",
      " 0.000693   0.00070455 0.00074321 0.00079683 0.00080204 0.00071417\n",
      " 0.00065249 0.00065794 0.00062268 0.00072386 0.00072958 0.00063409\n",
      " 0.00073406 0.0008298  0.00076942 0.00080523 0.00068882 0.00075874\n",
      " 0.00074004 0.00073106 0.00076627 0.00083449 0.00096223 0.0009722\n",
      " 0.00103266 0.00095426 0.00101896 0.00095173 0.00081576 0.00087157\n",
      " 0.00082521 0.00083548 0.00072628 0.00076135 0.00086224 0.00086799\n",
      " 0.0009005  0.0008859  0.00081793 0.00080247 0.0009054  0.00083686\n",
      " 0.00088366 0.00091614 0.00093336 0.00077056 0.00082686 0.00095126\n",
      " 0.00102623 0.00090835 0.00103344 0.00100957 0.00099024 0.00095743\n",
      " 0.00090366 0.00084643 0.000885   0.00096162 0.00094161 0.00097864\n",
      " 0.00094208 0.00095711 0.0010177  0.00094042 0.0009903  0.00103537\n",
      " 0.00097391 0.00097139 0.00102285 0.00096792 0.00099928 0.00096076\n",
      " 0.00099631 0.00097596 0.00099697 0.00104351 0.00098504 0.00091276\n",
      " 0.00101929 0.00100124 0.00102043 0.00101209 0.00099724 0.00103679\n",
      " 0.00095844 0.00087644 0.00095853 0.00090135]\n",
      "HI\n",
      "[0.00014749 0.0002379  0.00032388 0.00045012 0.00047259 0.00052651\n",
      " 0.00049449 0.00043458 0.00054497 0.0005484  0.00072378 0.00073196\n",
      " 0.00070804 0.00067169 0.00066119 0.00070135 0.00070206 0.00062282\n",
      " 0.00068861 0.00070378 0.00075744 0.0008873  0.00083666 0.00079601\n",
      " 0.00082288 0.00084938 0.00074586 0.00090049 0.00082302 0.00084956\n",
      " 0.00076039 0.00076902 0.0007848  0.00074384 0.00079852 0.00084501\n",
      " 0.00090023 0.00084702 0.00092729 0.00088607 0.00084997 0.00090784\n",
      " 0.00083401 0.00078831 0.00079933 0.00078608 0.00084251 0.00088377\n",
      " 0.00085669 0.00079295 0.00078153 0.00086949 0.00084637 0.00075551\n",
      " 0.00077938 0.0008484  0.00091649 0.0007462  0.00083227 0.000917\n",
      " 0.00091871 0.00091829 0.00099483 0.0009949  0.00096965 0.00097284\n",
      " 0.00089733 0.00089482 0.00097518 0.00091595 0.00088967 0.00094298\n",
      " 0.00092832 0.00094712 0.00094805 0.00099467 0.00104363 0.00098175\n",
      " 0.00091096 0.00087332 0.00087387 0.00086618 0.000886   0.00087408\n",
      " 0.00090079 0.00093765 0.000918   0.00090299 0.00093364 0.00090844\n",
      " 0.00097284 0.00095748 0.00098704 0.00093376 0.00092552 0.00095469\n",
      " 0.00094373 0.00090308 0.00089316 0.00087247]\n",
      "HI\n",
      "[0.00014006 0.00022319 0.00031464 0.00043798 0.00039572 0.00044581\n",
      " 0.0003921  0.00041449 0.0005618  0.00056768 0.00070212 0.00073508\n",
      " 0.00069557 0.00063959 0.00065898 0.00071337 0.00073663 0.00061095\n",
      " 0.00065981 0.00074489 0.00081024 0.00085525 0.00074185 0.00071566\n",
      " 0.00075961 0.00080649 0.00076593 0.00083302 0.00074953 0.00080489\n",
      " 0.00071886 0.00078828 0.00088741 0.00087559 0.00083564 0.00087115\n",
      " 0.00089369 0.00087609 0.00092855 0.00095025 0.00090938 0.00096526\n",
      " 0.00091443 0.00091217 0.00081937 0.00080118 0.00084081 0.00084184\n",
      " 0.00089137 0.00085613 0.00082489 0.00085998 0.00085511 0.00080609\n",
      " 0.00081612 0.00085865 0.00092761 0.00079292 0.00082638 0.00094731\n",
      " 0.00094163 0.00092185 0.00103679 0.00104232 0.00100879 0.00098627\n",
      " 0.00088279 0.00088684 0.00092985 0.00096499 0.00092261 0.00095402\n",
      " 0.00090065 0.00092577 0.00092658 0.00096414 0.0009947  0.00099881\n",
      " 0.00091717 0.00087638 0.00086592 0.0008625  0.00085621 0.00081594\n",
      " 0.00086109 0.0009267  0.00089943 0.00099396 0.00099641 0.00097004\n",
      " 0.00103233 0.00097968 0.00100648 0.00098925 0.00098865 0.00100433\n",
      " 0.00091556 0.00089864 0.00088492 0.00088787]\n",
      "HI\n",
      "[0.00013007 0.00023597 0.00030785 0.00043019 0.00040365 0.00039275\n",
      " 0.00037344 0.00029422 0.00045669 0.00044573 0.00046039 0.00050833\n",
      " 0.00049051 0.00055786 0.00067999 0.00065457 0.00053715 0.00045298\n",
      " 0.00059619 0.00052796 0.00055556 0.00065802 0.00072596 0.00068817\n",
      " 0.00062038 0.00070569 0.00061436 0.00070575 0.00075361 0.00074554\n",
      " 0.00066208 0.00082752 0.00082076 0.00084169 0.00094319 0.0008458\n",
      " 0.0007745  0.0006654  0.00072097 0.00068345 0.00069324 0.00078013\n",
      " 0.00077057 0.00063623 0.00062152 0.00069024 0.00072688 0.00076178\n",
      " 0.00072025 0.00076472 0.00086691 0.00083238 0.00071436 0.00077082\n",
      " 0.00075431 0.00083016 0.00080551 0.00070925 0.00071054 0.00069273\n",
      " 0.0007992  0.00077502 0.00063677 0.00074982 0.00081644 0.00076452\n",
      " 0.00081379 0.00075377 0.00075553 0.00080178 0.00072476 0.00084938\n",
      " 0.00081159 0.00084672 0.00075093 0.00076551 0.00077523 0.00077365\n",
      " 0.00075277 0.00079141 0.00076593 0.00074225 0.00073289 0.00076384\n",
      " 0.00073851 0.00074821 0.00074415 0.0007517  0.00070088 0.00066627\n",
      " 0.00065754 0.00073525 0.00073791 0.00075731 0.00074323 0.000777\n",
      " 0.00077117 0.00079645 0.00076806 0.00071478]\n",
      "HI\n",
      "[0.00012232 0.00022482 0.00029664 0.00037174 0.00034014 0.00030479\n",
      " 0.00031024 0.00030347 0.00033162 0.00047482 0.00057087 0.00049831\n",
      " 0.00051901 0.00050284 0.00048118 0.00044637 0.00041775 0.00030462\n",
      " 0.00041229 0.00049107 0.00054097 0.00056926 0.00057331 0.0005616\n",
      " 0.00060297 0.00066187 0.00057736 0.00068914 0.00072315 0.00079243\n",
      " 0.00063033 0.00061483 0.00069292 0.00078236 0.00072649 0.00079314\n",
      " 0.00072037 0.00071345 0.0006984  0.00067295 0.00069666 0.00074393\n",
      " 0.00074282 0.00067443 0.00070392 0.00068426 0.00068929 0.00066523\n",
      " 0.00075684 0.00082001 0.00078323 0.00075911 0.00063583 0.00064577\n",
      " 0.00064581 0.0008088  0.00076998 0.00059704 0.00064008 0.00056888\n",
      " 0.00075841 0.00074576 0.00080241 0.00080311 0.00071327 0.0007886\n",
      " 0.00075312 0.00065918 0.00072854 0.00070848 0.00065175 0.00072191\n",
      " 0.00078273 0.00078233 0.00065151 0.00070217 0.0008264  0.00080531\n",
      " 0.00079181 0.00078761 0.00072614 0.00069319 0.0007557  0.00076126\n",
      " 0.00074514 0.00074487 0.00080697 0.00074616 0.00068337 0.00071054\n",
      " 0.00063228 0.00070024 0.00076144 0.00070236 0.0007466  0.00072429\n",
      " 0.00070195 0.00069226 0.00063725 0.00075465]\n",
      "HI\n",
      "[0.00016764 0.00024512 0.00028939 0.00033045 0.00031097 0.00025031\n",
      " 0.00016818 0.00020057 0.00027037 0.00032893 0.00045012 0.00038385\n",
      " 0.00039807 0.00034598 0.00042132 0.0003398  0.00040851 0.00046678\n",
      " 0.00046677 0.00046263 0.00050161 0.00053064 0.00043891 0.00044262\n",
      " 0.00042308 0.00053592 0.00050168 0.00062773 0.00061948 0.00055451\n",
      " 0.00050071 0.00049455 0.00049122 0.00054221 0.00057294 0.00067141\n",
      " 0.00063858 0.0006896  0.00071128 0.00063528 0.00059757 0.00057423\n",
      " 0.00064036 0.00054433 0.00048461 0.00051353 0.00055269 0.00058947\n",
      " 0.00058238 0.00063687 0.00061042 0.00065569 0.00063229 0.00055282\n",
      " 0.0006387  0.00069914 0.0007234  0.00052674 0.00054387 0.00060093\n",
      " 0.00063844 0.0005872  0.00067705 0.00077612 0.00075365 0.00063713\n",
      " 0.00064846 0.00056688 0.0005462  0.00055251 0.00052613 0.00065115\n",
      " 0.00065155 0.00060968 0.00053884 0.00064515 0.00064967 0.00068223\n",
      " 0.00059157 0.00049661 0.00047805 0.00043937 0.00049281 0.00052214\n",
      " 0.00043996 0.00057811 0.00062094 0.00065407 0.00063988 0.00066169\n",
      " 0.00061249 0.00054979 0.00065088 0.00059011 0.00059021 0.00054746\n",
      " 0.0004859  0.00052882 0.00043755 0.00042979]\n",
      "HI\n",
      "[0.00012174 0.00017256 0.00015572 0.00027055 0.00022109 0.00029444\n",
      " 0.00035481 0.00034686 0.00030603 0.00031374 0.00042404 0.00038418\n",
      " 0.00026513 0.00029326 0.00028707 0.00029037 0.00035522 0.00028559\n",
      " 0.00037632 0.00043337 0.00048201 0.00052463 0.00044146 0.00036435\n",
      " 0.00049584 0.00048232 0.00053024 0.00062776 0.00049211 0.00051136\n",
      " 0.00045161 0.00052866 0.0005732  0.00053931 0.00050434 0.00050336\n",
      " 0.0005273  0.00057761 0.00059599 0.00058825 0.00055133 0.0005399\n",
      " 0.00053763 0.00051818 0.0005051  0.00048628 0.00047612 0.00047129\n",
      " 0.00049223 0.00048419 0.00037025 0.00048111 0.00044561 0.00038\n",
      " 0.00043687 0.00045483 0.00043395 0.00037254 0.00042265 0.00043293\n",
      " 0.00048744 0.00050866 0.00052737 0.00052284 0.00045809 0.00053166\n",
      " 0.00048616 0.00044546 0.00045293 0.00052609 0.00044018 0.00044727\n",
      " 0.00044858 0.00044214 0.00051505 0.00054117 0.0004929  0.00044652\n",
      " 0.00038661 0.00036636 0.00031465 0.00035817 0.00040399 0.00041348\n",
      " 0.00043176 0.0004758  0.00048248 0.00050177 0.00056241 0.00052941\n",
      " 0.00053096 0.00048774 0.0005014  0.00049772 0.00057097 0.00056535\n",
      " 0.00051221 0.00051201 0.00044114 0.00044851]\n",
      "HI\n",
      "[7.89554822e-05 1.45166462e-04 1.20861711e-04 2.23423446e-04\n",
      " 2.48049557e-04 2.50248724e-04 2.11057883e-04 2.38072863e-04\n",
      " 2.18407004e-04 2.91027988e-04 3.25055171e-04 2.70233805e-04\n",
      " 2.25220313e-04 1.74590224e-04 2.59241795e-04 3.29737565e-04\n",
      " 3.94035321e-04 2.65631011e-04 2.65652490e-04 4.04414231e-04\n",
      " 4.50317626e-04 4.70800589e-04 4.01333677e-04 3.63575042e-04\n",
      " 3.36420951e-04 3.46176797e-04 3.59790946e-04 4.22967207e-04\n",
      " 3.24697329e-04 3.14907267e-04 2.70257313e-04 3.44467529e-04\n",
      " 4.18318760e-04 3.92083701e-04 3.27873154e-04 3.77027733e-04\n",
      " 4.03897461e-04 4.55014211e-04 4.99583582e-04 5.05528201e-04\n",
      " 4.73140702e-04 4.69777012e-04 4.56814103e-04 4.67829405e-04\n",
      " 4.33963131e-04 4.23032948e-04 3.91165176e-04 3.86690768e-04\n",
      " 4.32347926e-04 4.29034412e-04 3.55753323e-04 3.86466732e-04\n",
      " 3.40117420e-04 3.37334755e-04 3.64945115e-04 3.97106311e-04\n",
      " 4.03720410e-04 3.84382726e-04 3.64653335e-04 4.55189375e-04\n",
      " 4.40665878e-04 4.15576699e-04 5.19095977e-04 5.25281423e-04\n",
      " 4.79396569e-04 4.61046681e-04 3.76379909e-04 3.70391094e-04\n",
      " 3.97398200e-04 4.18597014e-04 3.54136042e-04 3.56242610e-04\n",
      " 3.76440492e-04 3.84700289e-04 3.61092680e-04 4.48017831e-04\n",
      " 4.10949670e-04 4.28324394e-04 3.36937668e-04 2.92323041e-04\n",
      " 2.86449453e-04 2.98080761e-04 3.11334072e-04 3.07827080e-04\n",
      " 2.97825641e-04 4.12512383e-04 4.21073227e-04 4.47762081e-04\n",
      " 4.83995942e-04 4.59621938e-04 4.97278615e-04 4.80529035e-04\n",
      " 5.02558425e-04 4.92030531e-04 4.92925071e-04 4.99460346e-04\n",
      " 4.53272893e-04 4.19128340e-04 3.56619771e-04 3.37210586e-04]\n",
      "HI\n",
      "[0.00012889 0.00020917 0.00022153 0.00038134 0.00039451 0.00032591\n",
      " 0.00036076 0.000334   0.00042532 0.00049798 0.00056157 0.00064307\n",
      " 0.00051946 0.00056057 0.00055611 0.00049164 0.00037264 0.00036188\n",
      " 0.00044952 0.0003753  0.00041658 0.00050458 0.00052447 0.00055018\n",
      " 0.00066319 0.000671   0.00068167 0.00072066 0.00070073 0.00067691\n",
      " 0.00052716 0.00059971 0.00061    0.00063636 0.00067981 0.00070379\n",
      " 0.00066665 0.00058111 0.00064583 0.0005787  0.0005807  0.00060918\n",
      " 0.00053818 0.00053425 0.00047928 0.0005634  0.00052922 0.0005422\n",
      " 0.00064751 0.00073323 0.00066628 0.00071577 0.00055905 0.0006626\n",
      " 0.00065266 0.00072156 0.00068637 0.00057949 0.00070122 0.00067686\n",
      " 0.00074419 0.000661   0.00057487 0.00062658 0.00063915 0.00062573\n",
      " 0.00073104 0.00069986 0.0007037  0.00068529 0.0006167  0.00063227\n",
      " 0.00057001 0.00065202 0.00061599 0.00063196 0.00065874 0.00060114\n",
      " 0.00061025 0.00061541 0.00069283 0.00058574 0.00060077 0.00060597\n",
      " 0.00056488 0.00059081 0.00054475 0.00060062 0.0005798  0.00051679\n",
      " 0.00051671 0.00055543 0.00056737 0.00063324 0.00068283 0.00056904\n",
      " 0.0004947  0.00054362 0.00053947 0.0005274 ]\n",
      "HI\n",
      "[0.00020144 0.0002185  0.00010733 0.00027316 0.00024344 0.00021225\n",
      " 0.00026508 0.00027574 0.00030679 0.00030791 0.00036563 0.00032027\n",
      " 0.00032425 0.00032945 0.00045081 0.00050422 0.00039942 0.00041378\n",
      " 0.00041984 0.00038382 0.00044266 0.00044875 0.00041547 0.0003222\n",
      " 0.00030885 0.00043429 0.00038491 0.00040317 0.00052878 0.00041903\n",
      " 0.00041687 0.00046471 0.00053448 0.00053274 0.0005037  0.00050577\n",
      " 0.00045485 0.00038738 0.00038885 0.00041182 0.00045996 0.00041817\n",
      " 0.00047557 0.00040992 0.00030059 0.00035406 0.00039866 0.00036702\n",
      " 0.00042212 0.00051054 0.00048675 0.00055739 0.00048302 0.0005079\n",
      " 0.00045133 0.0004615  0.00044187 0.00036037 0.00042075 0.00034255\n",
      " 0.00032362 0.0002665  0.00026118 0.00039368 0.00041544 0.00046984\n",
      " 0.00049315 0.00051732 0.00047152 0.00045388 0.00046641 0.00051807\n",
      " 0.00048138 0.00037646 0.00034888 0.00047319 0.00038359 0.00037264\n",
      " 0.00036921 0.00041596 0.00034697 0.00028868 0.00036815 0.00034006\n",
      " 0.00036505 0.00040937 0.00041848 0.0003564  0.00041254 0.00040156\n",
      " 0.00031521 0.0002991  0.00030169 0.00029769 0.0003655  0.00037881\n",
      " 0.00022195 0.00031637 0.00024679 0.00028812]\n",
      "HI\n",
      "[ 1.12945178e-07  1.10169465e-04  2.57148434e-05  1.60537081e-04\n",
      "  1.45875516e-04  1.34717584e-04  1.36973455e-04  2.66537042e-04\n",
      "  2.60240406e-04  1.92021226e-04  2.34724848e-04  1.89679939e-04\n",
      "  1.19387866e-04  5.15983153e-05  1.86741734e-04  3.36262144e-04\n",
      "  3.32511176e-04  2.77127248e-04  2.65973478e-04  2.55318030e-04\n",
      "  2.79858261e-04  3.79004600e-04  2.75193658e-04  2.08356977e-04\n",
      "  1.63583703e-04  1.59527061e-04  1.15806963e-04  1.62700097e-04\n",
      "  2.42205579e-04  2.72796432e-04  1.55431832e-04  2.05996932e-04\n",
      "  1.57403963e-04  1.76176356e-04  2.71958301e-04  2.71957773e-04\n",
      "  2.43193252e-04  2.61049688e-04  3.06980017e-04  2.25147528e-04\n",
      "  3.44643490e-04  3.28464488e-04  2.63525214e-04  2.05857628e-04\n",
      "  2.08495768e-04  2.74020730e-04  2.26346812e-04  1.79966135e-04\n",
      "  3.21808764e-04  3.25615104e-04  1.76270545e-04  2.27118119e-04\n",
      "  1.03852411e-04  1.76979443e-04  1.94644761e-04  2.34568370e-04\n",
      "  1.52309409e-04  1.16392612e-04  6.91080806e-05  6.73820563e-05\n",
      "  6.43286766e-05 -2.81014881e-05  9.73964021e-05  8.36156540e-05\n",
      "  7.50090016e-05  1.05890739e-04  6.49689367e-05  1.15150955e-04\n",
      "  2.68884705e-04  2.72538883e-04  1.76888983e-04  1.90142979e-04\n",
      "  1.10429690e-04  1.23361699e-04  6.93662383e-05  1.65790746e-04\n",
      "  1.90236352e-04  1.74176204e-04  1.92277955e-04  9.28780707e-05\n",
      "  1.54291401e-04  6.89643223e-05  8.80023723e-05  8.74258455e-05\n",
      "  1.02100317e-04  1.29350167e-04  2.24897153e-04  2.42110995e-04\n",
      "  2.15110788e-04  1.41286881e-04  1.59574466e-04  2.00921894e-04\n",
      "  1.12855934e-04  2.28631582e-04  1.46754261e-04  8.61950816e-05\n",
      "  3.46673122e-05  9.52073330e-05  1.28510543e-04  8.93871806e-05]\n",
      "HI\n",
      "[-2.52591036e-06  1.01066578e-04 -3.52593202e-07  5.44180068e-05\n",
      "  5.47697362e-05  4.37417181e-05 -4.81639158e-05 -2.63884232e-05\n",
      "  7.65678331e-06  1.22396865e-05  1.41883657e-04  4.80601103e-05\n",
      "  1.34222150e-07  1.72162744e-05  3.64853286e-05  7.83839639e-05\n",
      "  4.82044641e-05 -6.22214739e-05 -3.21603538e-05  7.41197319e-05\n",
      "  8.81439241e-05  1.46718613e-04  1.20883455e-04  3.51934300e-05\n",
      " -8.33918854e-05 -6.90454852e-05 -2.18835526e-05  1.93445164e-05\n",
      "  3.67184197e-05  4.68477553e-05  1.99670460e-05 -9.95067800e-06\n",
      " -2.84292789e-06  1.94359439e-05 -1.97918594e-05 -3.45313372e-06\n",
      " -5.42550777e-05  3.66602473e-05  2.11480293e-05  1.30952450e-05\n",
      "  9.33434043e-05  6.38885453e-05  3.83356476e-05 -2.13850600e-05\n",
      " -2.20921121e-05  2.40811643e-05  6.90819644e-05  1.87803234e-05\n",
      "  1.94359194e-05 -2.06209505e-06  6.05813202e-06 -6.07153710e-05\n",
      " -7.69707452e-05 -2.40777705e-05 -1.11963499e-06  1.68994471e-05\n",
      " -3.18347071e-05 -4.56277537e-05  1.72153009e-05  5.15474255e-05\n",
      " -3.34953035e-05 -7.53972049e-05 -1.00013785e-05 -2.04199861e-05\n",
      "  1.23904175e-05 -3.93638861e-05 -1.63342940e-05 -1.15415303e-04\n",
      " -1.41552484e-04 -1.45081372e-04 -1.68236409e-04 -5.30744121e-06\n",
      " -2.78303983e-05 -1.32827562e-04 -1.68148589e-04 -7.02140186e-05\n",
      " -1.16567452e-04 -1.36902306e-04 -2.28011240e-04 -1.60034899e-04\n",
      " -2.07966130e-04 -1.69356038e-04 -2.27090922e-04 -1.06088950e-04\n",
      " -1.07961497e-05  5.87082422e-05 -1.32457824e-05 -6.69645080e-05\n",
      " -9.14428204e-05 -1.05224019e-04 -8.48559919e-05 -9.90658469e-05\n",
      " -1.55399218e-04 -1.58927491e-04 -8.24299002e-05 -1.11614424e-04\n",
      " -1.40410684e-04 -1.58487593e-04 -1.81944404e-04 -1.92643793e-04]\n",
      "HI\n",
      "[-7.37179872e-05 -4.79254414e-05 -1.53375415e-04 -1.04925263e-04\n",
      " -5.16414081e-05 -6.49765583e-05 -1.03872730e-04 -5.80897491e-05\n",
      " -1.08983404e-04 -1.06031966e-04 -8.62390158e-05 -1.99587851e-04\n",
      " -1.70700837e-04 -2.37031293e-04 -1.46478756e-04 -7.59515921e-05\n",
      " -3.47392494e-05 -1.01058855e-04 -7.32940539e-05 -7.61824507e-05\n",
      " -3.13687452e-05  2.78533507e-05 -3.44615640e-05 -1.09315418e-04\n",
      " -1.87902677e-04 -2.24352667e-04 -1.72858139e-04 -1.35808155e-04\n",
      " -1.84995785e-04 -2.01166514e-04 -2.42312735e-04 -1.67501678e-04\n",
      " -8.64243966e-05 -1.85467704e-04 -1.95916769e-04 -1.91710503e-04\n",
      " -1.90913080e-04 -1.18472867e-04 -9.32624132e-05 -8.72647008e-05\n",
      " -8.15546713e-05 -7.46039768e-05 -1.03296425e-04 -1.62673806e-04\n",
      " -1.61305594e-04 -1.88399747e-04 -2.04477175e-04 -2.21280593e-04\n",
      " -1.76623382e-04 -1.77229259e-04 -2.68559259e-04 -2.67457826e-04\n",
      " -3.03180884e-04 -2.35771618e-04 -2.13600254e-04 -2.60229240e-04\n",
      " -2.66332761e-04 -2.28347171e-04 -2.67413587e-04 -1.98175585e-04\n",
      " -2.42901884e-04 -2.92103012e-04 -2.31853324e-04 -1.91483539e-04\n",
      " -1.92882915e-04 -2.28168051e-04 -2.98744195e-04 -2.93216743e-04\n",
      " -3.15079704e-04 -3.12411179e-04 -3.26935789e-04 -3.35165040e-04\n",
      " -3.21025670e-04 -3.35780593e-04 -3.39684744e-04 -2.70685612e-04\n",
      " -3.40472896e-04 -3.44653637e-04 -4.27365360e-04 -4.43871999e-04\n",
      " -4.72070291e-04 -4.46827094e-04 -4.16359425e-04 -4.28071514e-04\n",
      " -3.76388337e-04 -3.63305590e-04 -3.75502793e-04 -3.36509509e-04\n",
      " -3.03342786e-04 -3.03520848e-04 -2.57273515e-04 -2.65332787e-04\n",
      " -3.29788003e-04 -3.17266109e-04 -3.37428289e-04 -3.62212022e-04\n",
      " -4.01160343e-04 -4.12535606e-04 -4.13384728e-04 -4.51740318e-04]\n",
      "HI\n",
      "[1.25265106e-05 1.19290334e-04 1.54469028e-04 2.87950732e-04\n",
      " 2.59535791e-04 1.91353088e-04 1.94455459e-04 1.66704442e-04\n",
      " 2.79500909e-04 3.01142001e-04 4.49995390e-04 4.83501396e-04\n",
      " 3.63646999e-04 4.00163607e-04 4.56786273e-04 3.72726707e-04\n",
      " 3.17680394e-04 3.84739079e-04 3.68256783e-04 2.26640796e-04\n",
      " 1.71575325e-04 2.90936212e-04 3.41563645e-04 3.59911002e-04\n",
      " 3.84149294e-04 4.34816278e-04 4.46278433e-04 5.32277348e-04\n",
      " 5.08939287e-04 4.40659992e-04 4.03847720e-04 4.51659312e-04\n",
      " 4.37628977e-04 4.01081581e-04 4.83198069e-04 5.12614459e-04\n",
      " 5.18522190e-04 4.24331876e-04 4.15368497e-04 3.88518663e-04\n",
      " 3.18447614e-04 3.71082963e-04 4.19748595e-04 3.91622270e-04\n",
      " 4.26607640e-04 3.89388858e-04 4.83001646e-04 5.49292498e-04\n",
      " 5.86694692e-04 5.17632754e-04 6.00329349e-04 6.13492444e-04\n",
      " 5.44562052e-04 5.58893470e-04 5.76141437e-04 6.24838752e-04\n",
      " 5.39100638e-04 4.80048173e-04 5.59835045e-04 6.23462822e-04\n",
      " 6.44505132e-04 6.11551307e-04 5.28955750e-04 4.89208113e-04\n",
      " 5.33414538e-04 5.24626589e-04 5.52564510e-04 4.79228684e-04\n",
      " 4.50840308e-04 5.24490555e-04 4.52587416e-04 5.45018417e-04\n",
      " 5.00998955e-04 3.91047777e-04 3.86221910e-04 4.22322849e-04\n",
      " 4.20567320e-04 4.73190087e-04 4.98659278e-04 5.94021471e-04\n",
      " 5.48088007e-04 4.62379246e-04 5.37698597e-04 5.15987324e-04\n",
      " 4.72556728e-04 5.41059782e-04 5.18408405e-04 5.52027988e-04\n",
      " 4.13134388e-04 4.33778794e-04 4.32160028e-04 5.35031042e-04\n",
      " 5.19878520e-04 5.10900754e-04 5.18693720e-04 4.25733916e-04\n",
      " 4.30955658e-04 4.89396847e-04 5.01336498e-04 4.35550947e-04]\n",
      "HI\n",
      "[-1.54242697e-05  1.08860383e-04  7.50545282e-05  4.66493786e-05\n",
      "  3.67674422e-05  9.25798237e-05  9.28691975e-05  7.77674420e-05\n",
      "  7.63443145e-06 -2.28579105e-05 -1.33065783e-05  1.57358825e-04\n",
      "  2.11869868e-04  1.69740683e-04  1.97071212e-04  1.23258299e-04\n",
      "  1.29573503e-04  1.59627571e-04  1.15252663e-04  7.50706674e-05\n",
      "  1.62191109e-04  1.31983836e-04  1.42232738e-04  1.07526111e-04\n",
      "  1.80260446e-04  1.47405308e-04  4.45847259e-05  2.65263521e-05\n",
      "  1.01459083e-04  8.69303950e-05  8.25417934e-05  1.96698382e-04\n",
      "  2.15499904e-04  1.16806572e-04  1.86242320e-04  2.55992434e-04\n",
      "  1.69383306e-04  1.38467125e-04  3.59368411e-05  7.33926269e-05\n",
      "  1.30939922e-04  1.72378915e-04  6.88375502e-05  9.98320131e-05\n",
      "  1.29350808e-04  2.00487733e-04  1.32159162e-04  1.42557969e-04\n",
      "  2.39208000e-04  1.54616080e-04  2.63203498e-04  1.59219187e-04\n",
      "  1.87331815e-04  2.75106334e-04  1.24178060e-04  1.08304663e-04\n",
      "  1.19200583e-04  4.59696257e-05  1.05144671e-05  1.02731179e-04\n",
      "  4.57734384e-05  1.79267119e-04  1.74475041e-04  1.70363162e-04\n",
      "  1.73431131e-04  1.14602707e-04  1.43944832e-04  1.75631839e-04\n",
      "  2.95656940e-04  2.77332372e-04  1.80251158e-04  1.05889516e-04\n",
      "  2.60167487e-04  1.79091881e-04  1.99912392e-04  1.11850841e-04\n",
      "  2.60372860e-04  2.37040902e-04  1.44854748e-04  2.58887272e-04\n",
      "  2.48616452e-04  1.81952641e-04  1.69664024e-04  2.02517828e-04\n",
      "  2.27796305e-04  2.98572355e-04  2.87070432e-04  2.11755351e-04\n",
      "  2.03786350e-04  1.41585917e-04  1.96736956e-04  2.37246781e-04\n",
      "  2.63511029e-04  2.70942191e-04  2.91918292e-04  3.42146536e-04\n",
      "  2.81333388e-04  2.03012477e-04  2.83745191e-06  1.41374055e-05]\n",
      "HI\n",
      "[-7.30863345e-05 -7.14734642e-05 -1.59870692e-04 -1.28331816e-04\n",
      " -7.61026800e-05 -5.21929587e-05 -8.08065322e-05 -8.37971359e-05\n",
      " -1.16870871e-04 -8.46651382e-05 -1.49817259e-04 -1.11467715e-04\n",
      " -1.21670226e-04 -9.30473316e-05 -2.69894507e-05 -4.10824225e-05\n",
      " -1.70731911e-04 -2.18814342e-04 -2.53505020e-04 -1.57701813e-04\n",
      " -1.62360884e-04 -2.07557638e-04 -1.82395607e-04 -3.39782319e-04\n",
      " -2.85220433e-04 -2.31392641e-04 -2.75438418e-04 -3.13356928e-04\n",
      " -1.87663121e-04 -2.81321168e-04 -2.51099861e-04 -2.57601430e-04\n",
      " -2.53404918e-04 -3.55755448e-04 -3.69228402e-04 -2.60188256e-04\n",
      " -2.99820035e-04 -2.51790928e-04 -3.02425327e-04 -2.76969154e-04\n",
      " -1.81987322e-04 -2.47994792e-04 -2.41861207e-04 -3.35489210e-04\n",
      " -3.06102024e-04 -2.97382951e-04 -2.81452604e-04 -1.98862471e-04\n",
      " -2.40499470e-04 -1.59590319e-04 -3.75282256e-04 -2.11812335e-04\n",
      " -2.18918794e-04 -2.94721482e-04 -3.59691549e-04 -4.39481554e-04\n",
      " -2.92328724e-04 -2.93003233e-04 -2.93188805e-04 -3.84398660e-04\n",
      " -3.22231052e-04 -3.11244769e-04 -3.09614629e-04 -2.63830615e-04\n",
      " -2.62806943e-04 -2.83683120e-04 -2.85906613e-04 -1.53940531e-04\n",
      " -2.67295465e-04 -2.89804879e-04 -1.96620926e-04 -2.15031917e-04\n",
      " -2.64803912e-04 -2.59402887e-04 -1.32395206e-04 -1.78219233e-04\n",
      " -1.83784566e-04 -1.19640362e-04 -2.13772793e-05 -1.68210592e-04\n",
      " -2.67427823e-04 -3.04799350e-04 -2.29754152e-04 -1.67850063e-04\n",
      " -1.59760356e-04 -7.13828633e-05 -1.45277753e-04 -2.76103477e-04\n",
      " -2.43781302e-04 -2.80258934e-04 -1.01048031e-04 -1.91212760e-04\n",
      " -2.14303444e-04 -2.20134377e-04 -1.05986501e-04 -3.25809881e-04\n",
      " -2.95165031e-04 -3.10022022e-04 -2.81966371e-04 -3.17878483e-04]\n",
      "HI\n",
      "[-0.00011257 -0.00015615 -0.00020323 -0.00023973 -0.00024234 -0.00023037\n",
      " -0.00029034 -0.00027059 -0.00033871 -0.00015451 -0.00039389 -0.00050461\n",
      " -0.00043694 -0.00050993 -0.00052364 -0.0004704  -0.00040866 -0.00034987\n",
      " -0.0004563  -0.00038733 -0.00038579 -0.00047365 -0.00057907 -0.00053303\n",
      " -0.00056079 -0.00059192 -0.00050931 -0.00049569 -0.00056672 -0.00060657\n",
      " -0.00047013 -0.00040232 -0.00038422 -0.00045667 -0.00050093 -0.00055008\n",
      " -0.00040745 -0.00042026 -0.0005053  -0.00052273 -0.00046582 -0.00050253\n",
      " -0.00053297 -0.00048024 -0.00042445 -0.00044003 -0.00047073 -0.00048288\n",
      " -0.0005246  -0.00049186 -0.0005834  -0.00056543 -0.00048495 -0.00054465\n",
      " -0.00052394 -0.00057087 -0.0005555  -0.00048354 -0.00052829 -0.00049592\n",
      " -0.0005733  -0.00057176 -0.00060887 -0.00049022 -0.00045629 -0.00051722\n",
      " -0.00067422 -0.00066415 -0.00061065 -0.00062094 -0.00053237 -0.00056671\n",
      " -0.00056256 -0.00061575 -0.00053752 -0.00053724 -0.00052745 -0.00045034\n",
      " -0.00039695 -0.00039638 -0.00036236 -0.00041719 -0.00046417 -0.00052441\n",
      " -0.00052926 -0.00059199 -0.00051632 -0.00056183 -0.00053597 -0.00045723\n",
      " -0.00051613 -0.00051557 -0.00054354 -0.0004544  -0.00050488 -0.00055867\n",
      " -0.00054079 -0.00044588 -0.0003915  -0.00036247]\n",
      "HI\n",
      "[-0.00020622 -0.00025666 -0.00032722 -0.00044477 -0.00040032 -0.00039708\n",
      " -0.00043486 -0.00040743 -0.00053279 -0.00053675 -0.00065529 -0.00073046\n",
      " -0.00068807 -0.00073974 -0.00075962 -0.00070613 -0.00058584 -0.00059918\n",
      " -0.00067122 -0.00057242 -0.00055036 -0.0006469  -0.00074351 -0.00073519\n",
      " -0.00074644 -0.00087796 -0.0008209  -0.00090356 -0.00091158 -0.00088866\n",
      " -0.000813   -0.00085086 -0.00082647 -0.00092197 -0.00098308 -0.00099026\n",
      " -0.0009551  -0.00081204 -0.00085802 -0.00080229 -0.00079627 -0.00085505\n",
      " -0.00084071 -0.00077427 -0.00073462 -0.00078703 -0.00083566 -0.00086324\n",
      " -0.00088224 -0.00092218 -0.00098162 -0.00099762 -0.00095576 -0.0009468\n",
      " -0.00095375 -0.00104395 -0.00095572 -0.00084384 -0.00088962 -0.00090032\n",
      " -0.00100536 -0.00094528 -0.00092894 -0.00091611 -0.00094078 -0.00091822\n",
      " -0.000966   -0.0009258  -0.00095264 -0.0010012  -0.00093824 -0.00102852\n",
      " -0.00101738 -0.00100825 -0.00100671 -0.00097632 -0.00096466 -0.00096205\n",
      " -0.00097931 -0.00099788 -0.00103433 -0.0009839  -0.00099383 -0.00104245\n",
      " -0.00102784 -0.0010778  -0.00108075 -0.00105672 -0.00099965 -0.00094268\n",
      " -0.00089322 -0.00093502 -0.00094193 -0.00096729 -0.00100406 -0.00095296\n",
      " -0.00099058 -0.00102143 -0.00096203 -0.0009312 ]\n",
      "HI\n",
      "[0.00020622 0.00025666 0.00032722 0.00044477 0.00040032 0.00039708\n",
      " 0.00043486 0.00040743 0.00053279 0.00053675 0.00065529 0.00073046\n",
      " 0.00068807 0.00073974 0.00075962 0.00070613 0.00058584 0.00059918\n",
      " 0.00067122 0.00057242 0.00055036 0.0006469  0.00074351 0.00073519\n",
      " 0.00074644 0.00087796 0.0008209  0.00090356 0.00091158 0.00088866\n",
      " 0.000813   0.00085086 0.00082647 0.00092197 0.00098308 0.00099026\n",
      " 0.0009551  0.00081204 0.00085802 0.00080229 0.00079627 0.00085505\n",
      " 0.00084071 0.00077427 0.00073462 0.00078703 0.00083566 0.00086324\n",
      " 0.00088224 0.00092218 0.00098162 0.00099762 0.00095576 0.0009468\n",
      " 0.00095375 0.00104395 0.00095572 0.00084384 0.00088962 0.00090032\n",
      " 0.00100536 0.00094528 0.00092894 0.00091611 0.00094078 0.00091822\n",
      " 0.000966   0.0009258  0.00095264 0.0010012  0.00093824 0.00102852\n",
      " 0.00101738 0.00100825 0.00100671 0.00097632 0.00096466 0.00096205\n",
      " 0.00097931 0.00099788 0.00103433 0.0009839  0.00099383 0.00104245\n",
      " 0.00102784 0.0010778  0.00108075 0.00105672 0.00099965 0.00094268\n",
      " 0.00089322 0.00093502 0.00094193 0.00096729 0.00100406 0.00095296\n",
      " 0.00099058 0.00102143 0.00096203 0.0009312 ]\n",
      "HI\n",
      "[0.00019308 0.00024966 0.00027514 0.0004276  0.00034352 0.00036188\n",
      " 0.00038956 0.00038818 0.00050469 0.0005206  0.0006279  0.00068689\n",
      " 0.00064794 0.00070079 0.00070819 0.00063984 0.00055293 0.00055607\n",
      " 0.00064632 0.00052246 0.00049819 0.00063353 0.00071018 0.00067632\n",
      " 0.00070175 0.00081412 0.00074734 0.0008608  0.00092849 0.00087491\n",
      " 0.00078885 0.00086352 0.00085076 0.00096149 0.00097841 0.0009145\n",
      " 0.00087288 0.00075765 0.0007979  0.00076581 0.00074784 0.00080121\n",
      " 0.00078997 0.00071802 0.00068897 0.00072413 0.0007885  0.00079796\n",
      " 0.00078935 0.00083731 0.00088151 0.00090733 0.00085819 0.00086109\n",
      " 0.00083785 0.00090406 0.00083526 0.0007089  0.00075064 0.00079076\n",
      " 0.00092216 0.00086647 0.00083433 0.00086339 0.00089041 0.00086259\n",
      " 0.00091737 0.00084365 0.00082366 0.00085888 0.00081656 0.00090638\n",
      " 0.00091624 0.00089948 0.00089403 0.00089527 0.00088106 0.00086464\n",
      " 0.00086666 0.00092233 0.0009635  0.00092694 0.00092324 0.00092174\n",
      " 0.0008984  0.00095326 0.00091234 0.00092028 0.0008731  0.00081821\n",
      " 0.00080185 0.00079407 0.00079951 0.00084115 0.00087505 0.00084275\n",
      " 0.00087015 0.00091648 0.00088199 0.00087463]\n",
      "HI\n",
      "[0.00017167 0.00022955 0.00025692 0.00040537 0.00040463 0.00047116\n",
      " 0.00042086 0.00040233 0.00055017 0.00056202 0.00064855 0.00063698\n",
      " 0.00059675 0.00065876 0.00067042 0.00063292 0.00057434 0.00054706\n",
      " 0.0005945  0.00047621 0.00044543 0.00053477 0.00058685 0.00054638\n",
      " 0.00054473 0.00074752 0.00070726 0.0008092  0.00085014 0.00080778\n",
      " 0.00073221 0.00073955 0.0007669  0.00087061 0.00088819 0.00085547\n",
      " 0.00083901 0.00068998 0.00079397 0.00070484 0.00071487 0.00075049\n",
      " 0.0007246  0.00063615 0.00062957 0.0006604  0.00068416 0.00072181\n",
      " 0.00077185 0.00073237 0.00076976 0.00077953 0.00073925 0.00080238\n",
      " 0.00082627 0.0008778  0.00080276 0.00063475 0.0007013  0.00073729\n",
      " 0.00084625 0.0007839  0.00076381 0.00079273 0.00086319 0.00082641\n",
      " 0.00086791 0.00082672 0.00081611 0.00081316 0.00078683 0.00085288\n",
      " 0.00079538 0.00079599 0.0008262  0.0008555  0.00080514 0.00079446\n",
      " 0.00076619 0.00082145 0.00082983 0.00079702 0.000826   0.00082286\n",
      " 0.0007856  0.00089397 0.00088994 0.00085672 0.00080627 0.00074563\n",
      " 0.00075752 0.0007815  0.00076081 0.00079954 0.00082496 0.00079725\n",
      " 0.00076099 0.00079327 0.0007508  0.00080863]\n",
      "HI\n",
      "[0.00021886 0.0002797  0.00030653 0.00045341 0.00040435 0.00044456\n",
      " 0.00040009 0.0003635  0.00051655 0.00048434 0.00062605 0.00065729\n",
      " 0.00066473 0.00062907 0.00056523 0.00054156 0.00049521 0.00050231\n",
      " 0.00060766 0.00053332 0.00048184 0.00065201 0.00064958 0.00056882\n",
      " 0.00055705 0.00068104 0.00065549 0.00078074 0.0007267  0.00074117\n",
      " 0.00066169 0.00070131 0.00071194 0.00079696 0.00080947 0.00079385\n",
      " 0.00080047 0.00068136 0.00077774 0.00066548 0.00061168 0.00074213\n",
      " 0.0007089  0.00059558 0.0005328  0.00062791 0.00063565 0.00065054\n",
      " 0.00071388 0.00072124 0.00077575 0.00074767 0.00074675 0.00073355\n",
      " 0.0006668  0.00076982 0.00076739 0.00058807 0.00064639 0.00070425\n",
      " 0.00081326 0.0007058  0.00072407 0.00072441 0.0007018  0.00073611\n",
      " 0.00074591 0.00070837 0.00070259 0.00074955 0.00068766 0.00076977\n",
      " 0.00070525 0.0007209  0.00072313 0.00071576 0.00067644 0.00066823\n",
      " 0.00065864 0.00068949 0.00071093 0.00068124 0.00070035 0.00073326\n",
      " 0.00067307 0.00071808 0.00073998 0.00074957 0.00072107 0.00063874\n",
      " 0.00064281 0.00063582 0.0006811  0.00066907 0.00071007 0.00068885\n",
      " 0.00070144 0.00070701 0.00063352 0.00063   ]\n",
      "HI\n",
      "[0.00016831 0.00024167 0.00028534 0.00043109 0.00036638 0.00039702\n",
      " 0.00038168 0.00037258 0.0005281  0.00050556 0.00061279 0.00063539\n",
      " 0.00063435 0.00067072 0.00062013 0.00053261 0.00049608 0.00051036\n",
      " 0.00061926 0.00050683 0.00044929 0.00056428 0.00055666 0.00043344\n",
      " 0.00043737 0.00059568 0.00055031 0.00069942 0.00065394 0.00066815\n",
      " 0.00062136 0.00064116 0.00066939 0.00076643 0.00072119 0.00072625\n",
      " 0.00071302 0.0005944  0.00069375 0.00058582 0.00056885 0.00068786\n",
      " 0.00068467 0.00056837 0.00052445 0.00054389 0.00054262 0.00057481\n",
      " 0.00062922 0.00061092 0.00066082 0.00062591 0.00061918 0.00065465\n",
      " 0.00058635 0.00065548 0.00066135 0.00051849 0.00052358 0.00061026\n",
      " 0.00071849 0.00064153 0.00064995 0.00069388 0.00067449 0.00061571\n",
      " 0.00060603 0.00060293 0.00057524 0.0006199  0.00055543 0.00066694\n",
      " 0.00059108 0.00056716 0.00055877 0.00062103 0.00063717 0.00066491\n",
      " 0.0006472  0.00062796 0.00062671 0.00055028 0.00059196 0.00059603\n",
      " 0.0006     0.00065466 0.00065442 0.00066755 0.00067731 0.0005773\n",
      " 0.00054687 0.00053033 0.00053281 0.00053106 0.00056508 0.00056737\n",
      " 0.00056171 0.00055865 0.00053503 0.00053681]\n",
      "HI\n",
      "[0.00017943 0.00026096 0.0002966  0.00044878 0.00038388 0.00040866\n",
      " 0.00036044 0.00036734 0.00050543 0.0004918  0.00057991 0.00058908\n",
      " 0.00060614 0.00065583 0.00055565 0.0004993  0.00049903 0.00049312\n",
      " 0.00058806 0.0004953  0.00048789 0.00059675 0.00056684 0.00044226\n",
      " 0.00043406 0.00057898 0.00053764 0.00065433 0.00060765 0.00063446\n",
      " 0.00061043 0.00063338 0.00064291 0.00073062 0.00068499 0.00063291\n",
      " 0.00066385 0.00056209 0.00063865 0.00052157 0.00050715 0.00062765\n",
      " 0.00062644 0.00054617 0.00048383 0.00051999 0.00051858 0.00051333\n",
      " 0.00055847 0.00053839 0.00058639 0.00054746 0.00053151 0.00058306\n",
      " 0.00050412 0.0005463  0.00052455 0.00038457 0.0004057  0.0004889\n",
      " 0.00061649 0.00056772 0.00056907 0.00061522 0.00063834 0.00057835\n",
      " 0.00056798 0.00054306 0.00049148 0.00053244 0.00046704 0.0005849\n",
      " 0.00052453 0.00052252 0.00051015 0.00055295 0.00057839 0.00061582\n",
      " 0.00057655 0.00056292 0.00055072 0.00048353 0.00051551 0.00049646\n",
      " 0.00048673 0.00056688 0.00058377 0.00059146 0.00060618 0.00053078\n",
      " 0.0004992  0.00049811 0.00049912 0.00048842 0.00049789 0.00051118\n",
      " 0.0004916  0.00049705 0.00044105 0.00046838]\n",
      "HI\n",
      "[0.00024099 0.000277   0.00030018 0.0004297  0.00038281 0.00041104\n",
      " 0.00043874 0.00044321 0.00053325 0.00057935 0.00067203 0.00073519\n",
      " 0.00072951 0.00076453 0.00078217 0.00069775 0.00061161 0.00061965\n",
      " 0.00068854 0.00061644 0.00059385 0.00066774 0.00070107 0.00071193\n",
      " 0.0007347  0.00086792 0.00080238 0.00085875 0.0008023  0.00076912\n",
      " 0.0006941  0.00071631 0.00085182 0.00089386 0.00094583 0.00091336\n",
      " 0.00093366 0.00079621 0.00086937 0.00087374 0.00084037 0.00090614\n",
      " 0.00086199 0.00077887 0.00071745 0.00077301 0.00085514 0.00088335\n",
      " 0.00090787 0.00090768 0.00096075 0.00094018 0.00089406 0.00087058\n",
      " 0.00087596 0.00095849 0.00088193 0.00076738 0.00078603 0.00084502\n",
      " 0.00095105 0.00083335 0.00089192 0.00089323 0.00094701 0.000879\n",
      " 0.00089866 0.00087713 0.00092914 0.00092736 0.00090086 0.00100842\n",
      " 0.00095358 0.00098218 0.00094543 0.00091534 0.00096819 0.00099407\n",
      " 0.00095616 0.00101445 0.00100362 0.00098376 0.00096916 0.00098002\n",
      " 0.00098918 0.00101329 0.00104086 0.00099656 0.00088882 0.0008921\n",
      " 0.00088319 0.00090732 0.00089236 0.00093842 0.00100773 0.00092275\n",
      " 0.00093488 0.00098668 0.00097855 0.00092355]\n",
      "HI\n",
      "[0.00016139 0.00021022 0.00029362 0.00041837 0.00036867 0.00037954\n",
      " 0.0003585  0.00037812 0.00056299 0.00057039 0.00064029 0.00073169\n",
      " 0.00076517 0.00073351 0.00080474 0.00077088 0.00066059 0.00061061\n",
      " 0.00065973 0.0007277  0.00076794 0.00076116 0.00071238 0.00072746\n",
      " 0.00077772 0.00087739 0.00081516 0.00081284 0.0007878  0.00085377\n",
      " 0.00076452 0.00085196 0.00088826 0.00094885 0.00094314 0.00093126\n",
      " 0.00087649 0.00088358 0.00085919 0.00081633 0.00081684 0.00084307\n",
      " 0.00086734 0.00088216 0.00087863 0.00086507 0.00086341 0.000928\n",
      " 0.0009136  0.00092071 0.00094207 0.00095425 0.00094103 0.00095338\n",
      " 0.0009412  0.00098113 0.00100021 0.0008455  0.00091608 0.00096336\n",
      " 0.00100845 0.00084688 0.0008364  0.0008813  0.00086644 0.0009491\n",
      " 0.00095043 0.0009352  0.00098901 0.000992   0.00091437 0.00094707\n",
      " 0.00091009 0.00090258 0.00088715 0.00085258 0.00082525 0.00081095\n",
      " 0.00087054 0.00082421 0.00089131 0.00089793 0.00090799 0.00090549\n",
      " 0.00091584 0.00098248 0.00092101 0.00102556 0.00102356 0.00092742\n",
      " 0.00102757 0.00105237 0.00101289 0.00101688 0.00095783 0.00094211\n",
      " 0.00091105 0.00101447 0.00096456 0.00095109]\n",
      "HI\n",
      "[9.46889756e-05 2.17743486e-04 3.10030881e-04 4.46015907e-04\n",
      " 4.55607736e-04 4.66040944e-04 4.59167763e-04 4.45923090e-04\n",
      " 5.69293583e-04 5.92833676e-04 7.37914087e-04 7.29947343e-04\n",
      " 7.11975418e-04 6.57501595e-04 6.85442755e-04 6.89985363e-04\n",
      " 6.23014764e-04 5.92182722e-04 6.49044189e-04 6.32319600e-04\n",
      " 6.18220436e-04 6.98135728e-04 7.14566512e-04 7.16704610e-04\n",
      " 7.42763081e-04 8.37020218e-04 7.53950914e-04 8.61941653e-04\n",
      " 8.03214804e-04 8.45554143e-04 7.53630389e-04 7.78061216e-04\n",
      " 8.25594393e-04 9.05654134e-04 9.33119225e-04 9.21084078e-04\n",
      " 8.22396330e-04 7.35581042e-04 8.43435676e-04 8.49774557e-04\n",
      " 8.07152436e-04 8.32347680e-04 8.09188939e-04 7.99670766e-04\n",
      " 7.84649236e-04 7.80400195e-04 8.05345919e-04 8.87681711e-04\n",
      " 8.59077051e-04 8.62099876e-04 8.92116916e-04 8.85248273e-04\n",
      " 9.19627964e-04 9.02099220e-04 8.99282702e-04 9.10785400e-04\n",
      " 8.86913523e-04 7.73458087e-04 7.99219361e-04 9.05452424e-04\n",
      " 8.90839941e-04 8.99623358e-04 9.29198609e-04 9.09134317e-04\n",
      " 9.12840077e-04 8.55519820e-04 8.73832089e-04 8.61049542e-04\n",
      " 9.70935232e-04 1.00909187e-03 9.01901442e-04 9.49484972e-04\n",
      " 9.18083166e-04 8.84003707e-04 8.57401277e-04 8.93504552e-04\n",
      " 9.57376248e-04 9.61002900e-04 9.21164725e-04 9.20232606e-04\n",
      " 9.09517060e-04 9.42608888e-04 9.57114774e-04 9.31880821e-04\n",
      " 9.03133035e-04 9.34654670e-04 8.84182551e-04 9.04525882e-04\n",
      " 9.58620748e-04 9.32418359e-04 9.65770915e-04 9.35424371e-04\n",
      " 9.54465283e-04 9.67981063e-04 9.70070242e-04 9.56898537e-04\n",
      " 8.97243655e-04 8.69049482e-04 8.41679466e-04 8.52498097e-04]\n",
      "HI\n",
      "[0.000144   0.00022983 0.00030319 0.00043355 0.00037779 0.00044498\n",
      " 0.00041579 0.00038999 0.00050647 0.00052049 0.00067321 0.00071232\n",
      " 0.00066959 0.00056728 0.00060506 0.00062872 0.00068344 0.00064541\n",
      " 0.00068982 0.00074942 0.00079311 0.00085882 0.00082388 0.000711\n",
      " 0.00074313 0.00082382 0.00075981 0.00082799 0.00078169 0.0008359\n",
      " 0.00071094 0.00080973 0.00085278 0.00085379 0.00080566 0.00089576\n",
      " 0.00084413 0.00080137 0.00086859 0.00088094 0.00079294 0.00094952\n",
      " 0.00089808 0.00083589 0.00078479 0.00083895 0.00087192 0.00081798\n",
      " 0.00083824 0.00080055 0.00077964 0.00081419 0.00082197 0.0008039\n",
      " 0.00085753 0.00093765 0.00097214 0.00083603 0.00083463 0.00093797\n",
      " 0.0008877  0.00088096 0.0010567  0.00101117 0.00090506 0.00091428\n",
      " 0.00085662 0.00091835 0.00090021 0.00097754 0.00089629 0.00088621\n",
      " 0.0008541  0.00085759 0.00086603 0.00089015 0.00090997 0.00098946\n",
      " 0.00087568 0.00084193 0.00086229 0.00084921 0.00087749 0.00074589\n",
      " 0.0008427  0.00084983 0.0008778  0.00090021 0.00092311 0.00087493\n",
      " 0.00092736 0.00085753 0.00087237 0.00091968 0.00092527 0.0008578\n",
      " 0.00078624 0.00084477 0.00083492 0.00080706]\n",
      "HI\n",
      "[0.00014006 0.00022319 0.00031464 0.00043798 0.00039572 0.00044581\n",
      " 0.0003921  0.00041449 0.0005618  0.00056768 0.00070212 0.00073508\n",
      " 0.00069557 0.00063959 0.00065898 0.00071337 0.00073663 0.00061095\n",
      " 0.00065981 0.00074489 0.00081024 0.00085525 0.00074185 0.00071566\n",
      " 0.00075961 0.00080649 0.00076593 0.00083302 0.00074953 0.00080489\n",
      " 0.00071886 0.00078828 0.00088741 0.00087559 0.00083564 0.00087115\n",
      " 0.00089369 0.00087609 0.00092855 0.00095025 0.00090938 0.00096526\n",
      " 0.00091443 0.00091217 0.00081937 0.00080118 0.00084081 0.00084184\n",
      " 0.00089137 0.00085613 0.00082489 0.00085998 0.00085511 0.00080609\n",
      " 0.00081612 0.00085865 0.00092761 0.00079292 0.00082638 0.00094731\n",
      " 0.00094163 0.00092185 0.00103679 0.00104232 0.00100879 0.00098627\n",
      " 0.00088279 0.00088684 0.00092985 0.00096499 0.00092261 0.00095402\n",
      " 0.00090065 0.00092577 0.00092658 0.00096414 0.0009947  0.00099881\n",
      " 0.00091717 0.00087638 0.00086592 0.0008625  0.00085621 0.00081594\n",
      " 0.00086109 0.0009267  0.00089943 0.00099396 0.00099641 0.00097004\n",
      " 0.00103233 0.00097968 0.00100648 0.00098925 0.00098865 0.00100433\n",
      " 0.00091556 0.00089864 0.00088492 0.00088787]\n",
      "HI\n",
      "[0.00020203 0.00021553 0.00033769 0.0004184  0.00039121 0.00040976\n",
      " 0.00044059 0.00035454 0.00046898 0.00040793 0.00052426 0.0005442\n",
      " 0.00045389 0.00055642 0.00060021 0.00059428 0.00053768 0.00051534\n",
      " 0.00059794 0.00048715 0.00049384 0.00059064 0.0006105  0.0006147\n",
      " 0.00060806 0.00067683 0.00062755 0.00076822 0.00072559 0.00073449\n",
      " 0.0006884  0.00070406 0.00068398 0.00078504 0.00082943 0.00082979\n",
      " 0.00074631 0.00073361 0.00073687 0.00065971 0.00063588 0.00065591\n",
      " 0.00067966 0.00072995 0.00067187 0.00069526 0.00071559 0.00068905\n",
      " 0.00065749 0.00070744 0.00073283 0.00087229 0.00078893 0.00074492\n",
      " 0.00073605 0.000828   0.00079008 0.00072301 0.00076694 0.00081489\n",
      " 0.00087192 0.00075432 0.00076045 0.00076577 0.00083124 0.00077428\n",
      " 0.00082261 0.000743   0.00082747 0.00079307 0.00084952 0.00086322\n",
      " 0.00086751 0.00085851 0.00089459 0.00088853 0.00081752 0.00085008\n",
      " 0.00075145 0.00079522 0.0007875  0.00073474 0.0007195  0.00077227\n",
      " 0.00077959 0.00087159 0.00082883 0.00086227 0.0007538  0.00077006\n",
      " 0.00078132 0.00081629 0.00079074 0.00082717 0.00084106 0.00077391\n",
      " 0.00082722 0.00078017 0.00070941 0.0007384 ]\n",
      "HI\n",
      "[0.00012933 0.00019468 0.00026282 0.0004652  0.00040212 0.0004044\n",
      " 0.00041837 0.00040374 0.00047697 0.00043733 0.00048361 0.00056437\n",
      " 0.00051928 0.00045485 0.00054135 0.0005116  0.00040972 0.00035557\n",
      " 0.00041353 0.0004778  0.00044901 0.00054982 0.00049919 0.00054117\n",
      " 0.00047671 0.00061697 0.00058322 0.00061355 0.00061777 0.00063077\n",
      " 0.00061783 0.00068335 0.00071025 0.00075034 0.0006588  0.00072038\n",
      " 0.00069326 0.00068508 0.00080884 0.00072734 0.00063903 0.00063746\n",
      " 0.00056412 0.00067206 0.00067143 0.00062417 0.00064834 0.00063551\n",
      " 0.00066828 0.00068764 0.00066593 0.00068666 0.00059688 0.0006218\n",
      " 0.00068898 0.00076807 0.00065973 0.00055229 0.00054576 0.00058275\n",
      " 0.00061999 0.00070567 0.00068145 0.00069376 0.00066364 0.00060273\n",
      " 0.00063165 0.00060615 0.00069371 0.00072254 0.00063231 0.00077996\n",
      " 0.00077014 0.00078489 0.0007299  0.00079917 0.00075482 0.00072348\n",
      " 0.00069165 0.00069934 0.00065257 0.00064704 0.00058843 0.00059563\n",
      " 0.0005498  0.00060274 0.00062631 0.00064108 0.00076467 0.00064901\n",
      " 0.00063143 0.00070493 0.00077814 0.00079905 0.00074028 0.00067196\n",
      " 0.00062082 0.00065609 0.00061963 0.00062297]\n",
      "HI\n",
      "[0.00015391 0.00029559 0.00032357 0.0004488  0.00045141 0.00044455\n",
      " 0.0004436  0.00042807 0.00043516 0.00051021 0.00051792 0.00050966\n",
      " 0.00044535 0.00042585 0.00041155 0.00042419 0.00035715 0.00031635\n",
      " 0.00038483 0.00042234 0.00041654 0.00045632 0.00054517 0.0004694\n",
      " 0.00048135 0.00055196 0.00048731 0.00058151 0.0005137  0.00052199\n",
      " 0.00048667 0.00057297 0.00055746 0.00063087 0.00074692 0.00067887\n",
      " 0.00065011 0.00059156 0.00066762 0.00066815 0.00059229 0.0006841\n",
      " 0.00059407 0.00056626 0.00059049 0.00059489 0.00052596 0.00049465\n",
      " 0.00062449 0.00063809 0.0006046  0.0006114  0.00067244 0.00062554\n",
      " 0.00065464 0.00070358 0.00060139 0.00055277 0.00060075 0.00059453\n",
      " 0.00069254 0.00059332 0.00061618 0.00061152 0.00071341 0.00065592\n",
      " 0.00063591 0.00059276 0.00068413 0.00062191 0.0005752  0.00066935\n",
      " 0.00060116 0.00061948 0.00059914 0.00060462 0.00060202 0.00065372\n",
      " 0.00059244 0.00056355 0.00055247 0.00054923 0.00052316 0.00053922\n",
      " 0.00048124 0.00055464 0.0006174  0.00063078 0.00060434 0.00059437\n",
      " 0.00047743 0.00048663 0.00051879 0.00051542 0.00055896 0.00061033\n",
      " 0.00060356 0.000656   0.00053729 0.00048967]\n",
      "HI\n",
      "[0.00011167 0.00019488 0.00015278 0.0001726  0.00021143 0.0002778\n",
      " 0.00026858 0.0002803  0.00033286 0.00043162 0.00048226 0.00043601\n",
      " 0.00041016 0.00032848 0.0004054  0.00043757 0.00047811 0.00034808\n",
      " 0.00031665 0.00040654 0.00045751 0.00049632 0.00048988 0.00040236\n",
      " 0.00037345 0.00046584 0.00045035 0.00055343 0.00045544 0.00047149\n",
      " 0.00039816 0.00043385 0.00052935 0.00054838 0.00049655 0.0005079\n",
      " 0.00055076 0.00055365 0.00056934 0.00056918 0.00044631 0.00052826\n",
      " 0.00060101 0.0006248  0.00057575 0.00057525 0.00057095 0.00054328\n",
      " 0.00056247 0.00052816 0.00054919 0.0005431  0.00051762 0.00050519\n",
      " 0.00049646 0.00053386 0.00057537 0.00051581 0.00050535 0.00055805\n",
      " 0.0006308  0.0005568  0.00065303 0.00058931 0.00058325 0.00057128\n",
      " 0.00049937 0.00050746 0.00046985 0.00053786 0.00051406 0.00051327\n",
      " 0.0004688  0.00047547 0.00050084 0.00052974 0.00050807 0.0005093\n",
      " 0.00050786 0.00046521 0.00050814 0.00043019 0.00049505 0.00039303\n",
      " 0.00047497 0.00063897 0.00058204 0.0006272  0.00065483 0.00066802\n",
      " 0.00057949 0.00056181 0.00064089 0.00069919 0.00055319 0.00059969\n",
      " 0.00055321 0.00054926 0.00048921 0.0004283 ]\n",
      "HI\n",
      "[7.89554822e-05 1.45166462e-04 1.20861711e-04 2.23423446e-04\n",
      " 2.48049557e-04 2.50248724e-04 2.11057883e-04 2.38072863e-04\n",
      " 2.18407004e-04 2.91027988e-04 3.25055171e-04 2.70233805e-04\n",
      " 2.25220313e-04 1.74590224e-04 2.59241795e-04 3.29737565e-04\n",
      " 3.94035321e-04 2.65631011e-04 2.65652490e-04 4.04414231e-04\n",
      " 4.50317626e-04 4.70800589e-04 4.01333677e-04 3.63575042e-04\n",
      " 3.36420951e-04 3.46176797e-04 3.59790946e-04 4.22967207e-04\n",
      " 3.24697329e-04 3.14907267e-04 2.70257313e-04 3.44467529e-04\n",
      " 4.18318760e-04 3.92083701e-04 3.27873154e-04 3.77027733e-04\n",
      " 4.03897461e-04 4.55014211e-04 4.99583582e-04 5.05528201e-04\n",
      " 4.73140702e-04 4.69777012e-04 4.56814103e-04 4.67829405e-04\n",
      " 4.33963131e-04 4.23032948e-04 3.91165176e-04 3.86690768e-04\n",
      " 4.32347926e-04 4.29034412e-04 3.55753323e-04 3.86466732e-04\n",
      " 3.40117420e-04 3.37334755e-04 3.64945115e-04 3.97106311e-04\n",
      " 4.03720410e-04 3.84382726e-04 3.64653335e-04 4.55189375e-04\n",
      " 4.40665878e-04 4.15576699e-04 5.19095977e-04 5.25281423e-04\n",
      " 4.79396569e-04 4.61046681e-04 3.76379909e-04 3.70391094e-04\n",
      " 3.97398200e-04 4.18597014e-04 3.54136042e-04 3.56242610e-04\n",
      " 3.76440492e-04 3.84700289e-04 3.61092680e-04 4.48017831e-04\n",
      " 4.10949670e-04 4.28324394e-04 3.36937668e-04 2.92323041e-04\n",
      " 2.86449453e-04 2.98080761e-04 3.11334072e-04 3.07827080e-04\n",
      " 2.97825641e-04 4.12512383e-04 4.21073227e-04 4.47762081e-04\n",
      " 4.83995942e-04 4.59621938e-04 4.97278615e-04 4.80529035e-04\n",
      " 5.02558425e-04 4.92030531e-04 4.92925071e-04 4.99460346e-04\n",
      " 4.53272893e-04 4.19128340e-04 3.56619771e-04 3.37210586e-04]\n",
      "HI\n",
      "[0.00011805 0.0002005  0.00020696 0.00036464 0.00027441 0.00031391\n",
      " 0.00037897 0.00041117 0.00041816 0.00044677 0.00054691 0.00052685\n",
      " 0.0005104  0.00057131 0.00061443 0.00053283 0.00050516 0.00048384\n",
      " 0.00051557 0.00040056 0.00040022 0.00054067 0.00065065 0.00062182\n",
      " 0.00061835 0.00074884 0.00067421 0.00064355 0.00053804 0.00058943\n",
      " 0.00048974 0.00056893 0.00067601 0.00074785 0.00076336 0.00072272\n",
      " 0.00070853 0.00057587 0.00059542 0.00055998 0.00057919 0.0005673\n",
      " 0.00060993 0.00056914 0.0005003  0.00059513 0.00063076 0.00064416\n",
      " 0.00069416 0.00064156 0.00065879 0.00069065 0.00069175 0.0006822\n",
      " 0.00067185 0.00076502 0.00064306 0.0005487  0.0005712  0.00057365\n",
      " 0.000644   0.0006309  0.0006364  0.00064094 0.00063951 0.00063421\n",
      " 0.00066545 0.00061356 0.00059777 0.00066895 0.00065518 0.00077484\n",
      " 0.00068471 0.00065616 0.00061104 0.00058149 0.00056363 0.00060844\n",
      " 0.00060598 0.00065383 0.00065841 0.00057768 0.0005896  0.0005902\n",
      " 0.0005915  0.00072108 0.00068597 0.00066415 0.00070023 0.00061796\n",
      " 0.00052939 0.00047265 0.00052123 0.00048299 0.0005295  0.00056473\n",
      " 0.00057116 0.00062178 0.0005168  0.00050869]\n",
      "HI\n",
      "[8.73296319e-05 3.29530540e-05 1.36996667e-04 2.95193833e-04\n",
      " 2.61982391e-04 2.31131926e-04 2.20676283e-04 1.98036123e-04\n",
      " 3.42669971e-04 4.19013613e-04 5.01807025e-04 4.60320185e-04\n",
      " 4.32661967e-04 3.61701485e-04 3.53469269e-04 2.87318865e-04\n",
      " 3.39011993e-04 3.13586304e-04 3.59903374e-04 3.14720736e-04\n",
      " 3.89529500e-04 5.16421109e-04 5.85114681e-04 5.08382988e-04\n",
      " 4.90946519e-04 5.89114286e-04 4.74109316e-04 5.20178435e-04\n",
      " 5.26182729e-04 5.17335785e-04 4.37439370e-04 5.10619233e-04\n",
      " 4.72490357e-04 4.35344769e-04 4.24392973e-04 4.23255174e-04\n",
      " 3.62514397e-04 2.89017687e-04 3.72739261e-04 3.55827847e-04\n",
      " 3.16138544e-04 3.84562403e-04 3.32637662e-04 2.71440911e-04\n",
      " 3.73328330e-04 4.03767136e-04 4.30410737e-04 3.59670827e-04\n",
      " 5.09583419e-04 5.28973388e-04 5.15369625e-04 5.06144585e-04\n",
      " 4.30205170e-04 4.26765124e-04 3.63583052e-04 4.60236720e-04\n",
      " 3.67926255e-04 3.15381578e-04 3.34221476e-04 3.97204490e-04\n",
      " 4.64026835e-04 3.68919224e-04 4.22422153e-04 4.16026477e-04\n",
      " 4.51385340e-04 4.24827674e-04 4.17983786e-04 3.52597093e-04\n",
      " 4.21970044e-04 6.54890037e-04 6.15693148e-04 6.25955896e-04\n",
      " 5.44454364e-04 5.28449713e-04 4.76473182e-04 4.68581881e-04\n",
      " 4.04097205e-04 4.80741695e-04 4.17643886e-04 3.13209375e-04\n",
      " 3.24707515e-04 3.59598660e-04 3.27036451e-04 3.38569777e-04\n",
      " 3.90393535e-04 3.44659745e-04 3.91084249e-04 3.72108118e-04\n",
      " 4.02535139e-04 3.89953149e-04 2.86450741e-04 3.60432768e-04\n",
      " 4.23652581e-04 4.11417364e-04 3.97215336e-04 3.23519098e-04\n",
      " 2.87916259e-04 3.39120221e-04 3.02349546e-04 2.93869279e-04]\n",
      "HI\n",
      "[-9.08713485e-06 -1.93576141e-05 -2.51619679e-05  3.87463076e-05\n",
      "  1.77264800e-04  7.75841467e-05  5.43897406e-05  8.62433519e-05\n",
      "  7.21093775e-05  1.10627941e-04  2.34287163e-04  2.09246809e-04\n",
      "  1.80539288e-04  2.09452334e-04  2.42069113e-04  1.60040746e-04\n",
      "  1.82255267e-04  1.37773850e-04  1.09878381e-04  1.02832818e-04\n",
      "  1.68593898e-04  2.62015194e-04  3.33311590e-04  2.21404815e-04\n",
      "  1.55842389e-04  1.90285257e-04  1.78045707e-04  1.99849580e-04\n",
      "  2.62595000e-04  1.68693361e-04  2.08802715e-04  2.82687611e-04\n",
      "  2.31021545e-04  2.11368982e-04  2.50958185e-04  3.02510150e-04\n",
      "  2.53948860e-04  3.30175630e-04  3.65948911e-04  3.36683799e-04\n",
      "  3.26876518e-04  4.97291340e-04  4.90351876e-04  2.57113418e-04\n",
      "  1.73081046e-04  1.52269016e-04  1.46702620e-04  1.53873815e-04\n",
      "  1.52834763e-04  2.32626478e-04  2.70418928e-04  1.88204453e-04\n",
      "  9.42583033e-05  2.74514181e-04  3.23745240e-04  2.87341606e-04\n",
      "  2.48824574e-04  7.70916138e-05  1.38518492e-04  1.57126126e-04\n",
      "  2.53460951e-04  1.54403395e-04  2.29479956e-04  2.31988185e-04\n",
      "  3.16182001e-04  2.40348564e-04  2.15409198e-04  1.98262719e-04\n",
      "  2.22587701e-04  1.53399863e-04  1.45034275e-04  2.03838536e-04\n",
      "  1.54352254e-04  2.35289583e-04  2.79012942e-04  2.70119835e-04\n",
      "  1.60723241e-04  1.57305348e-04  7.80452669e-05  1.46563493e-05\n",
      " -1.69488806e-05  7.09474607e-05  2.75772399e-05  9.44957745e-05\n",
      "  1.56333587e-04  1.27177448e-04  1.07593916e-04  1.65539938e-04\n",
      "  1.94791112e-04  1.58895509e-04  1.67443698e-04  2.38486915e-04\n",
      "  2.12448853e-04  2.99721612e-04  2.69474275e-04  1.11358059e-04\n",
      "  6.52460149e-05  4.70127709e-05 -6.34690199e-05 -3.53680446e-05]\n",
      "HI\n",
      "[-7.22916166e-05 -4.23707428e-05 -2.39554597e-05 -3.25929909e-05\n",
      " -7.55770616e-06  2.75012567e-05 -3.45650783e-05  3.93246110e-05\n",
      " -3.03249667e-05 -1.71664445e-05  5.99937168e-05 -1.08839718e-04\n",
      " -1.10174349e-04 -1.51893985e-04 -1.16729299e-04 -4.97510369e-05\n",
      " -1.76919530e-05 -6.49974342e-05  1.89384452e-05  4.88792406e-05\n",
      "  5.24349087e-05  1.17688743e-04  7.21689130e-05  8.68201685e-05\n",
      " -5.61390677e-05  1.89118497e-05  2.43942527e-05  5.28255831e-05\n",
      "  5.56450201e-05 -3.68937018e-05 -8.73086547e-05  1.18793180e-05\n",
      "  1.20334587e-04 -1.52060872e-05 -8.76435396e-06 -2.54974454e-05\n",
      "  2.70379643e-05  5.89678456e-05  1.45145175e-04  1.91578573e-04\n",
      "  2.01590671e-04  1.77742271e-04  1.32390241e-04  3.51734493e-05\n",
      "  6.02263578e-05  5.55526025e-05  1.34563002e-05 -7.60742424e-06\n",
      " -3.76802710e-05 -5.87632331e-05 -1.17645528e-04 -7.14321598e-05\n",
      " -3.84359786e-05 -6.65745517e-05  6.99615446e-06 -5.15046034e-05\n",
      " -8.10596519e-05 -1.49646926e-05  6.37106232e-05  1.05105164e-04\n",
      "  9.35808468e-05 -8.47181239e-06  1.40833177e-05  6.31465175e-05\n",
      "  1.28021083e-04  2.80930397e-05  1.57034415e-05  1.22667766e-04\n",
      "  6.96242820e-05  2.75420902e-06  3.42156387e-05  3.59086380e-05\n",
      "  2.85210147e-05 -4.77283575e-05 -6.61262999e-05 -2.85349900e-05\n",
      " -9.14456161e-05 -3.05949835e-05 -1.66254567e-04 -2.13601470e-04\n",
      " -1.31153610e-04 -7.83381393e-05 -1.01876248e-04 -1.12566375e-04\n",
      " -9.23015152e-05 -8.30356277e-05 -1.11083593e-04 -2.55142171e-05\n",
      " -5.95815371e-05 -2.68606994e-05 -8.06858970e-05 -1.47054566e-05\n",
      " -9.10271761e-05 -1.39931154e-04 -1.46054748e-04 -1.19765474e-04\n",
      " -1.74508552e-04 -1.37239058e-04 -1.44567471e-04 -2.37572048e-04]\n",
      "HI\n",
      "[-7.37179872e-05 -4.79254414e-05 -1.53375415e-04 -1.04925263e-04\n",
      " -5.16414081e-05 -6.49765583e-05 -1.03872730e-04 -5.80897491e-05\n",
      " -1.08983404e-04 -1.06031966e-04 -8.62390158e-05 -1.99587851e-04\n",
      " -1.70700837e-04 -2.37031293e-04 -1.46478756e-04 -7.59515921e-05\n",
      " -3.47392494e-05 -1.01058855e-04 -7.32940539e-05 -7.61824507e-05\n",
      " -3.13687452e-05  2.78533507e-05 -3.44615640e-05 -1.09315418e-04\n",
      " -1.87902677e-04 -2.24352667e-04 -1.72858139e-04 -1.35808155e-04\n",
      " -1.84995785e-04 -2.01166514e-04 -2.42312735e-04 -1.67501678e-04\n",
      " -8.64243966e-05 -1.85467704e-04 -1.95916769e-04 -1.91710503e-04\n",
      " -1.90913080e-04 -1.18472867e-04 -9.32624132e-05 -8.72647008e-05\n",
      " -8.15546713e-05 -7.46039768e-05 -1.03296425e-04 -1.62673806e-04\n",
      " -1.61305594e-04 -1.88399747e-04 -2.04477175e-04 -2.21280593e-04\n",
      " -1.76623382e-04 -1.77229259e-04 -2.68559259e-04 -2.67457826e-04\n",
      " -3.03180884e-04 -2.35771618e-04 -2.13600254e-04 -2.60229240e-04\n",
      " -2.66332761e-04 -2.28347171e-04 -2.67413587e-04 -1.98175585e-04\n",
      " -2.42901884e-04 -2.92103012e-04 -2.31853324e-04 -1.91483539e-04\n",
      " -1.92882915e-04 -2.28168051e-04 -2.98744195e-04 -2.93216743e-04\n",
      " -3.15079704e-04 -3.12411179e-04 -3.26935789e-04 -3.35165040e-04\n",
      " -3.21025670e-04 -3.35780593e-04 -3.39684744e-04 -2.70685612e-04\n",
      " -3.40472896e-04 -3.44653637e-04 -4.27365360e-04 -4.43871999e-04\n",
      " -4.72070291e-04 -4.46827094e-04 -4.16359425e-04 -4.28071514e-04\n",
      " -3.76388337e-04 -3.63305590e-04 -3.75502793e-04 -3.36509509e-04\n",
      " -3.03342786e-04 -3.03520848e-04 -2.57273515e-04 -2.65332787e-04\n",
      " -3.29788003e-04 -3.17266109e-04 -3.37428289e-04 -3.62212022e-04\n",
      " -4.01160343e-04 -4.12535606e-04 -4.13384728e-04 -4.51740318e-04]\n",
      "HI\n",
      "[ 4.37574030e-05 -2.06591771e-05  1.04136261e-04  2.19801332e-04\n",
      "  2.38250983e-04  2.78687842e-04  2.89672033e-04  2.87423797e-04\n",
      "  2.92660781e-04  3.02632730e-04  4.52951315e-04  5.49995768e-04\n",
      "  5.45681194e-04  4.73444559e-04  4.17666112e-04  5.17180039e-04\n",
      "  4.50256512e-04  4.52271924e-04  4.56712258e-04  3.94688221e-04\n",
      "  4.54863385e-04  4.77390356e-04  4.96297114e-04  4.66926404e-04\n",
      "  3.45648384e-04  4.55134089e-04  4.79362365e-04  5.58125998e-04\n",
      "  5.46719041e-04  5.85931581e-04  4.89740964e-04  4.69304402e-04\n",
      "  4.39904906e-04  5.30500790e-04  4.98873623e-04  4.41150916e-04\n",
      "  4.52190544e-04  3.83745610e-04  2.81241195e-04  2.86875696e-04\n",
      "  3.07948170e-04  3.90679018e-04  4.17545075e-04  3.69694008e-04\n",
      "  3.53827533e-04  4.53086047e-04  5.15906995e-04  4.32469588e-04\n",
      "  5.00037772e-04  5.80430476e-04  6.85701637e-04  5.69092317e-04\n",
      "  5.94534604e-04  6.30028810e-04  6.35434269e-04  7.08357595e-04\n",
      "  5.51664299e-04  5.75723227e-04  4.52879760e-04  4.38331278e-04\n",
      "  4.35807821e-04  4.38221203e-04  5.04647450e-04  4.50134476e-04\n",
      "  5.42695306e-04  5.07699798e-04  5.29772023e-04  5.04208054e-04\n",
      "  4.68486507e-04  5.36673984e-04  5.04144921e-04  5.34649353e-04\n",
      "  4.48314214e-04  3.45169612e-04  4.36687977e-04  4.10856838e-04\n",
      "  4.16061522e-04  3.87468136e-04  4.66735353e-04  5.29920912e-04\n",
      "  4.93830923e-04  3.99826855e-04  4.44833143e-04  4.78410639e-04\n",
      "  4.86136121e-04  5.37912837e-04  5.05607551e-04  5.06241563e-04\n",
      "  5.02690259e-04  4.62157315e-04  4.47266640e-04  4.99323867e-04\n",
      "  4.68457097e-04  5.64120425e-04  6.35356697e-04  5.32598305e-04\n",
      "  5.27109194e-04  5.44861780e-04  6.00832994e-04  5.56373534e-04]\n",
      "HI\n",
      "[ 1.59158363e-04  4.00358471e-05  6.72851554e-06  1.70742919e-04\n",
      "  1.98355487e-04  1.75104506e-04  1.20748573e-04  8.24582149e-05\n",
      "  2.01351143e-04  2.34597248e-04  3.00360590e-04  1.60319177e-04\n",
      "  2.27986855e-04  1.75387688e-04  2.31332856e-04  1.46312767e-04\n",
      "  7.93773924e-05  1.85600660e-04  2.01785242e-04  6.52413142e-05\n",
      "  1.12772997e-04  5.30077305e-06 -4.59529986e-06  4.10122847e-05\n",
      " -4.15476519e-05  1.83109734e-04  1.67259439e-04  1.82320805e-04\n",
      "  8.98607612e-05  1.14860458e-05  2.54877224e-05  2.84864111e-05\n",
      "  4.70587175e-05  1.27011225e-04  2.05189948e-04  2.19446875e-04\n",
      "  5.84416133e-05  2.41770290e-05  6.84253953e-06  1.24199753e-04\n",
      "  2.35861888e-05  1.28442152e-04  1.10883297e-04  2.10270037e-04\n",
      "  2.16295387e-04  2.30395356e-04  2.39756623e-04  2.70526210e-04\n",
      "  2.04928290e-04  2.71034074e-04  2.49847082e-04  1.75541457e-04\n",
      "  2.17308018e-04  2.38597614e-04  3.37286953e-04  3.55870086e-04\n",
      "  2.51578043e-04  1.52511113e-04  2.90391358e-04  2.78893652e-04\n",
      "  2.28675423e-04  3.01511506e-04  2.69345525e-04  2.14827777e-04\n",
      "  2.81775243e-04  2.78750135e-04  3.33014909e-04  1.90349983e-04\n",
      "  2.05562198e-04  2.03222033e-04  2.46396615e-04  2.85455519e-04\n",
      "  2.21812440e-04  1.96666252e-04  2.04486960e-04  2.04148539e-04\n",
      "  9.62659601e-05  4.84809525e-05  5.73097279e-05  1.12232823e-04\n",
      "  1.89891559e-04  9.26012014e-05  8.86030786e-05  2.19476437e-04\n",
      "  2.88925936e-04  2.33411682e-04  2.60176557e-04  2.05790308e-04\n",
      "  2.43165723e-04  1.87424758e-04  2.45263125e-04  2.75428916e-04\n",
      "  2.86461632e-04  2.69933758e-04  1.72909480e-04  1.70713806e-04\n",
      "  2.16987176e-04  1.62232595e-04  2.45470765e-04  1.46882746e-04]\n",
      "HI\n",
      "[-1.25011004e-05 -9.46127745e-05 -1.34609450e-04 -1.38069032e-04\n",
      " -1.72274293e-04 -1.32686025e-04 -6.40892585e-05 -2.54859456e-05\n",
      "  1.53144169e-05  1.12583440e-04  1.11614757e-04  7.76350959e-06\n",
      " -1.51367097e-05 -9.52236082e-06 -7.72926208e-05 -8.02844828e-05\n",
      " -1.05176438e-04 -1.38966969e-04 -1.39675290e-04 -2.10733800e-05\n",
      " -2.16646252e-05  8.90915282e-06 -8.51795559e-05 -1.88865310e-04\n",
      " -1.56148413e-04 -2.42099939e-04 -2.49944277e-04 -2.23916262e-04\n",
      " -1.51531971e-04 -1.88782814e-04 -1.30362939e-04 -1.70709288e-04\n",
      " -1.32644754e-04 -2.74139339e-04 -2.20145320e-04 -2.33292433e-04\n",
      " -2.14959442e-04 -1.33071509e-04 -1.54529707e-04 -1.75288198e-04\n",
      " -1.56810538e-04 -1.88228008e-04 -2.37946644e-04 -1.92218784e-04\n",
      " -2.66479351e-04 -2.15515532e-04 -2.26809631e-04 -3.43273999e-04\n",
      " -3.29815507e-04 -1.94169596e-04 -2.45819766e-04 -1.66104233e-04\n",
      " -7.15398185e-05 -2.47181543e-04 -1.30525609e-04 -9.88336620e-05\n",
      " -1.45885791e-04 -2.18451447e-04 -2.15759507e-04 -2.32189021e-04\n",
      " -2.06166064e-04 -2.21470479e-04 -1.45983928e-04 -2.70371768e-04\n",
      " -2.41391438e-04 -3.19691337e-04 -1.99524672e-04 -1.36605772e-04\n",
      " -1.26563678e-04 -2.66876998e-04 -2.10630925e-04 -1.78251768e-04\n",
      " -1.61499614e-04 -2.08852472e-04 -2.42725327e-04 -3.02693654e-04\n",
      " -2.72833859e-04 -3.94015759e-04 -2.99518225e-04 -2.55670633e-04\n",
      " -2.89108397e-04 -2.48495847e-04 -2.04544571e-04 -3.10954893e-04\n",
      " -1.90287706e-04 -2.40041989e-04 -2.83162516e-04 -3.16905592e-04\n",
      " -3.13723668e-04 -2.70537308e-04 -1.62364048e-04 -3.59641587e-04\n",
      " -4.27704281e-04 -3.05569171e-04 -3.14420334e-04 -2.68680926e-04\n",
      " -1.60941209e-04 -2.19279159e-04 -2.74187705e-04 -2.60925438e-04]\n",
      "HI\n",
      "[-4.24244698e-05 -1.19382166e-04 -1.70860135e-04 -3.15144030e-04\n",
      " -2.96278424e-04 -3.54470401e-04 -2.61359468e-04 -1.80162435e-04\n",
      " -2.54050113e-04 -2.78092790e-04 -3.20882280e-04 -3.68401468e-04\n",
      " -2.92263707e-04 -3.25129259e-04 -4.39566772e-04 -4.24926327e-04\n",
      " -3.61337845e-04 -3.90866270e-04 -3.35712378e-04 -2.03814008e-04\n",
      " -2.85781479e-04 -3.12656738e-04 -3.69384738e-04 -3.75589259e-04\n",
      " -4.26812834e-04 -4.92665441e-04 -4.76657911e-04 -5.53038592e-04\n",
      " -5.18841782e-04 -4.03412279e-04 -4.93162265e-04 -4.93565147e-04\n",
      " -4.41714909e-04 -4.76643864e-04 -5.26405810e-04 -5.45998966e-04\n",
      " -5.40857301e-04 -3.70040534e-04 -4.49335517e-04 -3.50587164e-04\n",
      " -4.55468243e-04 -5.02023469e-04 -5.43028528e-04 -4.74361631e-04\n",
      " -4.36623563e-04 -4.90304580e-04 -3.83077321e-04 -4.33464575e-04\n",
      " -4.14097468e-04 -5.11354713e-04 -6.36169646e-04 -6.15396038e-04\n",
      " -5.94098944e-04 -5.40485408e-04 -7.18600391e-04 -6.68199539e-04\n",
      " -6.54747970e-04 -4.90114246e-04 -5.12093468e-04 -4.89206325e-04\n",
      " -5.01834519e-04 -5.32915638e-04 -5.45264397e-04 -5.61442100e-04\n",
      " -4.74026425e-04 -5.59032563e-04 -5.85062127e-04 -4.78880690e-04\n",
      " -4.94437742e-04 -5.27138090e-04 -5.04836658e-04 -5.59477108e-04\n",
      " -5.09960998e-04 -5.03409341e-04 -5.02232239e-04 -5.35670378e-04\n",
      " -5.68050271e-04 -5.07891699e-04 -5.91605170e-04 -5.67309052e-04\n",
      " -5.90166834e-04 -4.82460221e-04 -5.06093783e-04 -5.26288596e-04\n",
      " -4.85840712e-04 -6.09818764e-04 -6.50939713e-04 -6.30916712e-04\n",
      " -4.88193543e-04 -3.73610541e-04 -3.70626437e-04 -4.36217432e-04\n",
      " -4.39671128e-04 -3.51596662e-04 -4.62759165e-04 -4.24836800e-04\n",
      " -4.59841996e-04 -4.48698902e-04 -3.65435699e-04 -3.04711789e-04]\n",
      "HI\n",
      "[-0.00020622 -0.00025666 -0.00032722 -0.00044477 -0.00040032 -0.00039708\n",
      " -0.00043486 -0.00040743 -0.00053279 -0.00053675 -0.00065529 -0.00073046\n",
      " -0.00068807 -0.00073974 -0.00075962 -0.00070613 -0.00058584 -0.00059918\n",
      " -0.00067122 -0.00057242 -0.00055036 -0.0006469  -0.00074351 -0.00073519\n",
      " -0.00074644 -0.00087796 -0.0008209  -0.00090356 -0.00091158 -0.00088866\n",
      " -0.000813   -0.00085086 -0.00082647 -0.00092197 -0.00098308 -0.00099026\n",
      " -0.0009551  -0.00081204 -0.00085802 -0.00080229 -0.00079627 -0.00085505\n",
      " -0.00084071 -0.00077427 -0.00073462 -0.00078703 -0.00083566 -0.00086324\n",
      " -0.00088224 -0.00092218 -0.00098162 -0.00099762 -0.00095576 -0.0009468\n",
      " -0.00095375 -0.00104395 -0.00095572 -0.00084384 -0.00088962 -0.00090032\n",
      " -0.00100536 -0.00094528 -0.00092894 -0.00091611 -0.00094078 -0.00091822\n",
      " -0.000966   -0.0009258  -0.00095264 -0.0010012  -0.00093824 -0.00102852\n",
      " -0.00101738 -0.00100825 -0.00100671 -0.00097632 -0.00096466 -0.00096205\n",
      " -0.00097931 -0.00099788 -0.00103433 -0.0009839  -0.00099383 -0.00104245\n",
      " -0.00102784 -0.0010778  -0.00108075 -0.00105672 -0.00099965 -0.00094268\n",
      " -0.00089322 -0.00093502 -0.00094193 -0.00096729 -0.00100406 -0.00095296\n",
      " -0.00099058 -0.00102143 -0.00096203 -0.0009312 ]\n",
      "HI\n"
     ]
    }
   ],
   "source": [
    "for i in range(0, len(all_weights)):\n",
    "    print(all_weights[i])\n",
    "    print(\"HI\")"
   ]
  },
  {
   "cell_type": "code",
   "execution_count": 299,
   "metadata": {
    "ExecuteTime": {
     "end_time": "2022-07-16T14:06:27.844634Z",
     "start_time": "2022-07-16T14:06:27.828710Z"
    },
    "scrolled": true
   },
   "outputs": [
    {
     "data": {
      "text/plain": [
       "array([[[0., 0., 0., 0., 0., 0., 0., 0., 0., 0.],\n",
       "        [0., 0., 0., 0., 0., 0., 0., 0., 0., 0.],\n",
       "        [0., 0., 0., 0., 0., 0., 0., 0., 0., 0.],\n",
       "        [0., 0., 0., 0., 0., 0., 0., 0., 0., 0.],\n",
       "        [0., 0., 0., 0., 0., 0., 0., 0., 0., 0.]],\n",
       "\n",
       "       [[0., 0., 0., 0., 0., 0., 0., 0., 0., 0.],\n",
       "        [0., 0., 0., 0., 0., 0., 0., 0., 0., 0.],\n",
       "        [0., 0., 0., 0., 0., 0., 0., 0., 0., 0.],\n",
       "        [0., 0., 0., 0., 0., 0., 0., 0., 0., 0.],\n",
       "        [0., 0., 0., 0., 0., 0., 0., 0., 0., 0.]]])"
      ]
     },
     "execution_count": 299,
     "metadata": {},
     "output_type": "execute_result"
    }
   ],
   "source": [
    "weights = np.zeros((2, 5, 10))\n"
   ]
  },
  {
   "cell_type": "code",
   "execution_count": 322,
   "metadata": {
    "ExecuteTime": {
     "end_time": "2022-07-16T14:28:05.484254Z",
     "start_time": "2022-07-16T14:28:05.470921Z"
    },
    "scrolled": true
   },
   "outputs": [
    {
     "data": {
      "text/plain": [
       "array([[[5., 0., 0., 0., 0., 0., 8., 0., 0., 0.],\n",
       "        [5., 0., 0., 0., 0., 0., 0., 0., 0., 0.],\n",
       "        [0., 0., 0., 0., 0., 0., 0., 0., 0., 0.],\n",
       "        [0., 0., 0., 0., 0., 0., 0., 0., 0., 0.],\n",
       "        [0., 0., 0., 0., 0., 0., 0., 0., 0., 0.]],\n",
       "\n",
       "       [[0., 0., 0., 0., 4., 0., 0., 0., 0., 0.],\n",
       "        [0., 0., 0., 0., 0., 0., 0., 0., 0., 0.],\n",
       "        [0., 0., 0., 0., 0., 0., 0., 0., 0., 0.],\n",
       "        [0., 0., 0., 0., 0., 0., 0., 0., 0., 0.],\n",
       "        [0., 0., 0., 0., 0., 0., 0., 0., 0., 0.]]])"
      ]
     },
     "execution_count": 322,
     "metadata": {},
     "output_type": "execute_result"
    }
   ],
   "source": [
    "weights[1][0][4] = 4\n",
    "weights"
   ]
  },
  {
   "cell_type": "code",
   "execution_count": 327,
   "metadata": {
    "ExecuteTime": {
     "end_time": "2022-07-16T14:30:02.421068Z",
     "start_time": "2022-07-16T14:30:02.407905Z"
    }
   },
   "outputs": [
    {
     "name": "stdout",
     "output_type": "stream",
     "text": [
      "[[2.5 0.  0.  0.  2.  0.  4.  0.  0.  0. ]\n",
      " [2.5 0.  0.  0.  0.  0.  0.  0.  0.  0. ]\n",
      " [0.  0.  0.  0.  0.  0.  0.  0.  0.  0. ]\n",
      " [0.  0.  0.  0.  0.  0.  0.  0.  0.  0. ]\n",
      " [0.  0.  0.  0.  0.  0.  0.  0.  0.  0. ]]\n"
     ]
    }
   ],
   "source": [
    "save_all_means = np.zeros((5, 10))\n",
    "for i in range (0, 5):\n",
    "    means_per_round = np.zeros((10))\n",
    "    for j in range(0, 10):\n",
    "        sum_of_parameter = 0\n",
    "        for k in range(0, 2):\n",
    "            sum_of_parameter += weights[k][i][j]\n",
    "            #print(sum_of_parameter)\n",
    "        sum_of_parameter /= 2\n",
    "        #print(\"end of inner loop\")\n",
    "        #print(sum_of_parameter)\n",
    "        means_per_round[j] = sum_of_parameter\n",
    "    #print(means_per_round)\n",
    "    save_all_means[i] = means_per_round\n",
    "\n",
    "print(save_all_means)\n",
    "#print(save_all_means)\n",
    "#for i in range(0, self.number_of_nodes):"
   ]
  },
  {
   "cell_type": "code",
   "execution_count": 336,
   "metadata": {
    "ExecuteTime": {
     "end_time": "2022-07-16T15:01:50.120279Z",
     "start_time": "2022-07-16T15:01:50.111240Z"
    }
   },
   "outputs": [],
   "source": [
    "array_with_mse = np.zeros((2, 5, 10))\n",
    "array_with_accum_mse = np.zeros((2, 5))\n"
   ]
  },
  {
   "cell_type": "code",
   "execution_count": 337,
   "metadata": {
    "ExecuteTime": {
     "end_time": "2022-07-16T15:01:50.994117Z",
     "start_time": "2022-07-16T15:01:50.983085Z"
    }
   },
   "outputs": [],
   "source": [
    "max_rounds =  5\n",
    "number_of_parameters = 10\n",
    "number_of_nodes = 2\n",
    "\n",
    "for i in range(0, max_rounds):\n",
    "    for k in range(0, number_of_nodes):\n",
    "        intermediate_sum = 0\n",
    "        for j in range(0,number_of_parameters):\n",
    "            array_with_mse[k][i][j] = (save_all_means[i][j] - weights[k][i][j]) ** 2\n",
    "            intermediate_sum +=  array_with_mse[k][i][j]\n",
    "        intermediate_sum /= number_of_parameters\n",
    "        array_with_accum_mse[k][i] += intermediate_sum"
   ]
  },
  {
   "cell_type": "code",
   "execution_count": 338,
   "metadata": {
    "ExecuteTime": {
     "end_time": "2022-07-16T15:02:02.150206Z",
     "start_time": "2022-07-16T15:02:02.138390Z"
    },
    "scrolled": true
   },
   "outputs": [
    {
     "data": {
      "text/plain": [
       "array([[2.625, 0.625, 0.   , 0.   , 0.   ],\n",
       "       [2.625, 0.625, 0.   , 0.   , 0.   ]])"
      ]
     },
     "execution_count": 338,
     "metadata": {},
     "output_type": "execute_result"
    }
   ],
   "source": [
    "array_with_accum_mse"
   ]
  },
  {
   "cell_type": "code",
   "execution_count": 339,
   "metadata": {
    "ExecuteTime": {
     "end_time": "2022-07-16T15:06:00.369516Z",
     "start_time": "2022-07-16T15:06:00.355685Z"
    }
   },
   "outputs": [
    {
     "data": {
      "text/plain": [
       "array([[[ 6.25,  0.  ,  0.  ,  0.  ,  4.  ,  0.  , 16.  ,  0.  ,  0.  ,\n",
       "          0.  ],\n",
       "        [ 6.25,  0.  ,  0.  ,  0.  ,  0.  ,  0.  ,  0.  ,  0.  ,  0.  ,\n",
       "          0.  ],\n",
       "        [ 0.  ,  0.  ,  0.  ,  0.  ,  0.  ,  0.  ,  0.  ,  0.  ,  0.  ,\n",
       "          0.  ],\n",
       "        [ 0.  ,  0.  ,  0.  ,  0.  ,  0.  ,  0.  ,  0.  ,  0.  ,  0.  ,\n",
       "          0.  ],\n",
       "        [ 0.  ,  0.  ,  0.  ,  0.  ,  0.  ,  0.  ,  0.  ,  0.  ,  0.  ,\n",
       "          0.  ]],\n",
       "\n",
       "       [[ 6.25,  0.  ,  0.  ,  0.  ,  4.  ,  0.  , 16.  ,  0.  ,  0.  ,\n",
       "          0.  ],\n",
       "        [ 6.25,  0.  ,  0.  ,  0.  ,  0.  ,  0.  ,  0.  ,  0.  ,  0.  ,\n",
       "          0.  ],\n",
       "        [ 0.  ,  0.  ,  0.  ,  0.  ,  0.  ,  0.  ,  0.  ,  0.  ,  0.  ,\n",
       "          0.  ],\n",
       "        [ 0.  ,  0.  ,  0.  ,  0.  ,  0.  ,  0.  ,  0.  ,  0.  ,  0.  ,\n",
       "          0.  ],\n",
       "        [ 0.  ,  0.  ,  0.  ,  0.  ,  0.  ,  0.  ,  0.  ,  0.  ,  0.  ,\n",
       "          0.  ]]])"
      ]
     },
     "execution_count": 339,
     "metadata": {},
     "output_type": "execute_result"
    }
   ],
   "source": [
    "array_with_mse"
   ]
  },
  {
   "cell_type": "code",
   "execution_count": 331,
   "metadata": {
    "ExecuteTime": {
     "end_time": "2022-07-16T14:45:58.537167Z",
     "start_time": "2022-07-16T14:45:58.527104Z"
    }
   },
   "outputs": [],
   "source": [
    "for i in range(0, 5):\n",
    "    for j in range(0,10):\n",
    "        for k in range(0,2):\n",
    "            array_with_mse[k][i][j] = (save_all_means[i][j] - weights[k][i][j]) ** 2 "
   ]
  },
  {
   "cell_type": "code",
   "execution_count": 332,
   "metadata": {
    "ExecuteTime": {
     "end_time": "2022-07-16T14:46:07.153939Z",
     "start_time": "2022-07-16T14:46:07.140297Z"
    },
    "scrolled": true
   },
   "outputs": [
    {
     "data": {
      "text/plain": [
       "array([[[ 6.25,  0.  ,  0.  ,  0.  ,  4.  ,  0.  , 16.  ,  0.  ,  0.  ,\n",
       "          0.  ],\n",
       "        [ 6.25,  0.  ,  0.  ,  0.  ,  0.  ,  0.  ,  0.  ,  0.  ,  0.  ,\n",
       "          0.  ],\n",
       "        [ 0.  ,  0.  ,  0.  ,  0.  ,  0.  ,  0.  ,  0.  ,  0.  ,  0.  ,\n",
       "          0.  ],\n",
       "        [ 0.  ,  0.  ,  0.  ,  0.  ,  0.  ,  0.  ,  0.  ,  0.  ,  0.  ,\n",
       "          0.  ],\n",
       "        [ 0.  ,  0.  ,  0.  ,  0.  ,  0.  ,  0.  ,  0.  ,  0.  ,  0.  ,\n",
       "          0.  ]],\n",
       "\n",
       "       [[ 6.25,  0.  ,  0.  ,  0.  ,  4.  ,  0.  , 16.  ,  0.  ,  0.  ,\n",
       "          0.  ],\n",
       "        [ 6.25,  0.  ,  0.  ,  0.  ,  0.  ,  0.  ,  0.  ,  0.  ,  0.  ,\n",
       "          0.  ],\n",
       "        [ 0.  ,  0.  ,  0.  ,  0.  ,  0.  ,  0.  ,  0.  ,  0.  ,  0.  ,\n",
       "          0.  ],\n",
       "        [ 0.  ,  0.  ,  0.  ,  0.  ,  0.  ,  0.  ,  0.  ,  0.  ,  0.  ,\n",
       "          0.  ],\n",
       "        [ 0.  ,  0.  ,  0.  ,  0.  ,  0.  ,  0.  ,  0.  ,  0.  ,  0.  ,\n",
       "          0.  ]]])"
      ]
     },
     "execution_count": 332,
     "metadata": {},
     "output_type": "execute_result"
    }
   ],
   "source": [
    "array_with_mse"
   ]
  },
  {
   "cell_type": "code",
   "execution_count": 357,
   "metadata": {
    "ExecuteTime": {
     "end_time": "2022-07-17T08:31:56.791709Z",
     "start_time": "2022-07-17T08:31:56.779750Z"
    }
   },
   "outputs": [],
   "source": [
    "folder_for_csv = '/Users/Anso/Code/Imperial_College/IndividualProject/adaptive-federated-learning/analysis_results/2022-07-16: 25 cases /overall_analysis' "
   ]
  },
  {
   "cell_type": "code",
   "execution_count": 344,
   "metadata": {
    "ExecuteTime": {
     "end_time": "2022-07-17T08:21:31.046532Z",
     "start_time": "2022-07-17T08:21:31.025089Z"
    }
   },
   "outputs": [],
   "source": [
    "aggregated_weights = np.zeros((2, 5))"
   ]
  },
  {
   "cell_type": "code",
   "execution_count": 348,
   "metadata": {
    "ExecuteTime": {
     "end_time": "2022-07-17T08:24:20.237695Z",
     "start_time": "2022-07-17T08:24:20.221854Z"
    },
    "scrolled": true
   },
   "outputs": [
    {
     "data": {
      "text/plain": [
       "array([[6., 0., 0., 0., 0.],\n",
       "       [0., 0., 0., 0., 0.]])"
      ]
     },
     "execution_count": 348,
     "metadata": {},
     "output_type": "execute_result"
    }
   ],
   "source": [
    "aggregated_weights"
   ]
  },
  {
   "cell_type": "code",
   "execution_count": 352,
   "metadata": {
    "ExecuteTime": {
     "end_time": "2022-07-17T08:24:43.410811Z",
     "start_time": "2022-07-17T08:24:43.394214Z"
    }
   },
   "outputs": [],
   "source": [
    "aggregated_weights[0][0] = 6\n",
    "aggregated_weights[0][2] = 8\n",
    "aggregated_weights[1][1] = 5\n",
    "aggregated_weights[1][4] = 9\n",
    "aggregated_weights[1][3] = 1"
   ]
  },
  {
   "cell_type": "code",
   "execution_count": 353,
   "metadata": {
    "ExecuteTime": {
     "end_time": "2022-07-17T08:24:44.003371Z",
     "start_time": "2022-07-17T08:24:43.989070Z"
    }
   },
   "outputs": [
    {
     "data": {
      "text/plain": [
       "array([[6., 0., 8., 0., 0.],\n",
       "       [0., 5., 0., 1., 9.]])"
      ]
     },
     "execution_count": 353,
     "metadata": {},
     "output_type": "execute_result"
    }
   ],
   "source": [
    "aggregated_weights"
   ]
  },
  {
   "cell_type": "code",
   "execution_count": 368,
   "metadata": {
    "ExecuteTime": {
     "end_time": "2022-07-17T08:45:33.865527Z",
     "start_time": "2022-07-17T08:45:33.838508Z"
    }
   },
   "outputs": [],
   "source": [
    "#Export average weight of each node over rounds\n",
    "weights_per_node_csv = os.path.join(folder_for_csv, 'weights_per_node.csv')\n",
    "weights_per_node = aggregated_weights\n",
    "with open(weights_per_node_csv, 'a') as csv:\n",
    "    for i in range (0, 2):\n",
    "        weights_per_node[i].tofile(csv, sep=',', format='%.18e')\n",
    "        csv.write('\\n')\n",
    "    csv.write('\\n')\n",
    "    csv.close()"
   ]
  },
  {
   "cell_type": "code",
   "execution_count": 371,
   "metadata": {
    "ExecuteTime": {
     "end_time": "2022-07-17T10:07:37.824511Z",
     "start_time": "2022-07-17T10:07:37.690883Z"
    }
   },
   "outputs": [],
   "source": [
    "weights_per_node_npy = os.path.join(folder_for_csv, 'weights_per_node.npy')\n",
    "with open(weights_per_node_npy, 'wb') as f:\n",
    "    np.save(f, weights_per_node)"
   ]
  },
  {
   "cell_type": "code",
   "execution_count": 369,
   "metadata": {
    "ExecuteTime": {
     "end_time": "2022-07-17T08:45:35.400665Z",
     "start_time": "2022-07-17T08:45:35.387190Z"
    },
    "scrolled": true
   },
   "outputs": [],
   "source": [
    "node_weights_csv = os.path.join(folder_for_csv, 'weights_per_node.csv')\n",
    "with open(node_weights_csv, 'r') as csv:\n",
    "    all_weights = loadtxt(csv ,delimiter = \",\")\n",
    "    csv.close()"
   ]
  },
  {
   "cell_type": "code",
   "execution_count": 374,
   "metadata": {
    "ExecuteTime": {
     "end_time": "2022-07-17T10:09:24.238362Z",
     "start_time": "2022-07-17T10:09:24.194201Z"
    }
   },
   "outputs": [
    {
     "ename": "OSError",
     "evalue": "Failed to interpret file <_io.BufferedReader name='/Users/Anso/Code/Imperial_College/IndividualProject/adaptive-federated-learning/analysis_results/2022-07-16: 25 cases /overall_analysis/weights_per_node.csv'> as a pickle",
     "output_type": "error",
     "traceback": [
      "\u001b[0;31m---------------------------------------------------------------------------\u001b[0m",
      "\u001b[0;31mUnpicklingError\u001b[0m                           Traceback (most recent call last)",
      "\u001b[0;32m~/.pyenv/versions/3.8.6/envs/lewagon/lib/python3.8/site-packages/numpy/lib/npyio.py\u001b[0m in \u001b[0;36mload\u001b[0;34m(file, mmap_mode, allow_pickle, fix_imports, encoding)\u001b[0m\n\u001b[1;32m    446\u001b[0m             \u001b[0;32mtry\u001b[0m\u001b[0;34m:\u001b[0m\u001b[0;34m\u001b[0m\u001b[0;34m\u001b[0m\u001b[0m\n\u001b[0;32m--> 447\u001b[0;31m                 \u001b[0;32mreturn\u001b[0m \u001b[0mpickle\u001b[0m\u001b[0;34m.\u001b[0m\u001b[0mload\u001b[0m\u001b[0;34m(\u001b[0m\u001b[0mfid\u001b[0m\u001b[0;34m,\u001b[0m \u001b[0;34m**\u001b[0m\u001b[0mpickle_kwargs\u001b[0m\u001b[0;34m)\u001b[0m\u001b[0;34m\u001b[0m\u001b[0;34m\u001b[0m\u001b[0m\n\u001b[0m\u001b[1;32m    448\u001b[0m             \u001b[0;32mexcept\u001b[0m \u001b[0mException\u001b[0m\u001b[0;34m:\u001b[0m\u001b[0;34m\u001b[0m\u001b[0;34m\u001b[0m\u001b[0m\n",
      "\u001b[0;31mUnpicklingError\u001b[0m: invalid load key, '\\x0a'.",
      "\nDuring handling of the above exception, another exception occurred:\n",
      "\u001b[0;31mOSError\u001b[0m                                   Traceback (most recent call last)",
      "\u001b[0;32m<ipython-input-374-996fd16eb9da>\u001b[0m in \u001b[0;36m<module>\u001b[0;34m\u001b[0m\n\u001b[1;32m      1\u001b[0m \u001b[0;32mwith\u001b[0m \u001b[0mopen\u001b[0m\u001b[0;34m(\u001b[0m\u001b[0mnode_weights_csv\u001b[0m\u001b[0;34m,\u001b[0m \u001b[0;34m'rb'\u001b[0m\u001b[0;34m)\u001b[0m \u001b[0;32mas\u001b[0m \u001b[0mf\u001b[0m\u001b[0;34m:\u001b[0m\u001b[0;34m\u001b[0m\u001b[0;34m\u001b[0m\u001b[0m\n\u001b[0;32m----> 2\u001b[0;31m     \u001b[0ma\u001b[0m \u001b[0;34m=\u001b[0m \u001b[0mnp\u001b[0m\u001b[0;34m.\u001b[0m\u001b[0mload\u001b[0m\u001b[0;34m(\u001b[0m\u001b[0mf\u001b[0m\u001b[0;34m,\u001b[0m \u001b[0mallow_pickle\u001b[0m\u001b[0;34m=\u001b[0m\u001b[0;32mTrue\u001b[0m\u001b[0;34m)\u001b[0m\u001b[0;34m\u001b[0m\u001b[0;34m\u001b[0m\u001b[0m\n\u001b[0m",
      "\u001b[0;32m~/.pyenv/versions/3.8.6/envs/lewagon/lib/python3.8/site-packages/numpy/lib/npyio.py\u001b[0m in \u001b[0;36mload\u001b[0;34m(file, mmap_mode, allow_pickle, fix_imports, encoding)\u001b[0m\n\u001b[1;32m    447\u001b[0m                 \u001b[0;32mreturn\u001b[0m \u001b[0mpickle\u001b[0m\u001b[0;34m.\u001b[0m\u001b[0mload\u001b[0m\u001b[0;34m(\u001b[0m\u001b[0mfid\u001b[0m\u001b[0;34m,\u001b[0m \u001b[0;34m**\u001b[0m\u001b[0mpickle_kwargs\u001b[0m\u001b[0;34m)\u001b[0m\u001b[0;34m\u001b[0m\u001b[0;34m\u001b[0m\u001b[0m\n\u001b[1;32m    448\u001b[0m             \u001b[0;32mexcept\u001b[0m \u001b[0mException\u001b[0m\u001b[0;34m:\u001b[0m\u001b[0;34m\u001b[0m\u001b[0;34m\u001b[0m\u001b[0m\n\u001b[0;32m--> 449\u001b[0;31m                 raise IOError(\n\u001b[0m\u001b[1;32m    450\u001b[0m                     \"Failed to interpret file %s as a pickle\" % repr(file))\n\u001b[1;32m    451\u001b[0m \u001b[0;34m\u001b[0m\u001b[0m\n",
      "\u001b[0;31mOSError\u001b[0m: Failed to interpret file <_io.BufferedReader name='/Users/Anso/Code/Imperial_College/IndividualProject/adaptive-federated-learning/analysis_results/2022-07-16: 25 cases /overall_analysis/weights_per_node.csv'> as a pickle"
     ]
    }
   ],
   "source": [
    "with open(node_weights_csv, 'rb') as f:\n",
    "    a = np.load(f, allow_pickle=True)"
   ]
  },
  {
   "cell_type": "code",
   "execution_count": 370,
   "metadata": {
    "ExecuteTime": {
     "end_time": "2022-07-17T08:45:37.365209Z",
     "start_time": "2022-07-17T08:45:37.346866Z"
    },
    "scrolled": true
   },
   "outputs": [
    {
     "data": {
      "text/plain": [
       "array([[6., 0., 8., 0., 0.],\n",
       "       [0., 5., 0., 1., 9.]])"
      ]
     },
     "execution_count": 370,
     "metadata": {},
     "output_type": "execute_result"
    }
   ],
   "source": [
    "all_weights"
   ]
  },
  {
   "cell_type": "code",
   "execution_count": 385,
   "metadata": {
    "ExecuteTime": {
     "end_time": "2022-07-17T10:23:14.279738Z",
     "start_time": "2022-07-17T10:23:14.248748Z"
    }
   },
   "outputs": [
    {
     "ename": "TypeError",
     "evalue": "Cannot interpret '2' as a data type",
     "output_type": "error",
     "traceback": [
      "\u001b[0;31m---------------------------------------------------------------------------\u001b[0m",
      "\u001b[0;31mTypeError\u001b[0m                                 Traceback (most recent call last)",
      "\u001b[0;32m<ipython-input-385-60a518ef8ada>\u001b[0m in \u001b[0;36m<module>\u001b[0;34m\u001b[0m\n\u001b[0;32m----> 1\u001b[0;31m \u001b[0marray\u001b[0m \u001b[0;34m=\u001b[0m \u001b[0mnp\u001b[0m\u001b[0;34m.\u001b[0m\u001b[0marray\u001b[0m\u001b[0;34m(\u001b[0m\u001b[0;36m5\u001b[0m\u001b[0;34m,\u001b[0m \u001b[0;36m2\u001b[0m\u001b[0;34m)\u001b[0m\u001b[0;34m\u001b[0m\u001b[0;34m\u001b[0m\u001b[0m\n\u001b[0m",
      "\u001b[0;31mTypeError\u001b[0m: Cannot interpret '2' as a data type"
     ]
    }
   ],
   "source": [
    "array = np.array(5, 2)"
   ]
  },
  {
   "cell_type": "code",
   "execution_count": 386,
   "metadata": {
    "ExecuteTime": {
     "end_time": "2022-07-17T10:27:33.836752Z",
     "start_time": "2022-07-17T10:27:33.781144Z"
    }
   },
   "outputs": [],
   "source": [
    "multiplied_list = [value * 3 for value in array]"
   ]
  },
  {
   "cell_type": "code",
   "execution_count": 387,
   "metadata": {
    "ExecuteTime": {
     "end_time": "2022-07-17T10:27:36.372638Z",
     "start_time": "2022-07-17T10:27:36.352727Z"
    }
   },
   "outputs": [
    {
     "data": {
      "text/plain": [
       "[15, 6, 3]"
      ]
     },
     "execution_count": 387,
     "metadata": {},
     "output_type": "execute_result"
    }
   ],
   "source": [
    "multiplied_list"
   ]
  },
  {
   "cell_type": "code",
   "execution_count": 389,
   "metadata": {
    "ExecuteTime": {
     "end_time": "2022-07-18T12:16:10.911592Z",
     "start_time": "2022-07-18T12:16:10.900428Z"
    }
   },
   "outputs": [],
   "source": [
    "a_array = [3, 4, 5, 6, 1 ,7, 8, 4, 3]"
   ]
  },
  {
   "cell_type": "code",
   "execution_count": 390,
   "metadata": {
    "ExecuteTime": {
     "end_time": "2022-07-18T12:16:24.727160Z",
     "start_time": "2022-07-18T12:16:24.709632Z"
    }
   },
   "outputs": [
    {
     "data": {
      "text/plain": [
       "[4, 3]"
      ]
     },
     "execution_count": 390,
     "metadata": {},
     "output_type": "execute_result"
    }
   ],
   "source": [
    "a_array[-2:]"
   ]
  },
  {
   "cell_type": "code",
   "execution_count": 393,
   "metadata": {
    "ExecuteTime": {
     "end_time": "2022-07-18T12:35:37.052488Z",
     "start_time": "2022-07-18T12:35:37.040344Z"
    }
   },
   "outputs": [],
   "source": [
    "# Plot Array with avergae Accum mse\n",
    "max_rounds = 5\n",
    "number_of_nodes = 3\n",
    "average_mse_accum = np.zeros((number_of_nodes, max_rounds))\n",
    "array_with_accum_mse = np.zeros((number_of_nodes, max_rounds))"
   ]
  },
  {
   "cell_type": "code",
   "execution_count": 394,
   "metadata": {
    "ExecuteTime": {
     "end_time": "2022-07-18T12:35:39.494260Z",
     "start_time": "2022-07-18T12:35:39.477560Z"
    },
    "scrolled": true
   },
   "outputs": [
    {
     "data": {
      "text/plain": [
       "array([[0., 0., 0., 0., 0.],\n",
       "       [0., 0., 0., 0., 0.],\n",
       "       [0., 0., 0., 0., 0.]])"
      ]
     },
     "execution_count": 394,
     "metadata": {},
     "output_type": "execute_result"
    }
   ],
   "source": [
    "array_with_accum_mse"
   ]
  },
  {
   "cell_type": "code",
   "execution_count": 396,
   "metadata": {
    "ExecuteTime": {
     "end_time": "2022-07-18T12:37:35.196360Z",
     "start_time": "2022-07-18T12:37:35.187728Z"
    }
   },
   "outputs": [],
   "source": [
    "for i in range(0, len(array_with_accum_mse)):\n",
    "    array_with_accum_mse[i] = i"
   ]
  },
  {
   "cell_type": "code",
   "execution_count": 406,
   "metadata": {
    "ExecuteTime": {
     "end_time": "2022-07-18T12:39:08.651138Z",
     "start_time": "2022-07-18T12:39:08.641090Z"
    }
   },
   "outputs": [],
   "source": [
    "array_with_accum_mse[1][3] = 9"
   ]
  },
  {
   "cell_type": "code",
   "execution_count": 420,
   "metadata": {
    "ExecuteTime": {
     "end_time": "2022-07-18T13:19:59.900733Z",
     "start_time": "2022-07-18T13:19:59.886369Z"
    }
   },
   "outputs": [
    {
     "data": {
      "text/plain": [
       "array([[0., 7., 0., 0., 9.],\n",
       "       [8., 1., 1., 9., 1.],\n",
       "       [2., 2., 2., 2., 6.]])"
      ]
     },
     "execution_count": 420,
     "metadata": {},
     "output_type": "execute_result"
    }
   ],
   "source": [
    "array_with_accum_mse"
   ]
  },
  {
   "cell_type": "code",
   "execution_count": 433,
   "metadata": {
    "ExecuteTime": {
     "end_time": "2022-07-19T08:18:36.892751Z",
     "start_time": "2022-07-19T08:18:36.812378Z"
    }
   },
   "outputs": [
    {
     "name": "stdout",
     "output_type": "stream",
     "text": [
      "sum  0.0\n",
      "div by 1\n",
      "result 0.0\n",
      "sum  7.0\n",
      "div by 2\n",
      "result 3.5\n",
      "sum  7.0\n",
      "div by 3\n",
      "result 2.3333333333333335\n",
      "test\n",
      "test\n",
      "test\n",
      "test\n",
      "finish\n",
      "test\n",
      "test\n",
      "test\n",
      "test\n",
      "finish\n",
      "sum  8.0\n",
      "div by 1\n",
      "result 8.0\n",
      "sum  9.0\n",
      "div by 2\n",
      "result 4.5\n",
      "sum  10.0\n",
      "div by 3\n",
      "result 3.3333333333333335\n",
      "test\n",
      "test\n",
      "test\n",
      "test\n",
      "finish\n",
      "test\n",
      "test\n",
      "test\n",
      "test\n",
      "finish\n",
      "sum  2.0\n",
      "div by 1\n",
      "result 2.0\n",
      "sum  4.0\n",
      "div by 2\n",
      "result 2.0\n",
      "sum  6.0\n",
      "div by 3\n",
      "result 2.0\n",
      "test\n",
      "test\n",
      "test\n",
      "test\n",
      "finish\n",
      "test\n",
      "test\n",
      "test\n",
      "test\n",
      "finish\n"
     ]
    }
   ],
   "source": [
    "average_out_of = 4\n",
    "for j in range(0, number_of_nodes):\n",
    "    for i in range(0, max_rounds):\n",
    "        if (i < average_out_of - 1):\n",
    "            #THIS IS WRONG RIGHT NOW!!!\n",
    "            sum = 0\n",
    "            for k in range(0, i+1):\n",
    "                sum += array_with_accum_mse[j][k]\n",
    "            div_by = i+1\n",
    "            print(\"sum \", sum)\n",
    "            print(\"div by\", div_by)\n",
    "            sum /= div_by\n",
    "            average_mse_accum[j][i] = sum\n",
    "            print(\"result\", average_mse_accum[j][i])\n",
    "        else:\n",
    "            sum = 0\n",
    "            for k in range(i + 1 - average_out_of, i+1):\n",
    "                print(\"test\")\n",
    "                sum += array_with_accum_mse[j][k]\n",
    "            sum /= average_out_of\n",
    "            print(\"finish\")\n",
    "            average_mse_accum[j][i] = sum"
   ]
  },
  {
   "cell_type": "code",
   "execution_count": 434,
   "metadata": {
    "ExecuteTime": {
     "end_time": "2022-07-19T08:31:35.528911Z",
     "start_time": "2022-07-19T08:31:35.515826Z"
    }
   },
   "outputs": [],
   "source": [
    "number_of_nodes = 3\n",
    "max_rounds = 5\n",
    "array_with_accum_mse = np.zeros((number_of_nodes, max_rounds))"
   ]
  },
  {
   "cell_type": "code",
   "execution_count": 437,
   "metadata": {
    "ExecuteTime": {
     "end_time": "2022-07-19T08:32:41.727226Z",
     "start_time": "2022-07-19T08:32:41.708072Z"
    }
   },
   "outputs": [
    {
     "data": {
      "text/plain": [
       "array([[4., 4., 1., 4., 4.],\n",
       "       [1., 6., 6., 6., 6.],\n",
       "       [9., 1., 9., 9., 9.]])"
      ]
     },
     "execution_count": 437,
     "metadata": {},
     "output_type": "execute_result"
    }
   ],
   "source": [
    "array_with_accum_mse[0] = 4\n",
    "array_with_accum_mse[1] = 6\n",
    "array_with_accum_mse[2] = 9\n",
    "array_with_accum_mse[0][2] = 1\n",
    "array_with_accum_mse[1][0] = 1\n",
    "array_with_accum_mse[2][1] = 1\n",
    "array_with_accum_mse"
   ]
  },
  {
   "cell_type": "code",
   "execution_count": 441,
   "metadata": {
    "ExecuteTime": {
     "end_time": "2022-07-19T08:33:29.916784Z",
     "start_time": "2022-07-19T08:33:29.896564Z"
    }
   },
   "outputs": [
    {
     "data": {
      "text/plain": [
       "array([[4.        , 4.        , 3.        , 3.25      , 3.25      ],\n",
       "       [1.        , 3.5       , 4.33333333, 4.75      , 6.        ],\n",
       "       [9.        , 5.        , 6.33333333, 7.        , 7.        ]])"
      ]
     },
     "execution_count": 441,
     "metadata": {},
     "output_type": "execute_result"
    }
   ],
   "source": [
    "average_out_of = 4\n",
    "\n",
    "average_mse_accum = np.zeros((number_of_nodes, max_rounds))\n",
    "\n",
    "#Create analyses\n",
    "for j in range(0, number_of_nodes):\n",
    "    for i in range(0, max_rounds):\n",
    "        if (i < average_out_of - 1):\n",
    "            sum = 0\n",
    "            for k in range(0, i+1):\n",
    "                sum += array_with_accum_mse[j][k]\n",
    "            div_by = i+1\n",
    "            sum /= div_by\n",
    "            average_mse_accum[j][i] = sum\n",
    "        else:\n",
    "            sum = 0\n",
    "            for k in range(i + 1 - average_out_of, i+1):\n",
    "                sum += array_with_accum_mse[j][k]\n",
    "            sum /= average_out_of\n",
    "            average_mse_accum[j][i] = sum\n",
    "            \n",
    "average_mse_accum    "
   ]
  },
  {
   "cell_type": "code",
   "execution_count": 427,
   "metadata": {
    "ExecuteTime": {
     "end_time": "2022-07-19T08:14:41.803911Z",
     "start_time": "2022-07-19T08:14:41.736963Z"
    }
   },
   "outputs": [
    {
     "name": "stdout",
     "output_type": "stream",
     "text": [
      "test\n",
      "test\n",
      "test\n",
      "finish\n",
      "test\n",
      "test\n",
      "test\n",
      "finish\n",
      "test\n",
      "test\n",
      "test\n",
      "finish\n",
      "test\n",
      "test\n",
      "test\n",
      "finish\n",
      "test\n",
      "test\n",
      "test\n",
      "finish\n",
      "test\n",
      "test\n",
      "test\n",
      "finish\n",
      "test\n",
      "test\n",
      "test\n",
      "finish\n",
      "test\n",
      "test\n",
      "test\n",
      "finish\n",
      "test\n",
      "test\n",
      "test\n",
      "finish\n"
     ]
    }
   ],
   "source": [
    "average_out_of = 3\n",
    "for j in range(0, number_of_nodes):\n",
    "    for i in range(0, max_rounds):\n",
    "        if (i < average_out_of - 1):\n",
    "            average_mse_accum[j][i] = array_with_accum_mse[j][i]\n",
    "        else:\n",
    "            sum = 0\n",
    "            for k in range(i + 1 - average_out_of, i+1):\n",
    "                print(\"test\")\n",
    "                sum += array_with_accum_mse[j][k]\n",
    "            sum /= average_out_of\n",
    "            print(\"finish\")\n",
    "            average_mse_accum[j][i] = sum"
   ]
  },
  {
   "cell_type": "code",
   "execution_count": 424,
   "metadata": {
    "ExecuteTime": {
     "end_time": "2022-07-18T13:22:09.420693Z",
     "start_time": "2022-07-18T13:22:09.407767Z"
    }
   },
   "outputs": [
    {
     "data": {
      "text/plain": [
       "array([[0.        , 7.        , 2.33333333, 2.33333333, 3.        ],\n",
       "       [8.        , 1.        , 3.33333333, 3.66666667, 3.66666667],\n",
       "       [2.        , 2.        , 2.        , 2.        , 3.33333333]])"
      ]
     },
     "execution_count": 424,
     "metadata": {},
     "output_type": "execute_result"
    }
   ],
   "source": [
    "average_mse_accum"
   ]
  },
  {
   "cell_type": "code",
   "execution_count": 415,
   "metadata": {
    "ExecuteTime": {
     "end_time": "2022-07-18T13:18:10.092572Z",
     "start_time": "2022-07-18T13:18:10.079390Z"
    }
   },
   "outputs": [
    {
     "name": "stdout",
     "output_type": "stream",
     "text": [
      "0\n",
      "1\n",
      "2\n",
      "3\n"
     ]
    }
   ],
   "source": [
    "for i in range(0, 4):\n",
    "    print(i)"
   ]
  },
  {
   "cell_type": "code",
   "execution_count": 460,
   "metadata": {
    "ExecuteTime": {
     "end_time": "2022-07-23T13:19:08.141743Z",
     "start_time": "2022-07-23T13:19:08.137001Z"
    }
   },
   "outputs": [],
   "source": [
    "array_with_accum_mse_10_values =  np.copy(array_with_accum_mse)"
   ]
  },
  {
   "cell_type": "code",
   "execution_count": 461,
   "metadata": {
    "ExecuteTime": {
     "end_time": "2022-07-23T13:19:08.588909Z",
     "start_time": "2022-07-23T13:19:08.566554Z"
    }
   },
   "outputs": [
    {
     "data": {
      "text/plain": [
       "array([[4., 4., 1., 4., 4.],\n",
       "       [1., 6., 6., 6., 6.],\n",
       "       [9., 1., 9., 9., 9.]])"
      ]
     },
     "execution_count": 461,
     "metadata": {},
     "output_type": "execute_result"
    }
   ],
   "source": [
    "array_with_accum_mse_10_values"
   ]
  },
  {
   "cell_type": "code",
   "execution_count": 462,
   "metadata": {
    "ExecuteTime": {
     "end_time": "2022-07-23T13:19:09.013231Z",
     "start_time": "2022-07-23T13:19:08.995010Z"
    }
   },
   "outputs": [],
   "source": [
    "array_with_accum_mse_10_values = np.delete(array_with_accum_mse_10_values, 0)"
   ]
  },
  {
   "cell_type": "code",
   "execution_count": 463,
   "metadata": {
    "ExecuteTime": {
     "end_time": "2022-07-23T13:19:09.529355Z",
     "start_time": "2022-07-23T13:19:09.504433Z"
    },
    "scrolled": true
   },
   "outputs": [
    {
     "data": {
      "text/plain": [
       "array([4., 1., 4., 4., 1., 6., 6., 6., 6., 9., 1., 9., 9., 9.])"
      ]
     },
     "execution_count": 463,
     "metadata": {},
     "output_type": "execute_result"
    }
   ],
   "source": [
    "array_with_accum_mse_10_values"
   ]
  },
  {
   "cell_type": "code",
   "execution_count": 100,
   "metadata": {
    "ExecuteTime": {
     "end_time": "2022-07-27T16:35:57.604991Z",
     "start_time": "2022-07-27T16:35:57.600677Z"
    }
   },
   "outputs": [],
   "source": [
    "mean_array = np.zeros((2, 10))\n",
    "# 2 rows, 10 columns"
   ]
  },
  {
   "cell_type": "code",
   "execution_count": 101,
   "metadata": {
    "ExecuteTime": {
     "end_time": "2022-07-27T16:35:58.968986Z",
     "start_time": "2022-07-27T16:35:58.958242Z"
    }
   },
   "outputs": [
    {
     "data": {
      "text/plain": [
       "array([[ 3.,  3.,  4.,  5.,  7., 19., 92., 95.,  0.,  0.],\n",
       "       [ 0.,  0.,  0.,  0.,  0.,  6.,  0.,  0.,  1.,  0.]])"
      ]
     },
     "execution_count": 101,
     "metadata": {},
     "output_type": "execute_result"
    }
   ],
   "source": [
    "mean_array[0][0] = 3\n",
    "mean_array[1][5] = 6\n",
    "mean_array[1][8] = 1\n",
    "mean_array[0][1] = 3\n",
    "mean_array[0][2] = 4\n",
    "mean_array[0][3] = 5\n",
    "mean_array[0][4] = 7\n",
    "mean_array[0][5] = 19\n",
    "mean_array[0][6] = 92\n",
    "mean_array[0][7] = 95\n",
    "\n",
    "mean_array"
   ]
  },
  {
   "cell_type": "code",
   "execution_count": null,
   "metadata": {},
   "outputs": [],
   "source": []
  },
  {
   "cell_type": "code",
   "execution_count": 104,
   "metadata": {
    "ExecuteTime": {
     "end_time": "2022-07-27T16:36:33.329244Z",
     "start_time": "2022-07-27T16:36:33.323498Z"
    }
   },
   "outputs": [],
   "source": [
    "import numpy as np\n",
    "indicies_larges_weights = np.argpartition(mean_array, 1, axis=-1)[:,:]"
   ]
  },
  {
   "cell_type": "code",
   "execution_count": 105,
   "metadata": {
    "ExecuteTime": {
     "end_time": "2022-07-27T16:36:33.722241Z",
     "start_time": "2022-07-27T16:36:33.710043Z"
    }
   },
   "outputs": [
    {
     "data": {
      "text/plain": [
       "array([[8, 9, 2, 3, 4, 5, 6, 7, 0, 1],\n",
       "       [0, 1, 2, 3, 4, 5, 6, 7, 8, 9]])"
      ]
     },
     "execution_count": 105,
     "metadata": {},
     "output_type": "execute_result"
    }
   ],
   "source": [
    "indicies_larges_weights"
   ]
  },
  {
   "cell_type": "code",
   "execution_count": 109,
   "metadata": {
    "ExecuteTime": {
     "end_time": "2022-07-27T16:52:16.991653Z",
     "start_time": "2022-07-27T16:52:16.982252Z"
    }
   },
   "outputs": [
    {
     "name": "stdout",
     "output_type": "stream",
     "text": [
      "[4 3 1]\n",
      "[4 3 1]\n"
     ]
    }
   ],
   "source": [
    "arr = np.array([[1, 3, 2, 4, 5],[2,3,1,4,5]])\n",
    "for row in range(len(arr)):\n",
    "    print(arr[row].argsort()[-3:][::-1]) #second bracket turns out around"
   ]
  },
  {
   "cell_type": "code",
   "execution_count": null,
   "metadata": {},
   "outputs": [],
   "source": [
    "array_median_error_all_nodes = np.median(array_with_accum_mse, axis = 0)\n"
   ]
  }
 ],
 "metadata": {
  "kernelspec": {
   "display_name": "Python 3",
   "language": "python",
   "name": "python3"
  },
  "language_info": {
   "codemirror_mode": {
    "name": "ipython",
    "version": 3
   },
   "file_extension": ".py",
   "mimetype": "text/x-python",
   "name": "python",
   "nbconvert_exporter": "python",
   "pygments_lexer": "ipython3",
   "version": "3.8.6"
  },
  "toc": {
   "base_numbering": 1,
   "nav_menu": {},
   "number_sections": true,
   "sideBar": true,
   "skip_h1_title": false,
   "title_cell": "Table of Contents",
   "title_sidebar": "Contents",
   "toc_cell": false,
   "toc_position": {},
   "toc_section_display": true,
   "toc_window_display": false
  }
 },
 "nbformat": 4,
 "nbformat_minor": 4
}
